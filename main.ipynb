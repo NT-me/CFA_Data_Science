{
  "cells": [
    {
      "cell_type": "code",
      "source": [
        "import pandas as pd\n"
      ],
      "outputs": [],
      "execution_count": null,
      "metadata": {
        "jupyter": {
          "source_hidden": false,
          "outputs_hidden": false
        },
        "nteract": {
          "transient": {
            "deleting": false
          }
        }
      }
    },
    {
      "cell_type": "code",
      "source": [
        "rawData = pd.read_csv(\"dataset/athlete_events.csv\")\n",
        "\n",
        "rawData.describe()\n",
        "\n",
        "rawData.head()"
      ],
      "outputs": [],
      "execution_count": null,
      "metadata": {
        "jupyter": {
          "source_hidden": false,
          "outputs_hidden": false
        },
        "nteract": {
          "transient": {
            "deleting": false
          }
        }
      }
    },
    {
      "cell_type": "markdown",
      "source": [
        "Données qu'on considère comme ne pouvant pas être null à cause :\n",
        "**Du non sens physique**\n",
        "- Age\n",
        "- Height\n",
        "- Weight\n",
        "- Sex\n",
        "**Pour les besoins du process de traitement**\n",
        "- Sport\n",
        "\n",
        "Au contraire ce que qui peut rester null :\n",
        "- Medal"
      ],
      "metadata": {
        "nteract": {
          "transient": {
            "deleting": false
          }
        }
      }
    },
    {
      "cell_type": "code",
      "source": [
        "rawData.isnull()\n",
        "\n",
        "print(\"Taille pré nettoyage :\" + str(len(rawData)))\n",
        "clearData = rawData[(rawData[\"Height\"].isnull() == False) & \\\n",
        "                    (rawData[\"Age\"].isnull() == False) & \\\n",
        "                    (rawData[\"Weight\"].isnull() == False) & \\\n",
        "                    (rawData[\"Sex\"].isnull() == False) & \\\n",
        "                    (rawData[\"Sport\"].isnull() == False)\n",
        "                    ]\n",
        "clearData = clearData.drop_duplicates()\n",
        "print(\"Taille post nettoyage :\" + str(len(clearData)))\n",
        "print(\"Il y'a donc une perte de \" + str(len(rawData) - len(clearData)))\n",
        "clearData.head()"
      ],
      "outputs": [],
      "execution_count": null,
      "metadata": {
        "jupyter": {
          "source_hidden": false,
          "outputs_hidden": false
        },
        "nteract": {
          "transient": {
            "deleting": false
          }
        }
      }
    }
  ],
  "metadata": {
    "kernelspec": {
      "argv": [
        "/usr/bin/python3",
        "-m",
        "ipykernel_launcher",
        "-f",
        "{connection_file}"
      ],
      "display_name": "Python 3 (ipykernel)",
      "language": "python",
      "metadata": {
        "debugger": true
      },
      "name": "python3"
    }
  },
  "nbformat": 4,
  "nbformat_minor": 0
}