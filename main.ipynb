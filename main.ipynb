{
 "cells": [
  {
   "cell_type": "code",
   "execution_count": 1,
   "metadata": {},
   "outputs": [],
   "source": [
    "import pandas as pd\n",
    "import matplotlib.pyplot as plt\n",
    "import seaborn as sns\n",
    "import numpy as np\n",
    "from sklearn.preprocessing import LabelEncoder, OneHotEncoder, MinMaxScaler\n",
    "from sklearn.feature_extraction import DictVectorizer\n",
    "from sklearn.utils import shuffle\n",
    "from sklearn.model_selection import train_test_split\n",
    "from sklearn.ensemble import RandomForestClassifier\n",
    "\n",
    "from sklearn.linear_model import LogisticRegression\n",
    "from sklearn.datasets import make_blobs\n",
    "from sklearn.metrics import classification_report, accuracy_score\n",
    "import sklearn\n",
    "from sklearn.utils import shuffle\n",
    "import xgboost as xgb"
   ]
  },
  {
   "cell_type": "markdown",
   "metadata": {},
   "source": [
    "**Problématique choisis :** Est-il possible de prévoir quelles variables physqiues permettent de remporter des médailles ?"
   ]
  },
  {
   "cell_type": "markdown",
   "metadata": {},
   "source": [
    "# Présentation du data set"
   ]
  },
  {
   "cell_type": "code",
   "execution_count": 2,
   "metadata": {},
   "outputs": [
    {
     "data": {
      "text/html": [
       "<div>\n",
       "<style scoped>\n",
       "    .dataframe tbody tr th:only-of-type {\n",
       "        vertical-align: middle;\n",
       "    }\n",
       "\n",
       "    .dataframe tbody tr th {\n",
       "        vertical-align: top;\n",
       "    }\n",
       "\n",
       "    .dataframe thead th {\n",
       "        text-align: right;\n",
       "    }\n",
       "</style>\n",
       "<table border=\"1\" class=\"dataframe\">\n",
       "  <thead>\n",
       "    <tr style=\"text-align: right;\">\n",
       "      <th></th>\n",
       "      <th>ID</th>\n",
       "      <th>Name</th>\n",
       "      <th>Sex</th>\n",
       "      <th>Age</th>\n",
       "      <th>Height</th>\n",
       "      <th>Weight</th>\n",
       "      <th>Team</th>\n",
       "      <th>NOC</th>\n",
       "      <th>Games</th>\n",
       "      <th>Year</th>\n",
       "      <th>Season</th>\n",
       "      <th>City</th>\n",
       "      <th>Sport</th>\n",
       "      <th>Event</th>\n",
       "      <th>Medal</th>\n",
       "    </tr>\n",
       "  </thead>\n",
       "  <tbody>\n",
       "    <tr>\n",
       "      <th>0</th>\n",
       "      <td>1</td>\n",
       "      <td>A Dijiang</td>\n",
       "      <td>M</td>\n",
       "      <td>24.0</td>\n",
       "      <td>180.0</td>\n",
       "      <td>80.0</td>\n",
       "      <td>China</td>\n",
       "      <td>CHN</td>\n",
       "      <td>1992 Summer</td>\n",
       "      <td>1992</td>\n",
       "      <td>Summer</td>\n",
       "      <td>Barcelona</td>\n",
       "      <td>Basketball</td>\n",
       "      <td>Basketball Men's Basketball</td>\n",
       "      <td>NaN</td>\n",
       "    </tr>\n",
       "    <tr>\n",
       "      <th>1</th>\n",
       "      <td>2</td>\n",
       "      <td>A Lamusi</td>\n",
       "      <td>M</td>\n",
       "      <td>23.0</td>\n",
       "      <td>170.0</td>\n",
       "      <td>60.0</td>\n",
       "      <td>China</td>\n",
       "      <td>CHN</td>\n",
       "      <td>2012 Summer</td>\n",
       "      <td>2012</td>\n",
       "      <td>Summer</td>\n",
       "      <td>London</td>\n",
       "      <td>Judo</td>\n",
       "      <td>Judo Men's Extra-Lightweight</td>\n",
       "      <td>NaN</td>\n",
       "    </tr>\n",
       "    <tr>\n",
       "      <th>2</th>\n",
       "      <td>3</td>\n",
       "      <td>Gunnar Nielsen Aaby</td>\n",
       "      <td>M</td>\n",
       "      <td>24.0</td>\n",
       "      <td>NaN</td>\n",
       "      <td>NaN</td>\n",
       "      <td>Denmark</td>\n",
       "      <td>DEN</td>\n",
       "      <td>1920 Summer</td>\n",
       "      <td>1920</td>\n",
       "      <td>Summer</td>\n",
       "      <td>Antwerpen</td>\n",
       "      <td>Football</td>\n",
       "      <td>Football Men's Football</td>\n",
       "      <td>NaN</td>\n",
       "    </tr>\n",
       "    <tr>\n",
       "      <th>3</th>\n",
       "      <td>4</td>\n",
       "      <td>Edgar Lindenau Aabye</td>\n",
       "      <td>M</td>\n",
       "      <td>34.0</td>\n",
       "      <td>NaN</td>\n",
       "      <td>NaN</td>\n",
       "      <td>Denmark/Sweden</td>\n",
       "      <td>DEN</td>\n",
       "      <td>1900 Summer</td>\n",
       "      <td>1900</td>\n",
       "      <td>Summer</td>\n",
       "      <td>Paris</td>\n",
       "      <td>Tug-Of-War</td>\n",
       "      <td>Tug-Of-War Men's Tug-Of-War</td>\n",
       "      <td>Gold</td>\n",
       "    </tr>\n",
       "    <tr>\n",
       "      <th>4</th>\n",
       "      <td>5</td>\n",
       "      <td>Christine Jacoba Aaftink</td>\n",
       "      <td>F</td>\n",
       "      <td>21.0</td>\n",
       "      <td>185.0</td>\n",
       "      <td>82.0</td>\n",
       "      <td>Netherlands</td>\n",
       "      <td>NED</td>\n",
       "      <td>1988 Winter</td>\n",
       "      <td>1988</td>\n",
       "      <td>Winter</td>\n",
       "      <td>Calgary</td>\n",
       "      <td>Speed Skating</td>\n",
       "      <td>Speed Skating Women's 500 metres</td>\n",
       "      <td>NaN</td>\n",
       "    </tr>\n",
       "  </tbody>\n",
       "</table>\n",
       "</div>"
      ],
      "text/plain": [
       "   ID                      Name Sex   Age  Height  Weight            Team  \\\n",
       "0   1                 A Dijiang   M  24.0   180.0    80.0           China   \n",
       "1   2                  A Lamusi   M  23.0   170.0    60.0           China   \n",
       "2   3       Gunnar Nielsen Aaby   M  24.0     NaN     NaN         Denmark   \n",
       "3   4      Edgar Lindenau Aabye   M  34.0     NaN     NaN  Denmark/Sweden   \n",
       "4   5  Christine Jacoba Aaftink   F  21.0   185.0    82.0     Netherlands   \n",
       "\n",
       "   NOC        Games  Year  Season       City          Sport  \\\n",
       "0  CHN  1992 Summer  1992  Summer  Barcelona     Basketball   \n",
       "1  CHN  2012 Summer  2012  Summer     London           Judo   \n",
       "2  DEN  1920 Summer  1920  Summer  Antwerpen       Football   \n",
       "3  DEN  1900 Summer  1900  Summer      Paris     Tug-Of-War   \n",
       "4  NED  1988 Winter  1988  Winter    Calgary  Speed Skating   \n",
       "\n",
       "                              Event Medal  \n",
       "0       Basketball Men's Basketball   NaN  \n",
       "1      Judo Men's Extra-Lightweight   NaN  \n",
       "2           Football Men's Football   NaN  \n",
       "3       Tug-Of-War Men's Tug-Of-War  Gold  \n",
       "4  Speed Skating Women's 500 metres   NaN  "
      ]
     },
     "execution_count": 2,
     "metadata": {},
     "output_type": "execute_result"
    }
   ],
   "source": [
    "rawData = pd.read_csv(\"dataset/athlete_events.csv\")\n",
    "\n",
    "rawData.head()"
   ]
  },
  {
   "cell_type": "code",
   "execution_count": 3,
   "metadata": {},
   "outputs": [
    {
     "data": {
      "text/html": [
       "<div>\n",
       "<style scoped>\n",
       "    .dataframe tbody tr th:only-of-type {\n",
       "        vertical-align: middle;\n",
       "    }\n",
       "\n",
       "    .dataframe tbody tr th {\n",
       "        vertical-align: top;\n",
       "    }\n",
       "\n",
       "    .dataframe thead th {\n",
       "        text-align: right;\n",
       "    }\n",
       "</style>\n",
       "<table border=\"1\" class=\"dataframe\">\n",
       "  <thead>\n",
       "    <tr style=\"text-align: right;\">\n",
       "      <th></th>\n",
       "      <th>ID</th>\n",
       "      <th>Age</th>\n",
       "      <th>Height</th>\n",
       "      <th>Weight</th>\n",
       "      <th>Year</th>\n",
       "    </tr>\n",
       "  </thead>\n",
       "  <tbody>\n",
       "    <tr>\n",
       "      <th>count</th>\n",
       "      <td>271116.000000</td>\n",
       "      <td>261642.000000</td>\n",
       "      <td>210945.000000</td>\n",
       "      <td>208241.000000</td>\n",
       "      <td>271116.000000</td>\n",
       "    </tr>\n",
       "    <tr>\n",
       "      <th>mean</th>\n",
       "      <td>68248.954396</td>\n",
       "      <td>25.556898</td>\n",
       "      <td>175.338970</td>\n",
       "      <td>70.702393</td>\n",
       "      <td>1978.378480</td>\n",
       "    </tr>\n",
       "    <tr>\n",
       "      <th>std</th>\n",
       "      <td>39022.286345</td>\n",
       "      <td>6.393561</td>\n",
       "      <td>10.518462</td>\n",
       "      <td>14.348020</td>\n",
       "      <td>29.877632</td>\n",
       "    </tr>\n",
       "    <tr>\n",
       "      <th>min</th>\n",
       "      <td>1.000000</td>\n",
       "      <td>10.000000</td>\n",
       "      <td>127.000000</td>\n",
       "      <td>25.000000</td>\n",
       "      <td>1896.000000</td>\n",
       "    </tr>\n",
       "    <tr>\n",
       "      <th>25%</th>\n",
       "      <td>34643.000000</td>\n",
       "      <td>21.000000</td>\n",
       "      <td>168.000000</td>\n",
       "      <td>60.000000</td>\n",
       "      <td>1960.000000</td>\n",
       "    </tr>\n",
       "    <tr>\n",
       "      <th>50%</th>\n",
       "      <td>68205.000000</td>\n",
       "      <td>24.000000</td>\n",
       "      <td>175.000000</td>\n",
       "      <td>70.000000</td>\n",
       "      <td>1988.000000</td>\n",
       "    </tr>\n",
       "    <tr>\n",
       "      <th>75%</th>\n",
       "      <td>102097.250000</td>\n",
       "      <td>28.000000</td>\n",
       "      <td>183.000000</td>\n",
       "      <td>79.000000</td>\n",
       "      <td>2002.000000</td>\n",
       "    </tr>\n",
       "    <tr>\n",
       "      <th>max</th>\n",
       "      <td>135571.000000</td>\n",
       "      <td>97.000000</td>\n",
       "      <td>226.000000</td>\n",
       "      <td>214.000000</td>\n",
       "      <td>2016.000000</td>\n",
       "    </tr>\n",
       "  </tbody>\n",
       "</table>\n",
       "</div>"
      ],
      "text/plain": [
       "                  ID            Age         Height         Weight  \\\n",
       "count  271116.000000  261642.000000  210945.000000  208241.000000   \n",
       "mean    68248.954396      25.556898     175.338970      70.702393   \n",
       "std     39022.286345       6.393561      10.518462      14.348020   \n",
       "min         1.000000      10.000000     127.000000      25.000000   \n",
       "25%     34643.000000      21.000000     168.000000      60.000000   \n",
       "50%     68205.000000      24.000000     175.000000      70.000000   \n",
       "75%    102097.250000      28.000000     183.000000      79.000000   \n",
       "max    135571.000000      97.000000     226.000000     214.000000   \n",
       "\n",
       "                Year  \n",
       "count  271116.000000  \n",
       "mean     1978.378480  \n",
       "std        29.877632  \n",
       "min      1896.000000  \n",
       "25%      1960.000000  \n",
       "50%      1988.000000  \n",
       "75%      2002.000000  \n",
       "max      2016.000000  "
      ]
     },
     "execution_count": 3,
     "metadata": {},
     "output_type": "execute_result"
    }
   ],
   "source": [
    "rawData.describe()"
   ]
  },
  {
   "cell_type": "markdown",
   "metadata": {},
   "source": [
    "## Les variables\n",
    "\n",
    "\n",
    "- ID : Identifiant unique pour chacun des athlètes\n",
    "- Name : Nom de l'athlète\n",
    "- Sex : Sexe de l'athlète (M ou F)\n",
    "- Age : Age de l'athlète\n",
    "- Height : Taille en centimètre de l'athlète\n",
    "- Weight : Poids en kilogrammes de l'athlète\n",
    "- Team : Nomm de l'équipe de l'athlète\n",
    "- NOC : Identifiant en trois lettre des équipes\n",
    "- Games : Année et saison des JO\n",
    "- Year : Année de participation\n",
    "- Season : \"Summer\" ou \"Winter\"\n",
    "- City : Ville hôte\n",
    "- Sport : Sport de l'épreuve\n",
    "- Event : Nom e l'évènement\n",
    "- Medal : Type de médaille remporté : Gold, Silver, Bronze, ou NA si rien n'a été gagné par l'athlète\n",
    "\n",
    "### Variables utlisées dans le cadre de la résolution de la problématique\n",
    "Les variables qui seront utlisées dans le cadre de la résolution de la problématique seront :\n",
    "- Age\n",
    "- Height\n",
    "- Weight\n",
    "\n",
    "Qui permettent de décrire physiquement l'athlète\n",
    "\n",
    "- Sport\n",
    "\n",
    "Pour catégoriser les athlètes\n",
    "\n",
    "- Medal\n",
    "\n",
    "\n",
    "Pour évaluer la réussite de l'athlète\n"
   ]
  },
  {
   "cell_type": "markdown",
   "metadata": {},
   "source": [
    "### Descriptions graphiques des variables"
   ]
  },
  {
   "cell_type": "markdown",
   "metadata": {},
   "source": [
    "#### Taille / Poids / Age"
   ]
  },
  {
   "cell_type": "code",
   "execution_count": 4,
   "metadata": {},
   "outputs": [
    {
     "data": {
      "image/png": "[encoded data removed]",
      "text/plain": [
       "<Figure size 432x288 with 1 Axes>"
      ]
     },
     "metadata": {
      "needs_background": "light"
     },
     "output_type": "display_data"
    },
    {
     "data": {
      "image/png": "[encoded data removed]",
      "text/plain": [
       "<Figure size 432x288 with 1 Axes>"
      ]
     },
     "metadata": {
      "needs_background": "light"
     },
     "output_type": "display_data"
    },
    {
     "data": {
      "image/png": "[encoded data removed]",
      "text/plain": [
       "<Figure size 432x288 with 1 Axes>"
      ]
     },
     "metadata": {
      "needs_background": "light"
     },
     "output_type": "display_data"
    },
    {
     "data": {
      "image/png": "[encoded data removed]",
      "text/plain": [
       "<Figure size 432x432 with 3 Axes>"
      ]
     },
     "metadata": {
      "needs_background": "light"
     },
     "output_type": "display_data"
    },
    {
     "data": {
      "image/png": "[encoded data removed]",
      "text/plain": [
       "<Figure size 432x288 with 1 Axes>"
      ]
     },
     "metadata": {
      "needs_background": "light"
     },
     "output_type": "display_data"
    },
    {
     "data": {
      "image/png": "[encoded data removed]",
      "text/plain": [
       "<Figure size 432x288 with 1 Axes>"
      ]
     },
     "metadata": {
      "needs_background": "light"
     },
     "output_type": "display_data"
    },
    {
     "data": {
      "image/png": "[encoded data removed]",
      "text/plain": [
       "<Figure size 432x288 with 1 Axes>"
      ]
     },
     "metadata": {
      "needs_background": "light"
     },
     "output_type": "display_data"
    },
    {
     "data": {
      "image/png": "[encoded data removed]",
      "text/plain": [
       "<Figure size 432x288 with 2 Axes>"
      ]
     },
     "metadata": {
      "needs_background": "light"
     },
     "output_type": "display_data"
    }
   ],
   "source": [
    "\n",
    "plt.hist(rawData[\"Height\"], bins=100, label=['Taille'])\n",
    "plt.legend(loc=\"upper right\")\n",
    "plt.xlabel('Taille en cm')\n",
    "plt.ylabel(\"Nombre d'athlètes\")\n",
    "plt.show()\n",
    "\n",
    "plt.hist(rawData[\"Weight\"], bins=100, label=['Poids'])\n",
    "plt.legend(loc=\"upper right\")\n",
    "plt.xlabel('Poids en kg')\n",
    "plt.ylabel(\"Nombre d'athlètes\")\n",
    "plt.show()\n",
    "\n",
    "plt.hist(rawData[\"Age\"], bins=70, label=['Age'])\n",
    "plt.legend(loc=\"upper right\")\n",
    "plt.xlabel('Age en année')\n",
    "plt.ylabel(\"Nombre d'athlètes\")\n",
    "plt.show()\n",
    "\n",
    "sns.jointplot(x=rawData[\"Weight\"],y=rawData[\"Height\"])\n",
    "plt.show()\n",
    "\n",
    "sns.boxplot(x=rawData[\"Height\"])\n",
    "plt.show()\n",
    "\n",
    "sns.boxplot(x=rawData[\"Weight\"])\n",
    "plt.show()\n",
    "\n",
    "sns.boxplot(x=rawData[\"Age\"])\n",
    "plt.show()\n",
    "\n",
    "cor = rawData.corr()\n",
    "sns.heatmap(cor, annot=True, cmap=plt.cm.Reds)\n",
    "plt.show()\n",
    "\n",
    "# carafoot=rawData.loc[(rawData['Sport'] == \"Football\") ]\n",
    "# # data.loc[(data['dropoff_latitude'] > 40.5) & (data['passenger_count'] == 2), 'fare_amount'].head()\n",
    "# # print(carafoot)\n",
    "# plt.hist(carafoot[\"Height\"],bins=70, label=['Taille'])\n",
    "# plt.legend(loc=\"upper right\")\n",
    "# plt.xlabel('Age en année')\n",
    "# plt.ylabel(\"Nombre d'athlètes\")\n",
    "# plt.show()\n",
    "\n",
    "\n",
    "# carafoot=rawData.loc[(rawData['Sport'] == \"Basketball\") ]\n",
    "# # data.loc[(data['dropoff_latitude'] > 40.5) & (data['passenger_count'] == 2), 'fare_amount'].head()\n",
    "# # print(carafoot)\n",
    "# plt.hist(carafoot[\"Height\"],bins=70, label=['Taille'])\n",
    "# plt.legend(loc=\"upper right\")\n",
    "# plt.xlabel('Age en année')\n",
    "# plt.ylabel(\"Nombre d'athlètes\")\n",
    "# plt.show()"
   ]
  },
  {
   "cell_type": "code",
   "execution_count": 5,
   "metadata": {},
   "outputs": [
    {
     "data": {
      "text/html": [
       "<div>\n",
       "<style scoped>\n",
       "    .dataframe tbody tr th:only-of-type {\n",
       "        vertical-align: middle;\n",
       "    }\n",
       "\n",
       "    .dataframe tbody tr th {\n",
       "        vertical-align: top;\n",
       "    }\n",
       "\n",
       "    .dataframe thead th {\n",
       "        text-align: right;\n",
       "    }\n",
       "</style>\n",
       "<table border=\"1\" class=\"dataframe\">\n",
       "  <thead>\n",
       "    <tr style=\"text-align: right;\">\n",
       "      <th></th>\n",
       "      <th>ID</th>\n",
       "      <th>Name</th>\n",
       "      <th>Sex</th>\n",
       "      <th>Age</th>\n",
       "      <th>Height</th>\n",
       "      <th>Weight</th>\n",
       "      <th>Team</th>\n",
       "      <th>NOC</th>\n",
       "      <th>Games</th>\n",
       "      <th>Year</th>\n",
       "      <th>Season</th>\n",
       "      <th>City</th>\n",
       "      <th>Sport</th>\n",
       "      <th>Event</th>\n",
       "      <th>Medal</th>\n",
       "    </tr>\n",
       "  </thead>\n",
       "  <tbody>\n",
       "    <tr>\n",
       "      <th>29</th>\n",
       "      <td>10</td>\n",
       "      <td>Einar Ferdinand \"Einari\" Aalto</td>\n",
       "      <td>M</td>\n",
       "      <td>26.0</td>\n",
       "      <td>NaN</td>\n",
       "      <td>NaN</td>\n",
       "      <td>Finland</td>\n",
       "      <td>FIN</td>\n",
       "      <td>1952 Summer</td>\n",
       "      <td>1952</td>\n",
       "      <td>Summer</td>\n",
       "      <td>Helsinki</td>\n",
       "      <td>Swimming</td>\n",
       "      <td>Swimming Men's 400 metres Freestyle</td>\n",
       "      <td>NaN</td>\n",
       "    </tr>\n",
       "    <tr>\n",
       "      <th>35</th>\n",
       "      <td>15</td>\n",
       "      <td>Arvo Ossian Aaltonen</td>\n",
       "      <td>M</td>\n",
       "      <td>22.0</td>\n",
       "      <td>NaN</td>\n",
       "      <td>NaN</td>\n",
       "      <td>Finland</td>\n",
       "      <td>FIN</td>\n",
       "      <td>1912 Summer</td>\n",
       "      <td>1912</td>\n",
       "      <td>Summer</td>\n",
       "      <td>Stockholm</td>\n",
       "      <td>Swimming</td>\n",
       "      <td>Swimming Men's 200 metres Breaststroke</td>\n",
       "      <td>NaN</td>\n",
       "    </tr>\n",
       "    <tr>\n",
       "      <th>36</th>\n",
       "      <td>15</td>\n",
       "      <td>Arvo Ossian Aaltonen</td>\n",
       "      <td>M</td>\n",
       "      <td>22.0</td>\n",
       "      <td>NaN</td>\n",
       "      <td>NaN</td>\n",
       "      <td>Finland</td>\n",
       "      <td>FIN</td>\n",
       "      <td>1912 Summer</td>\n",
       "      <td>1912</td>\n",
       "      <td>Summer</td>\n",
       "      <td>Stockholm</td>\n",
       "      <td>Swimming</td>\n",
       "      <td>Swimming Men's 400 metres Breaststroke</td>\n",
       "      <td>NaN</td>\n",
       "    </tr>\n",
       "    <tr>\n",
       "      <th>37</th>\n",
       "      <td>15</td>\n",
       "      <td>Arvo Ossian Aaltonen</td>\n",
       "      <td>M</td>\n",
       "      <td>30.0</td>\n",
       "      <td>NaN</td>\n",
       "      <td>NaN</td>\n",
       "      <td>Finland</td>\n",
       "      <td>FIN</td>\n",
       "      <td>1920 Summer</td>\n",
       "      <td>1920</td>\n",
       "      <td>Summer</td>\n",
       "      <td>Antwerpen</td>\n",
       "      <td>Swimming</td>\n",
       "      <td>Swimming Men's 200 metres Breaststroke</td>\n",
       "      <td>Bronze</td>\n",
       "    </tr>\n",
       "    <tr>\n",
       "      <th>38</th>\n",
       "      <td>15</td>\n",
       "      <td>Arvo Ossian Aaltonen</td>\n",
       "      <td>M</td>\n",
       "      <td>30.0</td>\n",
       "      <td>NaN</td>\n",
       "      <td>NaN</td>\n",
       "      <td>Finland</td>\n",
       "      <td>FIN</td>\n",
       "      <td>1920 Summer</td>\n",
       "      <td>1920</td>\n",
       "      <td>Summer</td>\n",
       "      <td>Antwerpen</td>\n",
       "      <td>Swimming</td>\n",
       "      <td>Swimming Men's 400 metres Breaststroke</td>\n",
       "      <td>Bronze</td>\n",
       "    </tr>\n",
       "    <tr>\n",
       "      <th>...</th>\n",
       "      <td>...</td>\n",
       "      <td>...</td>\n",
       "      <td>...</td>\n",
       "      <td>...</td>\n",
       "      <td>...</td>\n",
       "      <td>...</td>\n",
       "      <td>...</td>\n",
       "      <td>...</td>\n",
       "      <td>...</td>\n",
       "      <td>...</td>\n",
       "      <td>...</td>\n",
       "      <td>...</td>\n",
       "      <td>...</td>\n",
       "      <td>...</td>\n",
       "      <td>...</td>\n",
       "    </tr>\n",
       "    <tr>\n",
       "      <th>271012</th>\n",
       "      <td>135522</td>\n",
       "      <td>Klaas Erik \"Klaas-Erik\" Zwering</td>\n",
       "      <td>M</td>\n",
       "      <td>19.0</td>\n",
       "      <td>189.0</td>\n",
       "      <td>80.0</td>\n",
       "      <td>Netherlands</td>\n",
       "      <td>NED</td>\n",
       "      <td>2000 Summer</td>\n",
       "      <td>2000</td>\n",
       "      <td>Summer</td>\n",
       "      <td>Sydney</td>\n",
       "      <td>Swimming</td>\n",
       "      <td>Swimming Men's 4 x 100 metres Medley Relay</td>\n",
       "      <td>NaN</td>\n",
       "    </tr>\n",
       "    <tr>\n",
       "      <th>271013</th>\n",
       "      <td>135522</td>\n",
       "      <td>Klaas Erik \"Klaas-Erik\" Zwering</td>\n",
       "      <td>M</td>\n",
       "      <td>23.0</td>\n",
       "      <td>189.0</td>\n",
       "      <td>80.0</td>\n",
       "      <td>Netherlands</td>\n",
       "      <td>NED</td>\n",
       "      <td>2004 Summer</td>\n",
       "      <td>2004</td>\n",
       "      <td>Summer</td>\n",
       "      <td>Athina</td>\n",
       "      <td>Swimming</td>\n",
       "      <td>Swimming Men's 4 x 100 metres Freestyle Relay</td>\n",
       "      <td>Silver</td>\n",
       "    </tr>\n",
       "    <tr>\n",
       "      <th>271038</th>\n",
       "      <td>135539</td>\n",
       "      <td>Marius Edmund Zwiller</td>\n",
       "      <td>M</td>\n",
       "      <td>18.0</td>\n",
       "      <td>NaN</td>\n",
       "      <td>NaN</td>\n",
       "      <td>France</td>\n",
       "      <td>FRA</td>\n",
       "      <td>1924 Summer</td>\n",
       "      <td>1924</td>\n",
       "      <td>Summer</td>\n",
       "      <td>Paris</td>\n",
       "      <td>Swimming</td>\n",
       "      <td>Swimming Men's 200 metres Breaststroke</td>\n",
       "      <td>NaN</td>\n",
       "    </tr>\n",
       "    <tr>\n",
       "      <th>271087</th>\n",
       "      <td>135556</td>\n",
       "      <td>Bogusaw Stanisaw Zychowicz</td>\n",
       "      <td>M</td>\n",
       "      <td>19.0</td>\n",
       "      <td>189.0</td>\n",
       "      <td>80.0</td>\n",
       "      <td>Poland</td>\n",
       "      <td>POL</td>\n",
       "      <td>1980 Summer</td>\n",
       "      <td>1980</td>\n",
       "      <td>Summer</td>\n",
       "      <td>Moskva</td>\n",
       "      <td>Swimming</td>\n",
       "      <td>Swimming Men's 100 metres Butterfly</td>\n",
       "      <td>NaN</td>\n",
       "    </tr>\n",
       "    <tr>\n",
       "      <th>271088</th>\n",
       "      <td>135556</td>\n",
       "      <td>Bogusaw Stanisaw Zychowicz</td>\n",
       "      <td>M</td>\n",
       "      <td>19.0</td>\n",
       "      <td>189.0</td>\n",
       "      <td>80.0</td>\n",
       "      <td>Poland</td>\n",
       "      <td>POL</td>\n",
       "      <td>1980 Summer</td>\n",
       "      <td>1980</td>\n",
       "      <td>Summer</td>\n",
       "      <td>Moskva</td>\n",
       "      <td>Swimming</td>\n",
       "      <td>Swimming Men's 200 metres Butterfly</td>\n",
       "      <td>NaN</td>\n",
       "    </tr>\n",
       "  </tbody>\n",
       "</table>\n",
       "<p>23195 rows × 15 columns</p>\n",
       "</div>"
      ],
      "text/plain": [
       "            ID                             Name Sex   Age  Height  Weight  \\\n",
       "29          10   Einar Ferdinand \"Einari\" Aalto   M  26.0     NaN     NaN   \n",
       "35          15             Arvo Ossian Aaltonen   M  22.0     NaN     NaN   \n",
       "36          15             Arvo Ossian Aaltonen   M  22.0     NaN     NaN   \n",
       "37          15             Arvo Ossian Aaltonen   M  30.0     NaN     NaN   \n",
       "38          15             Arvo Ossian Aaltonen   M  30.0     NaN     NaN   \n",
       "...        ...                              ...  ..   ...     ...     ...   \n",
       "271012  135522  Klaas Erik \"Klaas-Erik\" Zwering   M  19.0   189.0    80.0   \n",
       "271013  135522  Klaas Erik \"Klaas-Erik\" Zwering   M  23.0   189.0    80.0   \n",
       "271038  135539            Marius Edmund Zwiller   M  18.0     NaN     NaN   \n",
       "271087  135556       Bogusaw Stanisaw Zychowicz   M  19.0   189.0    80.0   \n",
       "271088  135556       Bogusaw Stanisaw Zychowicz   M  19.0   189.0    80.0   \n",
       "\n",
       "               Team  NOC        Games  Year  Season       City     Sport  \\\n",
       "29          Finland  FIN  1952 Summer  1952  Summer   Helsinki  Swimming   \n",
       "35          Finland  FIN  1912 Summer  1912  Summer  Stockholm  Swimming   \n",
       "36          Finland  FIN  1912 Summer  1912  Summer  Stockholm  Swimming   \n",
       "37          Finland  FIN  1920 Summer  1920  Summer  Antwerpen  Swimming   \n",
       "38          Finland  FIN  1920 Summer  1920  Summer  Antwerpen  Swimming   \n",
       "...             ...  ...          ...   ...     ...        ...       ...   \n",
       "271012  Netherlands  NED  2000 Summer  2000  Summer     Sydney  Swimming   \n",
       "271013  Netherlands  NED  2004 Summer  2004  Summer     Athina  Swimming   \n",
       "271038       France  FRA  1924 Summer  1924  Summer      Paris  Swimming   \n",
       "271087       Poland  POL  1980 Summer  1980  Summer     Moskva  Swimming   \n",
       "271088       Poland  POL  1980 Summer  1980  Summer     Moskva  Swimming   \n",
       "\n",
       "                                                Event   Medal  \n",
       "29                Swimming Men's 400 metres Freestyle     NaN  \n",
       "35             Swimming Men's 200 metres Breaststroke     NaN  \n",
       "36             Swimming Men's 400 metres Breaststroke     NaN  \n",
       "37             Swimming Men's 200 metres Breaststroke  Bronze  \n",
       "38             Swimming Men's 400 metres Breaststroke  Bronze  \n",
       "...                                               ...     ...  \n",
       "271012     Swimming Men's 4 x 100 metres Medley Relay     NaN  \n",
       "271013  Swimming Men's 4 x 100 metres Freestyle Relay  Silver  \n",
       "271038         Swimming Men's 200 metres Breaststroke     NaN  \n",
       "271087            Swimming Men's 100 metres Butterfly     NaN  \n",
       "271088            Swimming Men's 200 metres Butterfly     NaN  \n",
       "\n",
       "[23195 rows x 15 columns]"
      ]
     },
     "execution_count": 5,
     "metadata": {},
     "output_type": "execute_result"
    }
   ],
   "source": [
    "rawData.loc[(rawData[\"Sport\"] == \"Swimming\") ] "
   ]
  },
  {
   "cell_type": "markdown",
   "metadata": {},
   "source": [
    "# Nettoyage des données"
   ]
  },
  {
   "cell_type": "markdown",
   "metadata": {},
   "source": [
    "Données qu'on considère comme ne pouvant pas être null à cause :\n",
    "\n",
    "**Du non sens physique**\n",
    " - Age\n",
    " - Height\n",
    " - Weight\n",
    " - Sex\n",
    "\n",
    "\n",
    "**Pour les besoins du process de traitement**\n",
    " - Sport"
   ]
  },
  {
   "cell_type": "code",
   "execution_count": 6,
   "metadata": {},
   "outputs": [
    {
     "name": "stdout",
     "output_type": "stream",
     "text": [
      "Taille pré nettoyage :271116\n",
      "avant nettoyage du poids: (271116, 7)\n",
      "après nettoyage du poids: (271114, 7)\n",
      "Taille post nettoyage :206163\n",
      "Il y'a donc une perte de 64951\n"
     ]
    },
    {
     "data": {
      "text/html": [
       "<div>\n",
       "<style scoped>\n",
       "    .dataframe tbody tr th:only-of-type {\n",
       "        vertical-align: middle;\n",
       "    }\n",
       "\n",
       "    .dataframe tbody tr th {\n",
       "        vertical-align: top;\n",
       "    }\n",
       "\n",
       "    .dataframe thead th {\n",
       "        text-align: right;\n",
       "    }\n",
       "</style>\n",
       "<table border=\"1\" class=\"dataframe\">\n",
       "  <thead>\n",
       "    <tr style=\"text-align: right;\">\n",
       "      <th></th>\n",
       "      <th>ID</th>\n",
       "      <th>Sex</th>\n",
       "      <th>Age</th>\n",
       "      <th>Height</th>\n",
       "      <th>Weight</th>\n",
       "      <th>Sport</th>\n",
       "      <th>Medal</th>\n",
       "    </tr>\n",
       "  </thead>\n",
       "  <tbody>\n",
       "    <tr>\n",
       "      <th>0</th>\n",
       "      <td>1</td>\n",
       "      <td>M</td>\n",
       "      <td>24.0</td>\n",
       "      <td>180.0</td>\n",
       "      <td>80.0</td>\n",
       "      <td>Basketball</td>\n",
       "      <td>NaN</td>\n",
       "    </tr>\n",
       "    <tr>\n",
       "      <th>1</th>\n",
       "      <td>2</td>\n",
       "      <td>M</td>\n",
       "      <td>23.0</td>\n",
       "      <td>170.0</td>\n",
       "      <td>60.0</td>\n",
       "      <td>Judo</td>\n",
       "      <td>NaN</td>\n",
       "    </tr>\n",
       "    <tr>\n",
       "      <th>4</th>\n",
       "      <td>5</td>\n",
       "      <td>F</td>\n",
       "      <td>21.0</td>\n",
       "      <td>185.0</td>\n",
       "      <td>82.0</td>\n",
       "      <td>Speed Skating</td>\n",
       "      <td>NaN</td>\n",
       "    </tr>\n",
       "    <tr>\n",
       "      <th>5</th>\n",
       "      <td>5</td>\n",
       "      <td>F</td>\n",
       "      <td>21.0</td>\n",
       "      <td>185.0</td>\n",
       "      <td>82.0</td>\n",
       "      <td>Speed Skating</td>\n",
       "      <td>NaN</td>\n",
       "    </tr>\n",
       "    <tr>\n",
       "      <th>6</th>\n",
       "      <td>5</td>\n",
       "      <td>F</td>\n",
       "      <td>25.0</td>\n",
       "      <td>185.0</td>\n",
       "      <td>82.0</td>\n",
       "      <td>Speed Skating</td>\n",
       "      <td>NaN</td>\n",
       "    </tr>\n",
       "  </tbody>\n",
       "</table>\n",
       "</div>"
      ],
      "text/plain": [
       "   ID Sex   Age  Height  Weight          Sport Medal\n",
       "0   1   M  24.0   180.0    80.0     Basketball   NaN\n",
       "1   2   M  23.0   170.0    60.0           Judo   NaN\n",
       "4   5   F  21.0   185.0    82.0  Speed Skating   NaN\n",
       "5   5   F  21.0   185.0    82.0  Speed Skating   NaN\n",
       "6   5   F  25.0   185.0    82.0  Speed Skating   NaN"
      ]
     },
     "execution_count": 6,
     "metadata": {},
     "output_type": "execute_result"
    }
   ],
   "source": [
    "rawData.isnull()\n",
    "\n",
    "print(\"Taille pré nettoyage :\" + str(len(rawData)))\n",
    "\n",
    "# Suppression des colonnes inutiles\n",
    "rawData = rawData.drop([\"Name\", \"Team\", \"NOC\", \"Games\", \"Year\", \"Season\", \"City\", \"Event\"], axis=1)\n",
    "\n",
    "#enlevement valeur aberrante de poids observée dans la boîte à moustache ci-dessus\n",
    "print(\"avant nettoyage du poids:\",rawData.shape)\n",
    "ID = rawData['Weight'].idxmax()\n",
    "heavy=rawData.iloc[ID]\n",
    "rawData.drop(rawData[rawData[\"ID\"] == heavy[\"ID\"]].index, inplace=True)\n",
    "print(\"après nettoyage du poids:\",rawData.shape)\n",
    "\n",
    "\n",
    "\n",
    "# Filtre sur les data null\n",
    "clearData = rawData[(rawData[\"Height\"].isnull() == False) & \\\n",
    "                    (rawData[\"Age\"].isnull() == False) & \\\n",
    "                    (rawData[\"Weight\"].isnull() == False) & \\\n",
    "                    (rawData[\"Sex\"].isnull() == False) & \\\n",
    "                    (rawData[\"Sport\"].isnull() == False)\n",
    "                    ]\n",
    "print(\"Taille post nettoyage :\" + str(len(clearData)))\n",
    "print(\"Il y'a donc une perte de \" + str(len(rawData) - len(clearData)))\n",
    "clearData.head()"
   ]
  },
  {
   "cell_type": "markdown",
   "metadata": {},
   "source": [
    "# Normalisation et encodage des données"
   ]
  },
  {
   "cell_type": "markdown",
   "metadata": {},
   "source": [
    "## Normalisation Taille / Poids / Age"
   ]
  },
  {
   "cell_type": "code",
   "execution_count": 7,
   "metadata": {},
   "outputs": [
    {
     "data": {
      "image/png": "[encoded data removed]",
      "text/plain": [
       "<Figure size 432x288 with 1 Axes>"
      ]
     },
     "metadata": {
      "needs_background": "light"
     },
     "output_type": "display_data"
    },
    {
     "data": {
      "image/png": "[encoded data removed]",
      "text/plain": [
       "<Figure size 432x288 with 1 Axes>"
      ]
     },
     "metadata": {
      "needs_background": "light"
     },
     "output_type": "display_data"
    },
    {
     "data": {
      "image/png": "[encoded data removed]",
      "text/plain": [
       "<Figure size 432x288 with 1 Axes>"
      ]
     },
     "metadata": {
      "needs_background": "light"
     },
     "output_type": "display_data"
    }
   ],
   "source": [
    "#normalisation de l'age \n",
    "clearData = clearData.copy()\n",
    "data_age = clearData[\"Age\"].copy()\n",
    "min_age = (data_age-data_age.min())\n",
    "max_age = (data_age.max()-data_age.min())\n",
    "res = (min_age)/(max_age)*1\n",
    "clearData[\"Age\"] = res\n",
    "\n",
    "#normalisation du poids\n",
    "clearData = clearData.copy()\n",
    "data_age = clearData[\"Weight\"].copy()\n",
    "min_age = (data_age-data_age.min())\n",
    "max_age = (data_age.max()-data_age.min())\n",
    "res = (min_age)/(max_age)*1\n",
    "clearData[\"Weight\"] = res\n",
    "\n",
    "#normalisation de la taille\n",
    "clearData = clearData.copy()\n",
    "data_age = clearData[\"Height\"].copy()\n",
    "min_age = (data_age-data_age.min())\n",
    "max_age = (data_age.max()-data_age.min())\n",
    "res = (min_age)/(max_age)*1\n",
    "clearData[\"Height\"] = res\n",
    "\n",
    "\n",
    "\n",
    "plt.hist(clearData[\"Height\"], bins=100, label=['Taille Normalisée'])\n",
    "plt.legend(loc=\"upper right\")\n",
    "plt.xlabel('Taille en cm')\n",
    "plt.ylabel(\"Nombre d'athlètes\")\n",
    "plt.show()\n",
    "\n",
    "plt.hist(clearData[\"Weight\"], bins=100, label=['Poids Normalisé'])\n",
    "plt.legend(loc=\"upper right\")\n",
    "plt.xlabel('Poids en kg')\n",
    "plt.ylabel(\"Nombre d'athlètes\")\n",
    "plt.show()\n",
    "\n",
    "plt.hist(clearData[\"Age\"], bins=60, label=['Age Normalisée'])\n",
    "plt.legend(loc=\"upper right\")\n",
    "plt.xlabel('Age en année')\n",
    "plt.ylabel(\"Nombre d'athlètes\")\n",
    "plt.show()\n",
    "\n",
    "clearData.loc[(clearData[\"Medal\"].isnull() == False), 'Medal'] = 1\n",
    "clearData.loc[(clearData[\"Medal\"].isnull() == True), 'Medal'] = 0\n",
    "\n",
    "clearData.loc[(clearData[\"Sex\"]== \"M\"), 'Sex'] = 1\n",
    "clearData.loc[(clearData[\"Sex\"]== \"F\"), 'Sex'] = 0\n"
   ]
  },
  {
   "cell_type": "markdown",
   "metadata": {},
   "source": [
    "# Regression logistique (Tout sports confondu)"
   ]
  },
  {
   "cell_type": "code",
   "execution_count": 8,
   "metadata": {},
   "outputs": [
    {
     "name": "stdout",
     "output_type": "stream",
     "text": [
      "Nombre de médaillés : 30181\n",
      "Nombre de non-médaillés : 175982\n"
     ]
    }
   ],
   "source": [
    "print(\"Nombre de médaillés : \" + str(len(clearData[clearData[\"Medal\"] == 1])))\n",
    "\n",
    "print(\"Nombre de non-médaillés : \" + str(len(clearData[clearData[\"Medal\"] == 0])))"
   ]
  },
  {
   "cell_type": "code",
   "execution_count": 12,
   "metadata": {},
   "outputs": [
    {
     "name": "stdout",
     "output_type": "stream",
     "text": [
      "Coefficients:  [[-0.5846615   0.64845035  2.21177817  2.22634444]]\n",
      "Accuracy (%):  85.27150583270682\n",
      "              precision    recall  f1-score   support\n",
      "\n",
      "           0       0.85      1.00      0.92     35161\n",
      "           1       0.40      0.00      0.00      6072\n",
      "\n",
      "    accuracy                           0.85     41233\n",
      "   macro avg       0.63      0.50      0.46     41233\n",
      "weighted avg       0.79      0.85      0.79     41233\n",
      "\n"
     ]
    }
   ],
   "source": [
    "reglog = LogisticRegression(solver=\"lbfgs\", penalty=\"none\", max_iter=300)\n",
    "\n",
    "relog_clearData = clearData.drop([\"Sport\", \"ID\"], axis=1)\n",
    "\n",
    "\n",
    "X = relog_clearData.drop([\"Medal\"], axis=1)\n",
    "Y = relog_clearData[\"Medal\"].astype(int)\n",
    "\n",
    "X_train, X_test, Y_train, Y_test = train_test_split(X, Y, shuffle=True, train_size=0.8, random_state=42)\n",
    "\n",
    "\n",
    "reglog = reglog.fit(X_train, Y_train)\n",
    "\n",
    "print('Coefficients: ', reglog.coef_)\n",
    "\n",
    "predicted_classes = reglog.predict(X_test)\n",
    "accuracy = accuracy_score(Y_test,predicted_classes)\n",
    "\n",
    "print('Accuracy (%): ', accuracy * 100)\n",
    "\n",
    "print(classification_report(Y_test,predicted_classes))"
   ]
  },
  {
   "cell_type": "markdown",
   "metadata": {},
   "source": [
    "### Analyse sans modification de l'échantillonage"
   ]
  },
  {
   "cell_type": "markdown",
   "metadata": {},
   "source": [
    "Dans ce modèle on observe que le modèle fait des prédictions juste uniquement dans le cas de la classe 0, celle représentant les athlètes ne remportant pas de médaille.\n",
    "Dans 78% des cas ces prédictions, et uniquement celle-ci, s'avèrent juste. On observe aussi un taux de 100% de rappel ce qui signifie que le modèle ne créer **aucun faux négatif dans la classe 0**.  \n",
    "Par contre dans la classe 1 on observe une précision de 0% et un rappel de 0% ce qui signifie que le modèle n'arrive pas du tout a prédire de résultat dans la classe 1, dans la classe des athlètes gagnant des médailles.\n",
    "\n",
    "Cette incapacité a prédire quoique ce soit de bon dans le second cas alors que pour la classe 0 le résultats sont plutôt honorable s'explique par la présence dans le dataset d'une quantité très importante d'athlètes n'ayant rien remporté.\n",
    "\n",
    "Bien que ce genre de problème senble indiquer que le modèle utilisé n'est adapté à l'étude de ce dataset nous allons dans un premier temps effectuer un sous-échantillonage des athlètes n'ayant rien remporté pour que la ratio médaillé/non-médaillé soit plus important."
   ]
  },
  {
   "cell_type": "markdown",
   "metadata": {},
   "source": [
    "### Expérimentation du dataset ré-échantilloné"
   ]
  },
  {
   "cell_type": "code",
   "execution_count": 13,
   "metadata": {},
   "outputs": [
    {
     "name": "stdout",
     "output_type": "stream",
     "text": [
      "Coefficients:  [[5.18572758e-06 1.74694147e-10 1.16911736e-10 2.94968435e-10\n",
      "  1.87199213e-10]]\n",
      "Accuracy (%):  60.080321285140556\n",
      "              precision    recall  f1-score   support\n",
      "\n",
      "           0       0.00      0.00      0.00      3976\n",
      "           1       0.60      1.00      0.75      5984\n",
      "\n",
      "    accuracy                           0.60      9960\n",
      "   macro avg       0.30      0.50      0.38      9960\n",
      "weighted avg       0.36      0.60      0.45      9960\n",
      "\n"
     ]
    },
    {
     "name": "stderr",
     "output_type": "stream",
     "text": [
      "C:\\Users\\Theo\\AppData\\Local\\Programs\\Python\\Python37\\lib\\site-packages\\sklearn\\metrics\\_classification.py:1248: UndefinedMetricWarning: Precision and F-score are ill-defined and being set to 0.0 in labels with no predicted samples. Use `zero_division` parameter to control this behavior.\n",
      "  _warn_prf(average, modifier, msg_start, len(result))\n",
      "C:\\Users\\Theo\\AppData\\Local\\Programs\\Python\\Python37\\lib\\site-packages\\sklearn\\metrics\\_classification.py:1248: UndefinedMetricWarning: Precision and F-score are ill-defined and being set to 0.0 in labels with no predicted samples. Use `zero_division` parameter to control this behavior.\n",
      "  _warn_prf(average, modifier, msg_start, len(result))\n",
      "C:\\Users\\Theo\\AppData\\Local\\Programs\\Python\\Python37\\lib\\site-packages\\sklearn\\metrics\\_classification.py:1248: UndefinedMetricWarning: Precision and F-score are ill-defined and being set to 0.0 in labels with no predicted samples. Use `zero_division` parameter to control this behavior.\n",
      "  _warn_prf(average, modifier, msg_start, len(result))\n"
     ]
    }
   ],
   "source": [
    "lenCD = int(len(clearData[clearData.Medal == 1])*0.65)\n",
    "\n",
    "sampleData = pd.concat([clearData[clearData.Medal == 1], clearData[clearData.Medal == 0].sample(lenCD)])\n",
    "\n",
    "reglog = LogisticRegression(solver=\"lbfgs\", penalty=\"none\", max_iter=300)\n",
    "\n",
    "\n",
    "\n",
    "X = sampleData.drop([\"Medal\", \"Sport\"], axis=1)\n",
    "Y = sampleData[\"Medal\"].astype(int)\n",
    "\n",
    "X_train, X_test, Y_train, Y_test = train_test_split(X, Y, shuffle=True, train_size=0.8, random_state=42)\n",
    "\n",
    "\n",
    "reglog = reglog.fit(X_train, Y_train)\n",
    "\n",
    "print('Coefficients: ', reglog.coef_)\n",
    "\n",
    "predicted_classes = reglog.predict(X_test)\n",
    "accuracy = accuracy_score(Y_test,predicted_classes)\n",
    "\n",
    "print('Accuracy (%): ', accuracy * 100)\n",
    "\n",
    "print(classification_report(Y_test,predicted_classes))"
   ]
  },
  {
   "cell_type": "markdown",
   "metadata": {},
   "source": [
    "### Analyse du dataset ré-échantilloné\n",
    "\n",
    "En rééchantillonant le nombre d'athlètes non médaillés on remarque que la précision est 18pts plus basse que durant le dernier entrainement néanmoins on remaque que pour la classe 0 on obtient une précision de 52% ce qu'il signifie que le modèle se trompe quasiment une fois sur deux et a un rappel de 2%, il identifie donc seulement 2% des athlètes non médaillés correctement.\n",
    "\n",
    "Pour la classe 1, la classe des athlètes médaillés, on observe une précision de 61% et un rappel de 99%.\n",
    "\n",
    "Le ré-échantillonement permet donc une nette amélioration pour l'identification des athlètes remportant des médailles mais une chut drastique de la qualité d'identification de ceux qui n'en gagnent pas. \n",
    "\n",
    "Il est a noté que la quantité d'ahtlète non médaillé a été choisis de façon empirique et est lié à une série d'observation.\n",
    "\n",
    "## Conclusion des analyses\n",
    "\n",
    "Bien que le ré-échantillonement permettent d'améliorer la détection des athlètes gagnant une médaille cette amélioration n'est pas suffisante pour permettre de dire que ce modèle est le plus efficace pour l'étude de ce dataset. De plus sa faible capacité a identifié ceux qui ne seront médaillé renforce cette conclusion."
   ]
  },
  {
   "cell_type": "markdown",
   "metadata": {},
   "source": [
    "# ETUDE ECHANTILLON DE NATATION"
   ]
  },
  {
   "cell_type": "markdown",
   "metadata": {},
   "source": [
    "L'isolation des athlètes ayant fait de la natation répond a une volonté de vouloir tester les modèles sur un plus petit ensemble de sportifs et cela dans un sport individuel. \n",
    "La raison pour laquelle il est utile de séléctionner un sport individuel est que cela permet d'éviter les biais liés à la présence d'une équipe. "
   ]
  },
  {
   "cell_type": "code",
   "execution_count": 14,
   "metadata": {},
   "outputs": [
    {
     "data": {
      "text/html": [
       "<div>\n",
       "<style scoped>\n",
       "    .dataframe tbody tr th:only-of-type {\n",
       "        vertical-align: middle;\n",
       "    }\n",
       "\n",
       "    .dataframe tbody tr th {\n",
       "        vertical-align: top;\n",
       "    }\n",
       "\n",
       "    .dataframe thead th {\n",
       "        text-align: right;\n",
       "    }\n",
       "</style>\n",
       "<table border=\"1\" class=\"dataframe\">\n",
       "  <thead>\n",
       "    <tr style=\"text-align: right;\">\n",
       "      <th></th>\n",
       "      <th>Sex</th>\n",
       "      <th>Age</th>\n",
       "      <th>Height</th>\n",
       "      <th>Weight</th>\n",
       "      <th>Medal</th>\n",
       "    </tr>\n",
       "  </thead>\n",
       "  <tbody>\n",
       "    <tr>\n",
       "      <th>56955</th>\n",
       "      <td>1</td>\n",
       "      <td>0.150000</td>\n",
       "      <td>0.636364</td>\n",
       "      <td>0.300578</td>\n",
       "      <td>1</td>\n",
       "    </tr>\n",
       "    <tr>\n",
       "      <th>116904</th>\n",
       "      <td>1</td>\n",
       "      <td>0.100000</td>\n",
       "      <td>0.535354</td>\n",
       "      <td>0.317919</td>\n",
       "      <td>0</td>\n",
       "    </tr>\n",
       "    <tr>\n",
       "      <th>157888</th>\n",
       "      <td>1</td>\n",
       "      <td>0.300000</td>\n",
       "      <td>0.636364</td>\n",
       "      <td>0.346821</td>\n",
       "      <td>1</td>\n",
       "    </tr>\n",
       "    <tr>\n",
       "      <th>199145</th>\n",
       "      <td>0</td>\n",
       "      <td>0.150000</td>\n",
       "      <td>0.484848</td>\n",
       "      <td>0.231214</td>\n",
       "      <td>0</td>\n",
       "    </tr>\n",
       "    <tr>\n",
       "      <th>2466</th>\n",
       "      <td>0</td>\n",
       "      <td>0.183333</td>\n",
       "      <td>0.454545</td>\n",
       "      <td>0.156069</td>\n",
       "      <td>1</td>\n",
       "    </tr>\n",
       "    <tr>\n",
       "      <th>238165</th>\n",
       "      <td>1</td>\n",
       "      <td>0.216667</td>\n",
       "      <td>0.585859</td>\n",
       "      <td>0.317919</td>\n",
       "      <td>1</td>\n",
       "    </tr>\n",
       "    <tr>\n",
       "      <th>223785</th>\n",
       "      <td>0</td>\n",
       "      <td>0.050000</td>\n",
       "      <td>0.474747</td>\n",
       "      <td>0.219653</td>\n",
       "      <td>0</td>\n",
       "    </tr>\n",
       "    <tr>\n",
       "      <th>63528</th>\n",
       "      <td>0</td>\n",
       "      <td>0.100000</td>\n",
       "      <td>0.454545</td>\n",
       "      <td>0.196532</td>\n",
       "      <td>1</td>\n",
       "    </tr>\n",
       "    <tr>\n",
       "      <th>41180</th>\n",
       "      <td>1</td>\n",
       "      <td>0.150000</td>\n",
       "      <td>0.626263</td>\n",
       "      <td>0.329480</td>\n",
       "      <td>0</td>\n",
       "    </tr>\n",
       "    <tr>\n",
       "      <th>165147</th>\n",
       "      <td>0</td>\n",
       "      <td>0.150000</td>\n",
       "      <td>0.595960</td>\n",
       "      <td>0.277457</td>\n",
       "      <td>1</td>\n",
       "    </tr>\n",
       "  </tbody>\n",
       "</table>\n",
       "</div>"
      ],
      "text/plain": [
       "       Sex       Age    Height    Weight Medal\n",
       "56955    1  0.150000  0.636364  0.300578     1\n",
       "116904   1  0.100000  0.535354  0.317919     0\n",
       "157888   1  0.300000  0.636364  0.346821     1\n",
       "199145   0  0.150000  0.484848  0.231214     0\n",
       "2466     0  0.183333  0.454545  0.156069     1\n",
       "238165   1  0.216667  0.585859  0.317919     1\n",
       "223785   0  0.050000  0.474747  0.219653     0\n",
       "63528    0  0.100000  0.454545  0.196532     1\n",
       "41180    1  0.150000  0.626263  0.329480     0\n",
       "165147   0  0.150000  0.595960  0.277457     1"
      ]
     },
     "execution_count": 14,
     "metadata": {},
     "output_type": "execute_result"
    }
   ],
   "source": [
    "#on recup les events de Natation\n",
    "sport=clearData.loc[(clearData[\"Sport\"]==\"Swimming\")]\n",
    "\n",
    "#on drop les colonnes qui ne nous intéressent pas\n",
    "sport=sport.drop([\"Sport\"], axis=1)\n",
    "sport=sport.drop([\"ID\"], axis=1)\n",
    "\n",
    "#on sépare les wins et looses pour les échantilloner également\n",
    "wins=sport.loc[(sport[\"Medal\"]==1)] \n",
    "losses=sport.loc[(sport[\"Medal\"]==0)] \n",
    "losses=losses.sample(len(wins) )\n",
    "# footL.reset_index()\n",
    "sport=pd.concat([losses,wins])\n",
    "\n",
    "#mélange\n",
    "sport = shuffle(sport)\n",
    "\n",
    "\n",
    "sport.head(10)"
   ]
  },
  {
   "cell_type": "markdown",
   "metadata": {},
   "source": [
    "# REGRESSION LOGISTIQUE (natation)"
   ]
  },
  {
   "cell_type": "code",
   "execution_count": 15,
   "metadata": {
    "scrolled": true
   },
   "outputs": [
    {
     "name": "stdout",
     "output_type": "stream",
     "text": [
      "(4972, 4)\n",
      "(4972,)\n",
      "Coefficients:  [[-1.13576601  0.29151339  2.67256055  6.97430599]]\n",
      "Accuracy (%):  60.30150753768844\n",
      "              precision    recall  f1-score   support\n",
      "\n",
      "           0       0.62      0.57      0.60       510\n",
      "           1       0.59      0.64      0.61       485\n",
      "\n",
      "    accuracy                           0.60       995\n",
      "   macro avg       0.60      0.60      0.60       995\n",
      "weighted avg       0.60      0.60      0.60       995\n",
      "\n"
     ]
    }
   ],
   "source": [
    "\n",
    "reglog = LogisticRegression(solver=\"lbfgs\", penalty=\"none\", max_iter=300)\n",
    "\n",
    "X = sport.drop([\"Medal\"], axis=1)\n",
    "Y = sport[\"Medal\"].astype(int)\n",
    "\n",
    "print(X.shape)\n",
    "print(Y.shape)\n",
    "\n",
    "\n",
    "X_train, X_test, Y_train, Y_test = train_test_split(X, Y, shuffle=True, train_size=0.8, random_state=42)\n",
    "\n",
    "\n",
    "reglog = reglog.fit(X_train, Y_train)\n",
    "\n",
    "print('Coefficients: ', reglog.coef_)\n",
    "\n",
    "predicted_classes = reglog.predict(X_test)\n",
    "accuracy = accuracy_score(Y_test,predicted_classes)\n",
    "\n",
    "print('Accuracy (%): ', accuracy * 100)\n",
    "\n",
    "print(classification_report(Y_test,predicted_classes))"
   ]
  },
  {
   "cell_type": "markdown",
   "metadata": {},
   "source": [
    "## Analyse\n",
    "\n",
    "On observe que les modèle arrive a prédire avec une précision et un rappel relativement proche les deux classes, bien que ces deux taux soient au-dessus de 50 signifiant une véritable prédiction ils en restent assez proche. \n",
    "Mise a part une amélioration des prédictions dans les deux classes ce modèle avec ce dataset ne permet pas de tirer de nette prédiction du dataset.\n",
    "\n",
    "## Conclusion de l'analyse\n",
    "\n",
    "Pour continuer de tenter de prévoir les meilleures conditions physiques permettant de remporter une médaille il est a priori nescessaire de changer de modèle. En effet la régression logistique ne semble pas apporter de réponse claire."
   ]
  },
  {
   "cell_type": "markdown",
   "metadata": {},
   "source": [
    "# RANDOM FOREST (BAGGING) (natation)"
   ]
  },
  {
   "cell_type": "code",
   "execution_count": 16,
   "metadata": {},
   "outputs": [
    {
     "name": "stdout",
     "output_type": "stream",
     "text": [
      "Accuracy (%):  66.03015075376885\n",
      "              precision    recall  f1-score   support\n",
      "\n",
      "           0       0.67      0.64      0.66       504\n",
      "           1       0.65      0.68      0.66       491\n",
      "\n",
      "    accuracy                           0.66       995\n",
      "   macro avg       0.66      0.66      0.66       995\n",
      "weighted avg       0.66      0.66      0.66       995\n",
      "\n"
     ]
    }
   ],
   "source": [
    "X_train, X_test, Y_train, Y_test = train_test_split(X, Y, test_size=0.2)\n",
    "classifier = RandomForestClassifier(n_estimators=100, max_depth=10, random_state=42)\n",
    "classifier.fit(X_train, Y_train) # On peut mettre Y_train ou Y_train_lb. Pourquoi ?\n",
    "\n",
    "\n",
    "\n",
    "predicted_classes = classifier.predict(X_test)\n",
    "accuracy = accuracy_score(Y_test,predicted_classes)\n",
    "\n",
    "print('Accuracy (%): ', accuracy * 100)\n",
    "\n",
    "print(classification_report(Y_test,predicted_classes))"
   ]
  },
  {
   "cell_type": "markdown",
   "metadata": {},
   "source": [
    "## Analyse\n",
    "En utilisant l'algorithme de random forest nous améliorons la précisions et le rappel de notre modèle. En effet on peut observer ici un gain de 5 et 6 pts pour les précisions ainsi que 7 et 4 pour les rappels respectivement pour les classes 0 et 1. \n",
    "Nous avons donc ici de meilleur résultat qu'avec la régression linéaire. Cela peut s'expliquer par le fait que les forêts aléatoires sont moins sensibles à la variance des données et parent mieux le sur-apprentissage (réduit ici par le ré-échantillonage).\n",
    "\n",
    "\n",
    "## Conclusion de l'analyse\n",
    "Bien que la forêt aléatoire semble améliorer nos résultats ses résultats restent suffisament peu fiable pour vouloir continuer à chercher un nouveau modèle a appliquer sur le dataset et affiner nos prévisions."
   ]
  },
  {
   "cell_type": "markdown",
   "metadata": {},
   "source": [
    "# BOOSTING (natation)"
   ]
  },
  {
   "cell_type": "code",
   "execution_count": 17,
   "metadata": {},
   "outputs": [
    {
     "name": "stderr",
     "output_type": "stream",
     "text": [
      "C:\\Users\\Theo\\AppData\\Local\\Programs\\Python\\Python37\\lib\\site-packages\\ipykernel_launcher.py:18: SettingWithCopyWarning: \n",
      "A value is trying to be set on a copy of a slice from a DataFrame.\n",
      "Try using .loc[row_indexer,col_indexer] = value instead\n",
      "\n",
      "See the caveats in the documentation: https://pandas.pydata.org/pandas-docs/stable/user_guide/indexing.html#returning-a-view-versus-a-copy\n",
      "C:\\Users\\Theo\\AppData\\Local\\Programs\\Python\\Python37\\lib\\site-packages\\xgboost\\sklearn.py:1146: UserWarning: The use of label encoder in XGBClassifier is deprecated and will be removed in a future release. To remove this warning, do the following: 1) Pass option use_label_encoder=False when constructing XGBClassifier object; and 2) Encode your labels (y) as integers starting with 0, i.e. 0, 1, 2, ..., [num_class - 1].\n",
      "  warnings.warn(label_encoder_deprecation_msg, UserWarning)\n"
     ]
    },
    {
     "name": "stdout",
     "output_type": "stream",
     "text": [
      "[00:16:20] WARNING: C:/Users/Administrator/workspace/xgboost-win64_release_1.4.0/src/learner.cc:573: \n",
      "Parameters: { \"silent\" } might not be used.\n",
      "\n",
      "  This may not be accurate due to some parameters are only used in language bindings but\n",
      "  passed down to XGBoost core.  Or some parameters are not used but slip through this\n",
      "  verification. Please open an issue if you find above cases.\n",
      "\n",
      "\n",
      "[00:16:20] WARNING: C:/Users/Administrator/workspace/xgboost-win64_release_1.4.0/src/learner.cc:1095: Starting in XGBoost 1.3.0, the default evaluation metric used with the objective 'binary:logistic' was changed from 'error' to 'logloss'. Explicitly set eval_metric if you'd like to restore the old behavior.\n",
      "Accuracy (%):  66.13065326633166\n",
      "              precision    recall  f1-score   support\n",
      "\n",
      "           0       0.71      0.61      0.65       523\n",
      "           1       0.62      0.72      0.67       472\n",
      "\n",
      "    accuracy                           0.66       995\n",
      "   macro avg       0.67      0.66      0.66       995\n",
      "weighted avg       0.67      0.66      0.66       995\n",
      "\n"
     ]
    }
   ],
   "source": [
    "X_train, X_test, Y_train, Y_test = train_test_split(X, Y, test_size=0.2)\n",
    "\n",
    "# print(X)\n",
    "# print(Y)\n",
    "\n",
    "from sklearn.ensemble import RandomForestRegressor\n",
    "\n",
    "regressor = RandomForestRegressor(max_depth=3, n_estimators=20, random_state=42)\n",
    "regressor.fit(X_train, Y_train)\n",
    "\n",
    "from sklearn.metrics import mean_squared_error, mean_absolute_error\n",
    "\n",
    "# score = np.sqrt(mean_squared_error(Y_test, regressor.predict(X_test)))\n",
    "# print('RMSE: ',score)\n",
    "# score = mean_absolute_error(Y_test, regressor.predict(X_test))\n",
    "# print('MAE: ',score)\n",
    "\n",
    "X_train[\"Sex\"]=X_train[\"Sex\"].astype(\"int\")\n",
    "param = {'max_depth':7, 'eta':0.1, 'silent':1, 'objective':'binary:logistic',\n",
    "         'n_estimators': 500,\n",
    "        'learning_rate': 0.01,\n",
    "        'gamma': 0.1}\n",
    "booster = xgb.XGBClassifier(**param)\n",
    "booster.fit(X_train, Y_train)\n",
    "\n",
    "\n",
    "predicted_classes = booster.predict(X_test)\n",
    "accuracy = accuracy_score(Y_test,predicted_classes)\n",
    "\n",
    "print('Accuracy (%): ', accuracy * 100)\n",
    "\n",
    "print(classification_report(Y_test,predicted_classes))"
   ]
  },
  {
   "cell_type": "markdown",
   "metadata": {},
   "source": [
    "### Analyse \n",
    "Nous observons qu'une ténue améliorations de nos résultats. En effet seule la précision des prédictions sur la classe 0, classe qui nous intéresse le moins à prédire par ailleurs, s'est améliorées. Tout le reste est plus bas. Nous avons des résultats de moins bonne qualitée. \n",
    "\n",
    "### Conclusion de l'analyse\n",
    "Il semblerait que le modèle du boosting ne soit pas plus adapté que la forêt aléatoire a ce dataset. "
   ]
  },
  {
   "cell_type": "markdown",
   "metadata": {},
   "source": [
    "# ETUDE ECHANTILLON SPORTS INDIVIDUELS"
   ]
  },
  {
   "cell_type": "code",
   "execution_count": 19,
   "metadata": {},
   "outputs": [],
   "source": [
    "#j'ai testé en enlevant les sports avec des catégories de poids ca monte un peu le score ~3-4 %\n",
    "\n",
    "individuels=[\n",
    "'Alpine Skiing',\n",
    " 'Archery',\n",
    " 'Art Competitions',\n",
    " 'Athletics',\n",
    " 'Biathlon',\n",
    "#  'Boxing',\n",
    " 'Cross Country Skiing',\n",
    " 'Cycling',\n",
    " 'Diving',\n",
    " 'Equestrianism',\n",
    " 'Fencing',\n",
    " 'Figure Skating',\n",
    " 'Freestyle Skiing',\n",
    " 'Golf',\n",
    " 'Gymnastics',\n",
    "#  'Judo',\n",
    " 'Luge',\n",
    " 'Modern Pentathlon',\n",
    " 'Motorboating',\n",
    " 'Rhythmic Gymnastics',\n",
    " 'Sailing',\n",
    " 'Shooting',\n",
    " 'Short Track Speed Skating',\n",
    " 'Skeleton',\n",
    " 'Ski Jumping',\n",
    " 'Snowboarding',\n",
    " 'Speed Skating',\n",
    " 'Swimming',\n",
    " 'Table Tennis',\n",
    "#  'Taekwondo',\n",
    " 'Tennis',\n",
    " 'Trampolining',\n",
    " 'Triathlon',\n",
    " 'Weightlifting',\n",
    "#  'Wrestling'\n",
    "]\n",
    "\n",
    "sportsIndividuels=clearData.loc[clearData['Sport'].isin(individuels)]\n",
    "\n",
    "\n",
    "#on drop les colonnes qui ne ous interessent pas\n",
    "sportsIndividuels=sportsIndividuels.drop([\"Sport\"], axis=1)\n",
    "sportsIndividuels=sportsIndividuels.drop([\"ID\"], axis=1)"
   ]
  },
  {
   "cell_type": "markdown",
   "metadata": {},
   "source": [
    "Suite à l'étude sur la natation il est apparu que les résultats sur ce sport sont révélés bien meilleurs que sur l'intégralité du dataset. Nous allons donc procéder à une augmentation des données injectées dans les différents modèles tout en faisant en sorte que ce ne soit que des athlètes ayant concouru dans des sports individuels car cette catégorie de sport est plus logique a étudiée dans le cadre de l'étude des seules constantes physisques d'un athlète (le jeu d'équipe primordial dans un jeu a plusieurs joueurs ne transparais pas dans ces constantes). "
   ]
  },
  {
   "cell_type": "markdown",
   "metadata": {},
   "source": [
    "# Partie pour échantilloner les non médailles en fonction des médailles"
   ]
  },
  {
   "cell_type": "code",
   "execution_count": 20,
   "metadata": {},
   "outputs": [
    {
     "name": "stdout",
     "output_type": "stream",
     "text": [
      "(15873, 5)\n"
     ]
    },
    {
     "data": {
      "text/plain": [
       "(79365, 5)"
      ]
     },
     "execution_count": 20,
     "metadata": {},
     "output_type": "execute_result"
    }
   ],
   "source": [
    "wins=sportsIndividuels.loc[(sportsIndividuels[\"Medal\"]==1)] \n",
    "\n",
    "print(wins.shape)\n",
    "\n",
    "losses=sportsIndividuels.loc[(sportsIndividuels[\"Medal\"]==0)] \n",
    "losses=losses.sample(int(len(wins)*4) )\n",
    "\n",
    "#concat\n",
    "sportsIndividuels=pd.concat([losses,wins])\n",
    "#mélange\n",
    "sportsIndividuels = shuffle(sportsIndividuels)\n",
    "\n",
    "\n",
    "sportsIndividuels.shape"
   ]
  },
  {
   "cell_type": "markdown",
   "metadata": {},
   "source": [
    "# REGRESSION LOGISTIQUE (SPORTS INDIVIDUELS)"
   ]
  },
  {
   "cell_type": "code",
   "execution_count": 21,
   "metadata": {},
   "outputs": [
    {
     "name": "stdout",
     "output_type": "stream",
     "text": [
      "(79365, 4)\n",
      "(79365,)\n",
      "Coefficients:  [[-0.46103908  0.53818076  2.03882737  1.42455903]]\n",
      "Accuracy (%):  79.7958797958798\n",
      "              precision    recall  f1-score   support\n",
      "\n",
      "           0       0.80      1.00      0.89     12666\n",
      "           1       0.00      0.00      0.00      3207\n",
      "\n",
      "    accuracy                           0.80     15873\n",
      "   macro avg       0.40      0.50      0.44     15873\n",
      "weighted avg       0.64      0.80      0.71     15873\n",
      "\n"
     ]
    },
    {
     "name": "stderr",
     "output_type": "stream",
     "text": [
      "C:\\Users\\Theo\\AppData\\Local\\Programs\\Python\\Python37\\lib\\site-packages\\sklearn\\metrics\\_classification.py:1248: UndefinedMetricWarning: Precision and F-score are ill-defined and being set to 0.0 in labels with no predicted samples. Use `zero_division` parameter to control this behavior.\n",
      "  _warn_prf(average, modifier, msg_start, len(result))\n",
      "C:\\Users\\Theo\\AppData\\Local\\Programs\\Python\\Python37\\lib\\site-packages\\sklearn\\metrics\\_classification.py:1248: UndefinedMetricWarning: Precision and F-score are ill-defined and being set to 0.0 in labels with no predicted samples. Use `zero_division` parameter to control this behavior.\n",
      "  _warn_prf(average, modifier, msg_start, len(result))\n",
      "C:\\Users\\Theo\\AppData\\Local\\Programs\\Python\\Python37\\lib\\site-packages\\sklearn\\metrics\\_classification.py:1248: UndefinedMetricWarning: Precision and F-score are ill-defined and being set to 0.0 in labels with no predicted samples. Use `zero_division` parameter to control this behavior.\n",
      "  _warn_prf(average, modifier, msg_start, len(result))\n"
     ]
    }
   ],
   "source": [
    "\n",
    "reglog = LogisticRegression(solver=\"lbfgs\", penalty=\"none\", max_iter=300)\n",
    "\n",
    "X = sportsIndividuels.drop([\"Medal\"], axis=1)\n",
    "Y = sportsIndividuels[\"Medal\"].astype(int)\n",
    "\n",
    "print(X.shape)\n",
    "print(Y.shape)\n",
    "\n",
    "\n",
    "X_train, X_test, Y_train, Y_test = train_test_split(X, Y, shuffle=True, train_size=0.8, random_state=42)\n",
    "\n",
    "\n",
    "reglog = reglog.fit(X_train, Y_train)\n",
    "\n",
    "print('Coefficients: ', reglog.coef_)\n",
    "\n",
    "predicted_classes = reglog.predict(X_test)\n",
    "accuracy = accuracy_score(Y_test,predicted_classes)\n",
    "\n",
    "print('Accuracy (%): ', accuracy * 100)\n",
    "\n",
    "print(classification_report(Y_test,predicted_classes))"
   ]
  },
  {
   "cell_type": "markdown",
   "metadata": {},
   "source": [
    "## Analyse\n",
    "\n",
    "On observe une précision de 80% pour la classe 1 et un rappel de 100% ce qui signifie que le modèle ne se trompe que très peu en prédisant une classe 0. Par contre le modèle se trompe 100% du temps pour la classe 1, chose qui est problématique car c'est précisèment les éléments entrant dans la classe 1 que nous souhaitons prédire.\n",
    "\n",
    "## Conclusion de l'analyse\n",
    "\n",
    "Avec des résultats aussi catastrophique il est impossible d'utiliser le modèle de la régression logisitique pour étudier ce dataset."
   ]
  },
  {
   "cell_type": "markdown",
   "metadata": {},
   "source": [
    "# RANDOM FOREST (BAGGING) (SPORTS INDIVIDUELS)"
   ]
  },
  {
   "cell_type": "code",
   "execution_count": 22,
   "metadata": {},
   "outputs": [
    {
     "name": "stdout",
     "output_type": "stream",
     "text": [
      "Accuracy (%):  79.86517986517987\n",
      "              precision    recall  f1-score   support\n",
      "\n",
      "           0       0.80      1.00      0.89     12666\n",
      "           1       0.60      0.01      0.02      3207\n",
      "\n",
      "    accuracy                           0.80     15873\n",
      "   macro avg       0.70      0.50      0.45     15873\n",
      "weighted avg       0.76      0.80      0.71     15873\n",
      "\n"
     ]
    }
   ],
   "source": [
    "# X_train, X_test, Y_train, Y_test = train_test_split(X, Y, test_size=0.2)\n",
    "classifier = RandomForestClassifier(n_estimators=100, max_depth=10, random_state=42)\n",
    "classifier.fit(X_train, Y_train) # On peut mettre Y_train ou Y_train_lb. Pourquoi ?\n",
    "\n",
    "\n",
    "\n",
    "predicted_classes = classifier.predict(X_test)\n",
    "accuracy = accuracy_score(Y_test,predicted_classes)\n",
    "\n",
    "print('Accuracy (%): ', accuracy * 100)\n",
    "\n",
    "print(classification_report(Y_test,predicted_classes))"
   ]
  },
  {
   "cell_type": "markdown",
   "metadata": {},
   "source": [
    "## Analyse\n",
    "\n",
    "On observe des précisions de 80% et 60% ainsi qu'un rappel de 100% et 1% pour les classes 0 et 1. \n",
    "\n",
    "\n",
    "## Conclusion de l'analyse\n",
    "\n",
    "Cela signifie que le modèle est excellent pour prédire quels constantes physiques ne permettent pas de gagner de médaille."
   ]
  },
  {
   "cell_type": "markdown",
   "metadata": {},
   "source": [
    "# BOOSTING (SPORTS INDIVIDUELS)"
   ]
  },
  {
   "cell_type": "code",
   "execution_count": 23,
   "metadata": {},
   "outputs": [
    {
     "name": "stderr",
     "output_type": "stream",
     "text": [
      "C:\\Users\\Theo\\AppData\\Local\\Programs\\Python\\Python37\\lib\\site-packages\\ipykernel_launcher.py:18: SettingWithCopyWarning: \n",
      "A value is trying to be set on a copy of a slice from a DataFrame.\n",
      "Try using .loc[row_indexer,col_indexer] = value instead\n",
      "\n",
      "See the caveats in the documentation: https://pandas.pydata.org/pandas-docs/stable/user_guide/indexing.html#returning-a-view-versus-a-copy\n",
      "C:\\Users\\Theo\\AppData\\Local\\Programs\\Python\\Python37\\lib\\site-packages\\xgboost\\sklearn.py:1146: UserWarning: The use of label encoder in XGBClassifier is deprecated and will be removed in a future release. To remove this warning, do the following: 1) Pass option use_label_encoder=False when constructing XGBClassifier object; and 2) Encode your labels (y) as integers starting with 0, i.e. 0, 1, 2, ..., [num_class - 1].\n",
      "  warnings.warn(label_encoder_deprecation_msg, UserWarning)\n"
     ]
    },
    {
     "name": "stdout",
     "output_type": "stream",
     "text": [
      "[00:37:32] WARNING: C:/Users/Administrator/workspace/xgboost-win64_release_1.4.0/src/learner.cc:573: \n",
      "Parameters: { \"silent\" } might not be used.\n",
      "\n",
      "  This may not be accurate due to some parameters are only used in language bindings but\n",
      "  passed down to XGBoost core.  Or some parameters are not used but slip through this\n",
      "  verification. Please open an issue if you find above cases.\n",
      "\n",
      "\n",
      "[00:37:32] WARNING: C:/Users/Administrator/workspace/xgboost-win64_release_1.4.0/src/learner.cc:1095: Starting in XGBoost 1.3.0, the default evaluation metric used with the objective 'binary:logistic' was changed from 'error' to 'logloss'. Explicitly set eval_metric if you'd like to restore the old behavior.\n",
      "Accuracy (%):  79.83367983367984\n",
      "              precision    recall  f1-score   support\n",
      "\n",
      "           0       0.80      1.00      0.89     12666\n",
      "           1       0.53      0.02      0.03      3207\n",
      "\n",
      "    accuracy                           0.80     15873\n",
      "   macro avg       0.66      0.51      0.46     15873\n",
      "weighted avg       0.75      0.80      0.72     15873\n",
      "\n"
     ]
    }
   ],
   "source": [
    "# X_train, X_test, Y_train, Y_test = train_test_split(X, Y, test_size=0.2)\n",
    "\n",
    "# print(X)\n",
    "# print(Y)\n",
    "\n",
    "from sklearn.ensemble import RandomForestRegressor\n",
    "\n",
    "regressor = RandomForestRegressor(max_depth=3, n_estimators=20, random_state=42)\n",
    "regressor.fit(X_train, Y_train)\n",
    "\n",
    "# from sklearn.metrics import mean_squared_error, mean_absolute_error\n",
    "\n",
    "# score = np.sqrt(mean_squared_error(Y_test, regressor.predict(X_test)))\n",
    "# print('RMSE: ',score)\n",
    "# score = mean_absolute_error(Y_test, regressor.predict(X_test))\n",
    "# print('MAE: ',score)\n",
    "\n",
    "X_train[\"Sex\"]=X_train[\"Sex\"].astype(\"int\")\n",
    "param = {'max_depth':10, 'eta':0.1, 'silent':1, 'objective':'binary:logistic',\n",
    "         'n_estimators': 500,\n",
    "        'learning_rate': 0.01,\n",
    "        'gamma': 0.2}\n",
    "booster = xgb.XGBClassifier(**param)\n",
    "booster.fit(X_train, Y_train)\n",
    "\n",
    "\n",
    "predicted_classes = booster.predict(X_test)\n",
    "accuracy = accuracy_score(Y_test,predicted_classes)\n",
    "\n",
    "print('Accuracy (%): ', accuracy * 100)\n",
    "\n",
    "print(classification_report(Y_test,predicted_classes))"
   ]
  },
  {
   "cell_type": "markdown",
   "metadata": {},
   "source": [
    "## Analyse\n",
    "\n",
    "On observe des précisions de 80% et 53% ainsi qu'un rappel de 100% et 2% pour les classes 0 et 1. \n",
    "\n",
    "## Conclusion de l'analyse\n",
    "\n",
    "Les résultats sont très semblables à ceux de la forêt aléatoires avec néanmoins une perte de qualité des résulats dans la classe 1."
   ]
  },
  {
   "cell_type": "markdown",
   "metadata": {},
   "source": [
    "# Améliorations possibles\n",
    "\n"
   ]
  }
 ],
 "metadata": {
  "interpreter": {
   "hash": "9d3ffbafb9a26a484d1051890a2486a7bf854cda984fd591b2ab15541aeade44"
  },
  "kernelspec": {
   "display_name": "Python 3 (ipykernel)",
   "language": "python",
   "name": "python3"
  },
  "language_info": {
   "codemirror_mode": {
    "name": "ipython",
    "version": 3
   },
   "file_extension": ".py",
   "mimetype": "text/x-python",
   "name": "python",
   "nbconvert_exporter": "python",
   "pygments_lexer": "ipython3",
   "version": "3.7.2"
  }
 },
 "nbformat": 4,
 "nbformat_minor": 2
}
