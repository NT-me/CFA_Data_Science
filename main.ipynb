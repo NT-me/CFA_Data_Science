{
 "cells": [
  {
   "cell_type": "code",
   "execution_count": 805,
   "source": [
    "import pandas as pd\r\n",
    "import matplotlib.pyplot as plt\r\n",
    "\r\n",
    "import seaborn as sns\r\n",
    "import numpy as np\r\n",
    "from sklearn.preprocessing import LabelEncoder, OneHotEncoder, MinMaxScaler\r\n",
    "from sklearn.feature_extraction import DictVectorizer\r\n",
    "from sklearn.utils import shuffle\r\n"
   ],
   "outputs": [],
   "metadata": {}
  },
  {
   "cell_type": "markdown",
   "source": [
    "# Présentation du data set"
   ],
   "metadata": {}
  },
  {
   "cell_type": "code",
   "execution_count": 806,
   "source": [
    "rawData = pd.read_csv(\"dataset/athlete_events.csv\")\r\n",
    "\r\n",
    "rawData.describe()\r\n",
    "\r\n",
    "rawData.head()"
   ],
   "outputs": [
    {
     "output_type": "execute_result",
     "data": {
      "text/plain": [
       "   ID                      Name Sex   Age  Height  Weight            Team  \\\n",
       "0   1                 A Dijiang   M  24.0   180.0    80.0           China   \n",
       "1   2                  A Lamusi   M  23.0   170.0    60.0           China   \n",
       "2   3       Gunnar Nielsen Aaby   M  24.0     NaN     NaN         Denmark   \n",
       "3   4      Edgar Lindenau Aabye   M  34.0     NaN     NaN  Denmark/Sweden   \n",
       "4   5  Christine Jacoba Aaftink   F  21.0   185.0    82.0     Netherlands   \n",
       "\n",
       "   NOC        Games  Year  Season       City          Sport  \\\n",
       "0  CHN  1992 Summer  1992  Summer  Barcelona     Basketball   \n",
       "1  CHN  2012 Summer  2012  Summer     London           Judo   \n",
       "2  DEN  1920 Summer  1920  Summer  Antwerpen       Football   \n",
       "3  DEN  1900 Summer  1900  Summer      Paris     Tug-Of-War   \n",
       "4  NED  1988 Winter  1988  Winter    Calgary  Speed Skating   \n",
       "\n",
       "                              Event Medal  \n",
       "0       Basketball Men's Basketball   NaN  \n",
       "1      Judo Men's Extra-Lightweight   NaN  \n",
       "2           Football Men's Football   NaN  \n",
       "3       Tug-Of-War Men's Tug-Of-War  Gold  \n",
       "4  Speed Skating Women's 500 metres   NaN  "
      ],
      "text/html": [
       "<div>\n",
       "<style scoped>\n",
       "    .dataframe tbody tr th:only-of-type {\n",
       "        vertical-align: middle;\n",
       "    }\n",
       "\n",
       "    .dataframe tbody tr th {\n",
       "        vertical-align: top;\n",
       "    }\n",
       "\n",
       "    .dataframe thead th {\n",
       "        text-align: right;\n",
       "    }\n",
       "</style>\n",
       "<table border=\"1\" class=\"dataframe\">\n",
       "  <thead>\n",
       "    <tr style=\"text-align: right;\">\n",
       "      <th></th>\n",
       "      <th>ID</th>\n",
       "      <th>Name</th>\n",
       "      <th>Sex</th>\n",
       "      <th>Age</th>\n",
       "      <th>Height</th>\n",
       "      <th>Weight</th>\n",
       "      <th>Team</th>\n",
       "      <th>NOC</th>\n",
       "      <th>Games</th>\n",
       "      <th>Year</th>\n",
       "      <th>Season</th>\n",
       "      <th>City</th>\n",
       "      <th>Sport</th>\n",
       "      <th>Event</th>\n",
       "      <th>Medal</th>\n",
       "    </tr>\n",
       "  </thead>\n",
       "  <tbody>\n",
       "    <tr>\n",
       "      <th>0</th>\n",
       "      <td>1</td>\n",
       "      <td>A Dijiang</td>\n",
       "      <td>M</td>\n",
       "      <td>24.0</td>\n",
       "      <td>180.0</td>\n",
       "      <td>80.0</td>\n",
       "      <td>China</td>\n",
       "      <td>CHN</td>\n",
       "      <td>1992 Summer</td>\n",
       "      <td>1992</td>\n",
       "      <td>Summer</td>\n",
       "      <td>Barcelona</td>\n",
       "      <td>Basketball</td>\n",
       "      <td>Basketball Men's Basketball</td>\n",
       "      <td>NaN</td>\n",
       "    </tr>\n",
       "    <tr>\n",
       "      <th>1</th>\n",
       "      <td>2</td>\n",
       "      <td>A Lamusi</td>\n",
       "      <td>M</td>\n",
       "      <td>23.0</td>\n",
       "      <td>170.0</td>\n",
       "      <td>60.0</td>\n",
       "      <td>China</td>\n",
       "      <td>CHN</td>\n",
       "      <td>2012 Summer</td>\n",
       "      <td>2012</td>\n",
       "      <td>Summer</td>\n",
       "      <td>London</td>\n",
       "      <td>Judo</td>\n",
       "      <td>Judo Men's Extra-Lightweight</td>\n",
       "      <td>NaN</td>\n",
       "    </tr>\n",
       "    <tr>\n",
       "      <th>2</th>\n",
       "      <td>3</td>\n",
       "      <td>Gunnar Nielsen Aaby</td>\n",
       "      <td>M</td>\n",
       "      <td>24.0</td>\n",
       "      <td>NaN</td>\n",
       "      <td>NaN</td>\n",
       "      <td>Denmark</td>\n",
       "      <td>DEN</td>\n",
       "      <td>1920 Summer</td>\n",
       "      <td>1920</td>\n",
       "      <td>Summer</td>\n",
       "      <td>Antwerpen</td>\n",
       "      <td>Football</td>\n",
       "      <td>Football Men's Football</td>\n",
       "      <td>NaN</td>\n",
       "    </tr>\n",
       "    <tr>\n",
       "      <th>3</th>\n",
       "      <td>4</td>\n",
       "      <td>Edgar Lindenau Aabye</td>\n",
       "      <td>M</td>\n",
       "      <td>34.0</td>\n",
       "      <td>NaN</td>\n",
       "      <td>NaN</td>\n",
       "      <td>Denmark/Sweden</td>\n",
       "      <td>DEN</td>\n",
       "      <td>1900 Summer</td>\n",
       "      <td>1900</td>\n",
       "      <td>Summer</td>\n",
       "      <td>Paris</td>\n",
       "      <td>Tug-Of-War</td>\n",
       "      <td>Tug-Of-War Men's Tug-Of-War</td>\n",
       "      <td>Gold</td>\n",
       "    </tr>\n",
       "    <tr>\n",
       "      <th>4</th>\n",
       "      <td>5</td>\n",
       "      <td>Christine Jacoba Aaftink</td>\n",
       "      <td>F</td>\n",
       "      <td>21.0</td>\n",
       "      <td>185.0</td>\n",
       "      <td>82.0</td>\n",
       "      <td>Netherlands</td>\n",
       "      <td>NED</td>\n",
       "      <td>1988 Winter</td>\n",
       "      <td>1988</td>\n",
       "      <td>Winter</td>\n",
       "      <td>Calgary</td>\n",
       "      <td>Speed Skating</td>\n",
       "      <td>Speed Skating Women's 500 metres</td>\n",
       "      <td>NaN</td>\n",
       "    </tr>\n",
       "  </tbody>\n",
       "</table>\n",
       "</div>"
      ]
     },
     "metadata": {},
     "execution_count": 806
    }
   ],
   "metadata": {}
  },
  {
   "cell_type": "markdown",
   "source": [
    "## Les variables\n",
    "\n",
    "\n",
    "- ID : Identifiant unique pour chacun des athlètes\n",
    "- Name : Nom de l'athlète\n",
    "- Sex : Sexe de l'athlète (M ou F)\n",
    "- Age : Age de l'athlète\n",
    "- Height : Taille en centimètre de l'athlète\n",
    "- Weight : Poids en kilogrammes de l'athlète\n",
    "- Team : Nomm de l'équipe de l'athlète\n",
    "- NOC : Identifiant en trois lettre des équipes\n",
    "- Games : Année et saison des JO\n",
    "- Year : Année de participation\n",
    "- Season : \"Summer\" ou \"Winter\"\n",
    "- City : Ville hôte\n",
    "- Sport : Sport de l'épreuve\n",
    "- Event : Nom e l'évènement\n",
    "- Medal : Type de médaille remporté : Gold, Silver, Bronze, ou NA si rien n'a été gagné par l'athlète\n",
    "\n",
    "### Variables utlisées dans le cadre de la résolution de la problématique\n",
    "Les variables qui seront utlisées dans le cadre de la résolution de la problématique seront :\n",
    "- Age\n",
    "- Height\n",
    "- Weight\n",
    "\n",
    "Qui permettent de décrire physiquement l'athlète\n",
    "\n",
    "- Sport\n",
    "\n",
    "Pour catégoriser les athlètes\n",
    "\n",
    "- Medal\n",
    "\n",
    "\n",
    "Pour évaluer la réussite de l'athlète\n"
   ],
   "metadata": {}
  },
  {
   "cell_type": "markdown",
   "source": [
    "### Descriptions graphiques des variables"
   ],
   "metadata": {}
  },
  {
   "cell_type": "markdown",
   "source": [
    "#### Taille / Poids / Age"
   ],
   "metadata": {}
  },
  {
   "cell_type": "code",
   "execution_count": 807,
   "source": [
    "plt.hist(rawData[\"Height\"], bins=100, label=['Taille'])\r\n",
    "plt.legend(loc=\"upper right\")\r\n",
    "plt.xlabel('Taille en cm')\r\n",
    "plt.ylabel(\"Nombre d'athlètes\")\r\n",
    "plt.show()\r\n",
    "\r\n",
    "plt.hist(rawData[\"Weight\"], bins=100, label=['Poids'])\r\n",
    "plt.legend(loc=\"upper right\")\r\n",
    "plt.xlabel('Poids en kg')\r\n",
    "plt.ylabel(\"Nombre d'athlètes\")\r\n",
    "plt.show()\r\n",
    "\r\n",
    "plt.hist(rawData[\"Age\"], bins=70, label=['Age'])\r\n",
    "plt.legend(loc=\"upper right\")\r\n",
    "plt.xlabel('Age en année')\r\n",
    "plt.ylabel(\"Nombre d'athlètes\")\r\n",
    "plt.show()"
   ],
   "outputs": [
    {
     "output_type": "display_data",
     "data": {
      "text/plain": [
       "<Figure size 432x288 with 1 Axes>"
      ],
      "image/png": "[encoded data removed]"
     },
     "metadata": {
      "needs_background": "light"
     }
    },
    {
     "output_type": "display_data",
     "data": {
      "text/plain": [
       "<Figure size 432x288 with 1 Axes>"
      ],
      "image/png": "[encoded data removed]"
     },
     "metadata": {
      "needs_background": "light"
     }
    },
    {
     "output_type": "display_data",
     "data": {
      "text/plain": [
       "<Figure size 432x288 with 1 Axes>"
      ],
      "image/png": "[encoded data removed]"
     },
     "metadata": {
      "needs_background": "light"
     }
    }
   ],
   "metadata": {}
  },
  {
   "cell_type": "markdown",
   "source": [
    "# Nettoyage des données"
   ],
   "metadata": {}
  },
  {
   "cell_type": "markdown",
   "source": [
    "Données qu'on considère comme ne pouvant pas être null à cause :\n",
    "\n",
    "**Du non sens physique**\n",
    " - Age\n",
    " - Height\n",
    " - Weight\n",
    " - Sex\n",
    "\n",
    "\n",
    "**Pour les besoins du process de traitement**\n",
    " - Sport"
   ],
   "metadata": {}
  },
  {
   "cell_type": "code",
   "execution_count": 808,
   "source": [
    "rawData.isnull()\r\n",
    "\r\n",
    "print(\"Taille pré nettoyage :\" + str(len(rawData)))\r\n",
    "\r\n",
    "# Suppression des colonnes inutiles\r\n",
    "rawData = rawData.drop([\"Name\", \"Team\", \"NOC\", \"Games\", \"Year\", \"Season\", \"City\", \"Event\"], axis=1)\r\n",
    "\r\n",
    "# Filtre sur les data null\r\n",
    "clearData = rawData[(rawData[\"Height\"].isnull() == False) & \\\r\n",
    "                    (rawData[\"Age\"].isnull() == False) & \\\r\n",
    "                    (rawData[\"Weight\"].isnull() == False) & \\\r\n",
    "                    (rawData[\"Sex\"].isnull() == False) & \\\r\n",
    "                    (rawData[\"Sport\"].isnull() == False)\r\n",
    "                    ]\r\n",
    "print(\"Taille post nettoyage :\" + str(len(clearData)))\r\n",
    "print(\"Il y'a donc une perte de \" + str(len(rawData) - len(clearData)))\r\n",
    "clearData.head()"
   ],
   "outputs": [
    {
     "output_type": "stream",
     "name": "stdout",
     "text": [
      "Taille pré nettoyage :271116\n",
      "Taille post nettoyage :206165\n",
      "Il y'a donc une perte de 64951\n"
     ]
    },
    {
     "output_type": "execute_result",
     "data": {
      "text/plain": [
       "   ID Sex   Age  Height  Weight          Sport Medal\n",
       "0   1   M  24.0   180.0    80.0     Basketball   NaN\n",
       "1   2   M  23.0   170.0    60.0           Judo   NaN\n",
       "4   5   F  21.0   185.0    82.0  Speed Skating   NaN\n",
       "5   5   F  21.0   185.0    82.0  Speed Skating   NaN\n",
       "6   5   F  25.0   185.0    82.0  Speed Skating   NaN"
      ],
      "text/html": [
       "<div>\n",
       "<style scoped>\n",
       "    .dataframe tbody tr th:only-of-type {\n",
       "        vertical-align: middle;\n",
       "    }\n",
       "\n",
       "    .dataframe tbody tr th {\n",
       "        vertical-align: top;\n",
       "    }\n",
       "\n",
       "    .dataframe thead th {\n",
       "        text-align: right;\n",
       "    }\n",
       "</style>\n",
       "<table border=\"1\" class=\"dataframe\">\n",
       "  <thead>\n",
       "    <tr style=\"text-align: right;\">\n",
       "      <th></th>\n",
       "      <th>ID</th>\n",
       "      <th>Sex</th>\n",
       "      <th>Age</th>\n",
       "      <th>Height</th>\n",
       "      <th>Weight</th>\n",
       "      <th>Sport</th>\n",
       "      <th>Medal</th>\n",
       "    </tr>\n",
       "  </thead>\n",
       "  <tbody>\n",
       "    <tr>\n",
       "      <th>0</th>\n",
       "      <td>1</td>\n",
       "      <td>M</td>\n",
       "      <td>24.0</td>\n",
       "      <td>180.0</td>\n",
       "      <td>80.0</td>\n",
       "      <td>Basketball</td>\n",
       "      <td>NaN</td>\n",
       "    </tr>\n",
       "    <tr>\n",
       "      <th>1</th>\n",
       "      <td>2</td>\n",
       "      <td>M</td>\n",
       "      <td>23.0</td>\n",
       "      <td>170.0</td>\n",
       "      <td>60.0</td>\n",
       "      <td>Judo</td>\n",
       "      <td>NaN</td>\n",
       "    </tr>\n",
       "    <tr>\n",
       "      <th>4</th>\n",
       "      <td>5</td>\n",
       "      <td>F</td>\n",
       "      <td>21.0</td>\n",
       "      <td>185.0</td>\n",
       "      <td>82.0</td>\n",
       "      <td>Speed Skating</td>\n",
       "      <td>NaN</td>\n",
       "    </tr>\n",
       "    <tr>\n",
       "      <th>5</th>\n",
       "      <td>5</td>\n",
       "      <td>F</td>\n",
       "      <td>21.0</td>\n",
       "      <td>185.0</td>\n",
       "      <td>82.0</td>\n",
       "      <td>Speed Skating</td>\n",
       "      <td>NaN</td>\n",
       "    </tr>\n",
       "    <tr>\n",
       "      <th>6</th>\n",
       "      <td>5</td>\n",
       "      <td>F</td>\n",
       "      <td>25.0</td>\n",
       "      <td>185.0</td>\n",
       "      <td>82.0</td>\n",
       "      <td>Speed Skating</td>\n",
       "      <td>NaN</td>\n",
       "    </tr>\n",
       "  </tbody>\n",
       "</table>\n",
       "</div>"
      ]
     },
     "metadata": {},
     "execution_count": 808
    }
   ],
   "metadata": {}
  },
  {
   "cell_type": "markdown",
   "source": [
    "# Normalisation des données"
   ],
   "metadata": {}
  },
  {
   "cell_type": "markdown",
   "source": [
    "## Normalisation Taille / Poids / Age"
   ],
   "metadata": {}
  },
  {
   "cell_type": "code",
   "execution_count": 809,
   "source": [
    "#normalisation de l'age \r\n",
    "clearData = clearData.copy()\r\n",
    "data_age = clearData[\"Age\"].copy()\r\n",
    "min_age = (data_age-data_age.min())\r\n",
    "max_age = (data_age.max()-data_age.min())\r\n",
    "res = (min_age)/(max_age)*1\r\n",
    "clearData[\"Age\"] = res\r\n",
    "\r\n",
    "#normalisation du poids\r\n",
    "clearData = clearData.copy()\r\n",
    "data_age = clearData[\"Weight\"].copy()\r\n",
    "min_age = (data_age-data_age.min())\r\n",
    "max_age = (data_age.max()-data_age.min())\r\n",
    "res = (min_age)/(max_age)*1\r\n",
    "clearData[\"Weight\"] = res\r\n",
    "\r\n",
    "#normalisation de la taille\r\n",
    "clearData = clearData.copy()\r\n",
    "data_age = clearData[\"Height\"].copy()\r\n",
    "min_age = (data_age-data_age.min())\r\n",
    "max_age = (data_age.max()-data_age.min())\r\n",
    "res = (min_age)/(max_age)*1\r\n",
    "clearData[\"Height\"] = res\r\n",
    "\r\n",
    "\r\n",
    "\r\n",
    "plt.hist(clearData[\"Height\"], bins=100, label=['Taille Normalisée'])\r\n",
    "plt.legend(loc=\"upper right\")\r\n",
    "plt.xlabel('Taille en cm')\r\n",
    "plt.ylabel(\"Nombre d'athlètes\")\r\n",
    "plt.show()\r\n",
    "\r\n",
    "plt.hist(clearData[\"Weight\"], bins=100, label=['Poids Normalisé'])\r\n",
    "plt.legend(loc=\"upper right\")\r\n",
    "plt.xlabel('Poids en kg')\r\n",
    "plt.ylabel(\"Nombre d'athlètes\")\r\n",
    "plt.show()\r\n",
    "\r\n",
    "plt.hist(clearData[\"Age\"], bins=60, label=['Age Normalisée'])\r\n",
    "plt.legend(loc=\"upper right\")\r\n",
    "plt.xlabel('Age en année')\r\n",
    "plt.ylabel(\"Nombre d'athlètes\")\r\n",
    "plt.show()\r\n"
   ],
   "outputs": [
    {
     "output_type": "display_data",
     "data": {
      "text/plain": [
       "<Figure size 432x288 with 1 Axes>"
      ],
      "image/png": "[encoded data removed]"
     },
     "metadata": {
      "needs_background": "light"
     }
    },
    {
     "output_type": "display_data",
     "data": {
      "text/plain": [
       "<Figure size 432x288 with 1 Axes>"
      ],
      "image/png": "[encoded data removed]"
     },
     "metadata": {
      "needs_background": "light"
     }
    },
    {
     "output_type": "display_data",
     "data": {
      "text/plain": [
       "<Figure size 432x288 with 1 Axes>"
      ],
      "image/png": "[encoded data removed]"
     },
     "metadata": {
      "needs_background": "light"
     }
    }
   ],
   "metadata": {}
  },
  {
   "cell_type": "markdown",
   "source": [
    "# Encodage des valeurs non numériques"
   ],
   "metadata": {}
  },
  {
   "cell_type": "code",
   "execution_count": 810,
   "source": [
    "clearData.loc[(clearData[\"Medal\"].isnull() == False), 'Medal'] = 1\r\n",
    "clearData.loc[(clearData[\"Medal\"].isnull() == True), 'Medal'] = 0\r\n",
    "\r\n",
    "clearData.loc[(clearData[\"Sex\"]== \"M\"), 'Sex'] = 1\r\n",
    "clearData.loc[(clearData[\"Sex\"]== \"F\"), 'Sex'] = 0\r\n"
   ],
   "outputs": [],
   "metadata": {}
  },
  {
   "cell_type": "markdown",
   "source": [
    "# Etude de la donnée"
   ],
   "metadata": {}
  },
  {
   "cell_type": "code",
   "execution_count": 811,
   "source": [
    "\r\n",
    "#on observe taile et poids\r\n",
    "taille_poids=clearData.loc[(clearData[\"Sport\"]==\"Football\"), ['Height',\"Weight\"]] \r\n",
    "\r\n",
    "sns.jointplot(x=taille_poids[\"Weight\"],y=taille_poids[\"Height\"])\r\n"
   ],
   "outputs": [
    {
     "output_type": "execute_result",
     "data": {
      "text/plain": [
       "<seaborn.axisgrid.JointGrid at 0x1e869d33910>"
      ]
     },
     "metadata": {},
     "execution_count": 811
    },
    {
     "output_type": "display_data",
     "data": {
      "text/plain": [
       "<Figure size 432x432 with 3 Axes>"
      ],
      "image/png": "[encoded data removed]"
     },
     "metadata": {
      "needs_background": "light"
     }
    }
   ],
   "metadata": {}
  },
  {
   "cell_type": "code",
   "execution_count": 812,
   "source": [
    "\r\n",
    "sns.boxplot(x=taille_poids[\"Height\"])\r\n",
    "plt.show()\r\n",
    "sns.boxplot(x=taille_poids[\"Weight\"])"
   ],
   "outputs": [
    {
     "output_type": "display_data",
     "data": {
      "text/plain": [
       "<Figure size 432x288 with 1 Axes>"
      ],
      "image/png": "[encoded data removed]"
     },
     "metadata": {
      "needs_background": "light"
     }
    },
    {
     "output_type": "execute_result",
     "data": {
      "text/plain": [
       "<AxesSubplot:xlabel='Weight'>"
      ]
     },
     "metadata": {},
     "execution_count": 812
    },
    {
     "output_type": "display_data",
     "data": {
      "text/plain": [
       "<Figure size 432x288 with 1 Axes>"
      ],
      "image/png": "[encoded data removed]"
     },
     "metadata": {
      "needs_background": "light"
     }
    }
   ],
   "metadata": {}
  },
  {
   "cell_type": "code",
   "execution_count": 813,
   "source": [
    "# clearData.loc[(clearData[\"Height\"].min() )] \r\n",
    "\r\n",
    "# clearData = clearData[min(clearData[\"Height\"]) ]\r\n"
   ],
   "outputs": [],
   "metadata": {}
  },
  {
   "cell_type": "code",
   "execution_count": 814,
   "source": [
    "cor = clearData.corr()\r\n",
    "sns.heatmap(cor, annot=True, cmap=plt.cm.Reds)\r\n",
    "plt.show()"
   ],
   "outputs": [
    {
     "output_type": "display_data",
     "data": {
      "text/plain": [
       "<Figure size 432x288 with 2 Axes>"
      ],
      "image/png": "[encoded data removed]"
     },
     "metadata": {
      "needs_background": "light"
     }
    }
   ],
   "metadata": {}
  },
  {
   "cell_type": "code",
   "execution_count": 815,
   "source": [
    "#on recup les events de football\r\n",
    "foot=clearData.loc[(clearData[\"Sport\"]==\"Judo\")]\r\n",
    "foot=foot.drop([\"Sport\"], axis=1)\r\n",
    "foot=foot.drop([\"ID\"], axis=1)\r\n",
    "\r\n",
    "footwins=foot.loc[(foot[\"Medal\"]==1)] \r\n",
    "footwins\r\n"
   ],
   "outputs": [
    {
     "output_type": "execute_result",
     "data": {
      "text/plain": [
       "       Sex       Age    Height    Weight Medal\n",
       "1490     1  0.166667  0.515152  0.280423     1\n",
       "1491     1  0.233333  0.515152  0.280423     1\n",
       "2044     0  0.200000  0.373737  0.216931     1\n",
       "4555     1  0.216667  0.434343  0.253968     1\n",
       "4556     1  0.283333  0.434343  0.253968     1\n",
       "...     ..       ...       ...       ...   ...\n",
       "269541   0  0.200000  0.464646  0.386243     1\n",
       "270304   0  0.183333  0.464646  0.206349     1\n",
       "270306   0  0.316667  0.464646  0.206349     1\n",
       "270981   1  0.200000  0.555556  0.343915     1\n",
       "271032   0  0.183333  0.545455  0.280423     1\n",
       "\n",
       "[526 rows x 5 columns]"
      ],
      "text/html": [
       "<div>\n",
       "<style scoped>\n",
       "    .dataframe tbody tr th:only-of-type {\n",
       "        vertical-align: middle;\n",
       "    }\n",
       "\n",
       "    .dataframe tbody tr th {\n",
       "        vertical-align: top;\n",
       "    }\n",
       "\n",
       "    .dataframe thead th {\n",
       "        text-align: right;\n",
       "    }\n",
       "</style>\n",
       "<table border=\"1\" class=\"dataframe\">\n",
       "  <thead>\n",
       "    <tr style=\"text-align: right;\">\n",
       "      <th></th>\n",
       "      <th>Sex</th>\n",
       "      <th>Age</th>\n",
       "      <th>Height</th>\n",
       "      <th>Weight</th>\n",
       "      <th>Medal</th>\n",
       "    </tr>\n",
       "  </thead>\n",
       "  <tbody>\n",
       "    <tr>\n",
       "      <th>1490</th>\n",
       "      <td>1</td>\n",
       "      <td>0.166667</td>\n",
       "      <td>0.515152</td>\n",
       "      <td>0.280423</td>\n",
       "      <td>1</td>\n",
       "    </tr>\n",
       "    <tr>\n",
       "      <th>1491</th>\n",
       "      <td>1</td>\n",
       "      <td>0.233333</td>\n",
       "      <td>0.515152</td>\n",
       "      <td>0.280423</td>\n",
       "      <td>1</td>\n",
       "    </tr>\n",
       "    <tr>\n",
       "      <th>2044</th>\n",
       "      <td>0</td>\n",
       "      <td>0.200000</td>\n",
       "      <td>0.373737</td>\n",
       "      <td>0.216931</td>\n",
       "      <td>1</td>\n",
       "    </tr>\n",
       "    <tr>\n",
       "      <th>4555</th>\n",
       "      <td>1</td>\n",
       "      <td>0.216667</td>\n",
       "      <td>0.434343</td>\n",
       "      <td>0.253968</td>\n",
       "      <td>1</td>\n",
       "    </tr>\n",
       "    <tr>\n",
       "      <th>4556</th>\n",
       "      <td>1</td>\n",
       "      <td>0.283333</td>\n",
       "      <td>0.434343</td>\n",
       "      <td>0.253968</td>\n",
       "      <td>1</td>\n",
       "    </tr>\n",
       "    <tr>\n",
       "      <th>...</th>\n",
       "      <td>...</td>\n",
       "      <td>...</td>\n",
       "      <td>...</td>\n",
       "      <td>...</td>\n",
       "      <td>...</td>\n",
       "    </tr>\n",
       "    <tr>\n",
       "      <th>269541</th>\n",
       "      <td>0</td>\n",
       "      <td>0.200000</td>\n",
       "      <td>0.464646</td>\n",
       "      <td>0.386243</td>\n",
       "      <td>1</td>\n",
       "    </tr>\n",
       "    <tr>\n",
       "      <th>270304</th>\n",
       "      <td>0</td>\n",
       "      <td>0.183333</td>\n",
       "      <td>0.464646</td>\n",
       "      <td>0.206349</td>\n",
       "      <td>1</td>\n",
       "    </tr>\n",
       "    <tr>\n",
       "      <th>270306</th>\n",
       "      <td>0</td>\n",
       "      <td>0.316667</td>\n",
       "      <td>0.464646</td>\n",
       "      <td>0.206349</td>\n",
       "      <td>1</td>\n",
       "    </tr>\n",
       "    <tr>\n",
       "      <th>270981</th>\n",
       "      <td>1</td>\n",
       "      <td>0.200000</td>\n",
       "      <td>0.555556</td>\n",
       "      <td>0.343915</td>\n",
       "      <td>1</td>\n",
       "    </tr>\n",
       "    <tr>\n",
       "      <th>271032</th>\n",
       "      <td>0</td>\n",
       "      <td>0.183333</td>\n",
       "      <td>0.545455</td>\n",
       "      <td>0.280423</td>\n",
       "      <td>1</td>\n",
       "    </tr>\n",
       "  </tbody>\n",
       "</table>\n",
       "<p>526 rows × 5 columns</p>\n",
       "</div>"
      ]
     },
     "metadata": {},
     "execution_count": 815
    }
   ],
   "metadata": {}
  },
  {
   "cell_type": "code",
   "execution_count": 816,
   "source": [
    "footL=foot.loc[(foot[\"Medal\"]==0)] \r\n",
    "footL=footL.sample(526)\r\n",
    "# footL.reset_index()\r\n",
    "foot=pd.concat([footL,footwins])\r\n",
    "foot = shuffle(foot)\r\n",
    "# foot.shape\r\n",
    "\r\n",
    "# foot.drop(foot[foot.Height.min].index, inplace=True)\r\n",
    "\r\n",
    "\r\n",
    "# foot.drop(min([\"Height\"]), axis=1)\r\n",
    "# print(res)\r\n",
    "# # sns.boxplot(x=foot[\"Height\"])\r\n",
    "# # plt.show()\r\n",
    "\r\n",
    "# foot.drop(min([\"Weight\"]), axis=1)\r\n",
    "# # sns.boxplot(x=foot[\"Weight\"])\r\n",
    "# # plt.show()\r\n",
    "# # foot.head()\r\n",
    "\r\n",
    "foot.shape"
   ],
   "outputs": [
    {
     "output_type": "execute_result",
     "data": {
      "text/plain": [
       "(1052, 5)"
      ]
     },
     "metadata": {},
     "execution_count": 816
    }
   ],
   "metadata": {}
  },
  {
   "cell_type": "code",
   "execution_count": 817,
   "source": [
    "from sklearn.preprocessing import LabelEncoder\r\n",
    "from sklearn.linear_model import LogisticRegression\r\n",
    "from sklearn.datasets import make_blobs\r\n",
    "from sklearn.model_selection import train_test_split\r\n",
    "from sklearn.metrics import classification_report, accuracy_score\r\n",
    "\r\n",
    "reglog = LogisticRegression(solver=\"lbfgs\", penalty=\"none\", max_iter=300)\r\n",
    "\r\n",
    "X = foot.drop([\"Medal\"], axis=1)\r\n",
    "Y = foot[\"Medal\"].astype(int)\r\n",
    "\r\n",
    "print(X.shape)\r\n",
    "print(Y.shape)\r\n",
    "\r\n",
    "\r\n",
    "X_train, X_test, Y_train, Y_test = train_test_split(X, Y, shuffle=True, train_size=0.8, random_state=42)\r\n",
    "\r\n",
    "\r\n",
    "reglog = reglog.fit(X_train, Y_train)\r\n",
    "\r\n",
    "print('Coefficients: ', reglog.coef_)\r\n",
    "\r\n",
    "predicted_classes = reglog.predict(X_test)\r\n",
    "accuracy = accuracy_score(Y_test,predicted_classes)\r\n",
    "\r\n",
    "print('Accuracy (%): ', accuracy * 100)\r\n",
    "\r\n",
    "print(classification_report(Y_test,predicted_classes))"
   ],
   "outputs": [
    {
     "output_type": "stream",
     "name": "stdout",
     "text": [
      "(1052, 4)\n",
      "(1052,)\n",
      "Coefficients:  [[-0.50781135 -0.43793978 -0.47035518  1.99722418]]\n",
      "Accuracy (%):  52.13270142180095\n",
      "              precision    recall  f1-score   support\n",
      "\n",
      "           0       0.57      0.56      0.56       116\n",
      "           1       0.47      0.47      0.47        95\n",
      "\n",
      "    accuracy                           0.52       211\n",
      "   macro avg       0.52      0.52      0.52       211\n",
      "weighted avg       0.52      0.52      0.52       211\n",
      "\n"
     ]
    }
   ],
   "metadata": {}
  },
  {
   "cell_type": "code",
   "execution_count": 818,
   "source": [
    "# cor = clearData.corr()\r\n",
    "# sns.heatmap(cor, annot=True, cmap=plt.cm.Reds)\r\n",
    "# plt.show()"
   ],
   "outputs": [],
   "metadata": {}
  },
  {
   "cell_type": "code",
   "execution_count": 819,
   "source": [
    "# import xgboost as xgb\r\n",
    "# from sklearn.model_selection import train_test_split\r\n",
    "# from sklearn.ensemble import RandomForestClassifier\r\n",
    "\r\n",
    "# X_train, X_test, Y_train, Y_test = train_test_split(X, Y, test_size=0.2)\r\n",
    "# classifier = RandomForestClassifier(n_estimators=100, max_depth=10, random_state=42)\r\n",
    "# classifier.fit(X_train, Y_train) # On peut mettre Y_train ou Y_train_lb. Pourquoi ?\r\n",
    "\r\n",
    "\r\n",
    "# from sklearn.metrics import classification_report, accuracy_score\r\n",
    "\r\n",
    "# predicted_classes = classifier.predict(X_test)\r\n",
    "# accuracy = accuracy_score(Y_test,predicted_classes)\r\n",
    "\r\n",
    "# print('Accuracy (%): ', accuracy * 100)\r\n",
    "\r\n",
    "# print(classification_report(Y_test,predicted_classes))"
   ],
   "outputs": [],
   "metadata": {}
  },
  {
   "cell_type": "code",
   "execution_count": 820,
   "source": [
    "# X = clearData[\"Sport\"].tolist()\r\n",
    "\r\n",
    "# label_encoder = LabelEncoder()\r\n",
    "# X_labels = label_encoder.fit_transform(\"|\".join(X).split(\"|\"))\r\n",
    "\r\n",
    "# clearData[\"Sport\"] = X_labels\r\n",
    "# clearData.head(15)"
   ],
   "outputs": [],
   "metadata": {}
  },
  {
   "cell_type": "code",
   "execution_count": 821,
   "source": [
    "# from sklearn.preprocessing import LabelEncoder\r\n",
    "# from sklearn.linear_model import LogisticRegression\r\n",
    "# from sklearn.datasets import make_blobs\r\n",
    "# from sklearn.model_selection import train_test_split\r\n",
    "# from sklearn.metrics import classification_report, accuracy_score\r\n",
    "\r\n",
    "# lenCD = len(clearData[clearData.Medal == 1])\r\n",
    "\r\n",
    "# sampleData = pd.concat([clearData[clearData.Medal == 1], clearData[clearData.Medal == 0].sample(lenCD)])\r\n",
    "\r\n",
    "# reglog = LogisticRegression(solver=\"lbfgs\", penalty=\"none\", max_iter=300)\r\n",
    "\r\n",
    "# X = sampleData.drop([\"Medal\"], axis=1)\r\n",
    "# Y = sampleData[\"Medal\"].astype(int)\r\n",
    "\r\n",
    "# X_train, X_test, Y_train, Y_test = train_test_split(X, Y, shuffle=True, train_size=0.8, random_state=42)\r\n",
    "\r\n",
    "\r\n",
    "# reglog = reglog.fit(X_train, Y_train)\r\n",
    "\r\n",
    "# print('Coefficients: ', reglog.coef_)\r\n",
    "\r\n",
    "# predicted_classes = reglog.predict(X_test)\r\n",
    "# accuracy = accuracy_score(Y_test,predicted_classes)\r\n",
    "\r\n",
    "# print('Accuracy (%): ', accuracy * 100)\r\n",
    "\r\n",
    "# print(classification_report(Y_test,predicted_classes))"
   ],
   "outputs": [],
   "metadata": {}
  }
 ],
 "metadata": {
  "interpreter": {
   "hash": "9d3ffbafb9a26a484d1051890a2486a7bf854cda984fd591b2ab15541aeade44"
  },
  "kernelspec": {
   "name": "python3",
   "display_name": "Python 3.9.6 64-bit (windows store)"
  },
  "language_info": {
   "codemirror_mode": {
    "name": "ipython",
    "version": 3
   },
   "file_extension": ".py",
   "mimetype": "text/x-python",
   "name": "python",
   "nbconvert_exporter": "python",
   "pygments_lexer": "ipython3",
   "version": "3.9.6"
  }
 },
 "nbformat": 4,
 "nbformat_minor": 2
}