{
 "cells": [
  {
   "cell_type": "code",
   "execution_count": 483,
   "metadata": {},
   "outputs": [],
   "source": [
    "import pandas as pd\n",
    "import matplotlib.pyplot as plt\n",
    "import seaborn as sns\n",
    "import numpy as np\n",
    "from sklearn.preprocessing import LabelEncoder, OneHotEncoder, MinMaxScaler\n",
    "from sklearn.feature_extraction import DictVectorizer\n",
    "from sklearn.utils import shuffle\n",
    "from sklearn.model_selection import train_test_split\n",
    "from sklearn.ensemble import RandomForestClassifier\n",
    "\n",
    "from sklearn.linear_model import LogisticRegression\n",
    "from sklearn.datasets import make_blobs\n",
    "from sklearn.metrics import classification_report, accuracy_score\n",
    "import sklearn\n",
    "from sklearn.utils import shuffle\n",
    "import xgboost as xgb"
   ]
  },
  {
   "cell_type": "markdown",
   "metadata": {},
   "source": [
    "**Problématique choisie :** Est-il possible de prévoir quelles variables physiques permettent de remporter des médailles ?"
   ]
  },
  {
   "cell_type": "markdown",
   "metadata": {},
   "source": [
    "# Présentation du data set"
   ]
  },
  {
   "cell_type": "code",
   "execution_count": 484,
   "metadata": {},
   "outputs": [
    {
     "data": {
      "text/html": [
       "<div>\n",
       "<style scoped>\n",
       "    .dataframe tbody tr th:only-of-type {\n",
       "        vertical-align: middle;\n",
       "    }\n",
       "\n",
       "    .dataframe tbody tr th {\n",
       "        vertical-align: top;\n",
       "    }\n",
       "\n",
       "    .dataframe thead th {\n",
       "        text-align: right;\n",
       "    }\n",
       "</style>\n",
       "<table border=\"1\" class=\"dataframe\">\n",
       "  <thead>\n",
       "    <tr style=\"text-align: right;\">\n",
       "      <th></th>\n",
       "      <th>ID</th>\n",
       "      <th>Name</th>\n",
       "      <th>Sex</th>\n",
       "      <th>Age</th>\n",
       "      <th>Height</th>\n",
       "      <th>Weight</th>\n",
       "      <th>Team</th>\n",
       "      <th>NOC</th>\n",
       "      <th>Games</th>\n",
       "      <th>Year</th>\n",
       "      <th>Season</th>\n",
       "      <th>City</th>\n",
       "      <th>Sport</th>\n",
       "      <th>Event</th>\n",
       "      <th>Medal</th>\n",
       "    </tr>\n",
       "  </thead>\n",
       "  <tbody>\n",
       "    <tr>\n",
       "      <th>0</th>\n",
       "      <td>1</td>\n",
       "      <td>A Dijiang</td>\n",
       "      <td>M</td>\n",
       "      <td>24.0</td>\n",
       "      <td>180.0</td>\n",
       "      <td>80.0</td>\n",
       "      <td>China</td>\n",
       "      <td>CHN</td>\n",
       "      <td>1992 Summer</td>\n",
       "      <td>1992</td>\n",
       "      <td>Summer</td>\n",
       "      <td>Barcelona</td>\n",
       "      <td>Basketball</td>\n",
       "      <td>Basketball Men's Basketball</td>\n",
       "      <td>NaN</td>\n",
       "    </tr>\n",
       "    <tr>\n",
       "      <th>1</th>\n",
       "      <td>2</td>\n",
       "      <td>A Lamusi</td>\n",
       "      <td>M</td>\n",
       "      <td>23.0</td>\n",
       "      <td>170.0</td>\n",
       "      <td>60.0</td>\n",
       "      <td>China</td>\n",
       "      <td>CHN</td>\n",
       "      <td>2012 Summer</td>\n",
       "      <td>2012</td>\n",
       "      <td>Summer</td>\n",
       "      <td>London</td>\n",
       "      <td>Judo</td>\n",
       "      <td>Judo Men's Extra-Lightweight</td>\n",
       "      <td>NaN</td>\n",
       "    </tr>\n",
       "    <tr>\n",
       "      <th>2</th>\n",
       "      <td>3</td>\n",
       "      <td>Gunnar Nielsen Aaby</td>\n",
       "      <td>M</td>\n",
       "      <td>24.0</td>\n",
       "      <td>NaN</td>\n",
       "      <td>NaN</td>\n",
       "      <td>Denmark</td>\n",
       "      <td>DEN</td>\n",
       "      <td>1920 Summer</td>\n",
       "      <td>1920</td>\n",
       "      <td>Summer</td>\n",
       "      <td>Antwerpen</td>\n",
       "      <td>Football</td>\n",
       "      <td>Football Men's Football</td>\n",
       "      <td>NaN</td>\n",
       "    </tr>\n",
       "    <tr>\n",
       "      <th>3</th>\n",
       "      <td>4</td>\n",
       "      <td>Edgar Lindenau Aabye</td>\n",
       "      <td>M</td>\n",
       "      <td>34.0</td>\n",
       "      <td>NaN</td>\n",
       "      <td>NaN</td>\n",
       "      <td>Denmark/Sweden</td>\n",
       "      <td>DEN</td>\n",
       "      <td>1900 Summer</td>\n",
       "      <td>1900</td>\n",
       "      <td>Summer</td>\n",
       "      <td>Paris</td>\n",
       "      <td>Tug-Of-War</td>\n",
       "      <td>Tug-Of-War Men's Tug-Of-War</td>\n",
       "      <td>Gold</td>\n",
       "    </tr>\n",
       "    <tr>\n",
       "      <th>4</th>\n",
       "      <td>5</td>\n",
       "      <td>Christine Jacoba Aaftink</td>\n",
       "      <td>F</td>\n",
       "      <td>21.0</td>\n",
       "      <td>185.0</td>\n",
       "      <td>82.0</td>\n",
       "      <td>Netherlands</td>\n",
       "      <td>NED</td>\n",
       "      <td>1988 Winter</td>\n",
       "      <td>1988</td>\n",
       "      <td>Winter</td>\n",
       "      <td>Calgary</td>\n",
       "      <td>Speed Skating</td>\n",
       "      <td>Speed Skating Women's 500 metres</td>\n",
       "      <td>NaN</td>\n",
       "    </tr>\n",
       "  </tbody>\n",
       "</table>\n",
       "</div>"
      ],
      "text/plain": [
       "   ID                      Name Sex   Age  Height  Weight            Team  \\\n",
       "0   1                 A Dijiang   M  24.0   180.0    80.0           China   \n",
       "1   2                  A Lamusi   M  23.0   170.0    60.0           China   \n",
       "2   3       Gunnar Nielsen Aaby   M  24.0     NaN     NaN         Denmark   \n",
       "3   4      Edgar Lindenau Aabye   M  34.0     NaN     NaN  Denmark/Sweden   \n",
       "4   5  Christine Jacoba Aaftink   F  21.0   185.0    82.0     Netherlands   \n",
       "\n",
       "   NOC        Games  Year  Season       City          Sport  \\\n",
       "0  CHN  1992 Summer  1992  Summer  Barcelona     Basketball   \n",
       "1  CHN  2012 Summer  2012  Summer     London           Judo   \n",
       "2  DEN  1920 Summer  1920  Summer  Antwerpen       Football   \n",
       "3  DEN  1900 Summer  1900  Summer      Paris     Tug-Of-War   \n",
       "4  NED  1988 Winter  1988  Winter    Calgary  Speed Skating   \n",
       "\n",
       "                              Event Medal  \n",
       "0       Basketball Men's Basketball   NaN  \n",
       "1      Judo Men's Extra-Lightweight   NaN  \n",
       "2           Football Men's Football   NaN  \n",
       "3       Tug-Of-War Men's Tug-Of-War  Gold  \n",
       "4  Speed Skating Women's 500 metres   NaN  "
      ]
     },
     "execution_count": 484,
     "metadata": {},
     "output_type": "execute_result"
    }
   ],
   "source": [
    "rawData = pd.read_csv(\"dataset/athlete_events.csv\")\n",
    "\n",
    "rawData.head()"
   ]
  },
  {
   "cell_type": "code",
   "execution_count": 485,
   "metadata": {},
   "outputs": [
    {
     "data": {
      "text/html": [
       "<div>\n",
       "<style scoped>\n",
       "    .dataframe tbody tr th:only-of-type {\n",
       "        vertical-align: middle;\n",
       "    }\n",
       "\n",
       "    .dataframe tbody tr th {\n",
       "        vertical-align: top;\n",
       "    }\n",
       "\n",
       "    .dataframe thead th {\n",
       "        text-align: right;\n",
       "    }\n",
       "</style>\n",
       "<table border=\"1\" class=\"dataframe\">\n",
       "  <thead>\n",
       "    <tr style=\"text-align: right;\">\n",
       "      <th></th>\n",
       "      <th>ID</th>\n",
       "      <th>Age</th>\n",
       "      <th>Height</th>\n",
       "      <th>Weight</th>\n",
       "      <th>Year</th>\n",
       "    </tr>\n",
       "  </thead>\n",
       "  <tbody>\n",
       "    <tr>\n",
       "      <th>count</th>\n",
       "      <td>271116.000000</td>\n",
       "      <td>261642.000000</td>\n",
       "      <td>210945.000000</td>\n",
       "      <td>208241.000000</td>\n",
       "      <td>271116.000000</td>\n",
       "    </tr>\n",
       "    <tr>\n",
       "      <th>mean</th>\n",
       "      <td>68248.954396</td>\n",
       "      <td>25.556898</td>\n",
       "      <td>175.338970</td>\n",
       "      <td>70.702393</td>\n",
       "      <td>1978.378480</td>\n",
       "    </tr>\n",
       "    <tr>\n",
       "      <th>std</th>\n",
       "      <td>39022.286345</td>\n",
       "      <td>6.393561</td>\n",
       "      <td>10.518462</td>\n",
       "      <td>14.348020</td>\n",
       "      <td>29.877632</td>\n",
       "    </tr>\n",
       "    <tr>\n",
       "      <th>min</th>\n",
       "      <td>1.000000</td>\n",
       "      <td>10.000000</td>\n",
       "      <td>127.000000</td>\n",
       "      <td>25.000000</td>\n",
       "      <td>1896.000000</td>\n",
       "    </tr>\n",
       "    <tr>\n",
       "      <th>25%</th>\n",
       "      <td>34643.000000</td>\n",
       "      <td>21.000000</td>\n",
       "      <td>168.000000</td>\n",
       "      <td>60.000000</td>\n",
       "      <td>1960.000000</td>\n",
       "    </tr>\n",
       "    <tr>\n",
       "      <th>50%</th>\n",
       "      <td>68205.000000</td>\n",
       "      <td>24.000000</td>\n",
       "      <td>175.000000</td>\n",
       "      <td>70.000000</td>\n",
       "      <td>1988.000000</td>\n",
       "    </tr>\n",
       "    <tr>\n",
       "      <th>75%</th>\n",
       "      <td>102097.250000</td>\n",
       "      <td>28.000000</td>\n",
       "      <td>183.000000</td>\n",
       "      <td>79.000000</td>\n",
       "      <td>2002.000000</td>\n",
       "    </tr>\n",
       "    <tr>\n",
       "      <th>max</th>\n",
       "      <td>135571.000000</td>\n",
       "      <td>97.000000</td>\n",
       "      <td>226.000000</td>\n",
       "      <td>214.000000</td>\n",
       "      <td>2016.000000</td>\n",
       "    </tr>\n",
       "  </tbody>\n",
       "</table>\n",
       "</div>"
      ],
      "text/plain": [
       "                  ID            Age         Height         Weight  \\\n",
       "count  271116.000000  261642.000000  210945.000000  208241.000000   \n",
       "mean    68248.954396      25.556898     175.338970      70.702393   \n",
       "std     39022.286345       6.393561      10.518462      14.348020   \n",
       "min         1.000000      10.000000     127.000000      25.000000   \n",
       "25%     34643.000000      21.000000     168.000000      60.000000   \n",
       "50%     68205.000000      24.000000     175.000000      70.000000   \n",
       "75%    102097.250000      28.000000     183.000000      79.000000   \n",
       "max    135571.000000      97.000000     226.000000     214.000000   \n",
       "\n",
       "                Year  \n",
       "count  271116.000000  \n",
       "mean     1978.378480  \n",
       "std        29.877632  \n",
       "min      1896.000000  \n",
       "25%      1960.000000  \n",
       "50%      1988.000000  \n",
       "75%      2002.000000  \n",
       "max      2016.000000  "
      ]
     },
     "execution_count": 485,
     "metadata": {},
     "output_type": "execute_result"
    }
   ],
   "source": [
    "rawData.describe()"
   ]
  },
  {
   "cell_type": "markdown",
   "metadata": {},
   "source": [
    "## Les variables\n",
    "\n",
    "\n",
    "- ID : Identifiant unique pour chacun des athlètes\n",
    "- Name : Nom de l'athlète\n",
    "- Sex : Sexe de l'athlète (M ou F)\n",
    "- Age : Age de l'athlète\n",
    "- Height : Taille en centimètres de l'athlète\n",
    "- Weight : Poids en kilogrammes de l'athlète\n",
    "- Team : Pays de l'athlète\n",
    "- NOC : Identifiant en trois lettre du pays\n",
    "- Games : Année et saison des JO\n",
    "- Year : Année de participation\n",
    "- Season : \"Summer\" ou \"Winter\"\n",
    "- City : Ville hôte\n",
    "- Sport : Sport de l'épreuve\n",
    "- Event : Nom de l'évènement\n",
    "- Medal : Type de médaille remportée : Gold, Silver, Bronze, ou NA si rien n'a été gagné par l'athlète\n",
    "\n",
    "### Variables utlisées dans le cadre de la résolution de la problématique\n",
    "Les variables qui seront utlisées dans le cadre de la résolution de la problématique seront;\n",
    "Pour décrire physiquement l'athlète:\n",
    "- Age\n",
    "- Height\n",
    "- Weight\n",
    "\n",
    "Pour catégoriser les athlètes:\n",
    "- Sport\n",
    "\n",
    "Pour évaluer la réussite de l'athlète:\n",
    "- Medal"
   ]
  },
  {
   "cell_type": "markdown",
   "metadata": {},
   "source": [
    "### Descriptions graphiques des variables"
   ]
  },
  {
   "cell_type": "markdown",
   "metadata": {},
   "source": [
    "#### Taille / Poids / Age"
   ]
  },
  {
   "cell_type": "code",
   "execution_count": 486,
   "metadata": {},
   "outputs": [
    {
     "data": {
      "image/png": "[encoded data removed]",
      "text/plain": [
       "<Figure size 432x288 with 1 Axes>"
      ]
     },
     "metadata": {
      "needs_background": "light"
     },
     "output_type": "display_data"
    },
    {
     "data": {
      "image/png": "[encoded data removed]",
      "text/plain": [
       "<Figure size 432x288 with 1 Axes>"
      ]
     },
     "metadata": {
      "needs_background": "light"
     },
     "output_type": "display_data"
    },
    {
     "data": {
      "image/png": "[encoded data removed]",
      "text/plain": [
       "<Figure size 432x288 with 1 Axes>"
      ]
     },
     "metadata": {
      "needs_background": "light"
     },
     "output_type": "display_data"
    },
    {
     "data": {
      "image/png": "[encoded data removed]",
      "text/plain": [
       "<Figure size 432x432 with 3 Axes>"
      ]
     },
     "metadata": {
      "needs_background": "light"
     },
     "output_type": "display_data"
    },
    {
     "data": {
      "image/png": "[encoded data removed]",
      "text/plain": [
       "<Figure size 432x288 with 1 Axes>"
      ]
     },
     "metadata": {
      "needs_background": "light"
     },
     "output_type": "display_data"
    },
    {
     "data": {
      "image/png": "[encoded data removed]",
      "text/plain": [
       "<Figure size 432x288 with 1 Axes>"
      ]
     },
     "metadata": {
      "needs_background": "light"
     },
     "output_type": "display_data"
    },
    {
     "data": {
      "image/png": "[encoded data removed]",
      "text/plain": [
       "<Figure size 432x288 with 1 Axes>"
      ]
     },
     "metadata": {
      "needs_background": "light"
     },
     "output_type": "display_data"
    },
    {
     "data": {
      "image/png": "[encoded data removed]",
      "text/plain": [
       "<Figure size 432x288 with 2 Axes>"
      ]
     },
     "metadata": {
      "needs_background": "light"
     },
     "output_type": "display_data"
    }
   ],
   "source": [
    "\n",
    "plt.hist(rawData[\"Height\"], bins=100, label=['Taille'])\n",
    "plt.legend(loc=\"upper right\")\n",
    "plt.xlabel('Taille en cm')\n",
    "plt.ylabel(\"Nombre d'athlètes\")\n",
    "plt.show()\n",
    "\n",
    "plt.hist(rawData[\"Weight\"], bins=100, label=['Poids'])\n",
    "plt.legend(loc=\"upper right\")\n",
    "plt.xlabel('Poids en kg')\n",
    "plt.ylabel(\"Nombre d'athlètes\")\n",
    "plt.show()\n",
    "\n",
    "plt.hist(rawData[\"Age\"], bins=70, label=['Age'])\n",
    "plt.legend(loc=\"upper right\")\n",
    "plt.xlabel('Age en année')\n",
    "plt.ylabel(\"Nombre d'athlètes\")\n",
    "plt.show()\n",
    "\n",
    "sns.jointplot(x=rawData[\"Weight\"],y=rawData[\"Height\"])\n",
    "plt.show()\n",
    "\n",
    "sns.boxplot(x=rawData[\"Height\"])\n",
    "plt.show()\n",
    "\n",
    "sns.boxplot(x=rawData[\"Weight\"])\n",
    "plt.show()\n",
    "\n",
    "sns.boxplot(x=rawData[\"Age\"])\n",
    "plt.show()\n",
    "\n",
    "cor = rawData.corr()\n",
    "sns.heatmap(cor, annot=True, cmap=plt.cm.Reds)\n",
    "plt.show()\n",
    "\n",
    "# carafoot=rawData.loc[(rawData['Sport'] == \"Football\") ]\n",
    "# # data.loc[(data['dropoff_latitude'] > 40.5) & (data['passenger_count'] == 2), 'fare_amount'].head()\n",
    "# # print(carafoot)\n",
    "# plt.hist(carafoot[\"Height\"],bins=70, label=['Taille'])\n",
    "# plt.legend(loc=\"upper right\")\n",
    "# plt.xlabel('Age en année')\n",
    "# plt.ylabel(\"Nombre d'athlètes\")\n",
    "# plt.show()\n",
    "\n",
    "\n",
    "# carafoot=rawData.loc[(rawData['Sport'] == \"Basketball\") ]\n",
    "# # data.loc[(data['dropoff_latitude'] > 40.5) & (data['passenger_count'] == 2), 'fare_amount'].head()\n",
    "# # print(carafoot)\n",
    "# plt.hist(carafoot[\"Height\"],bins=70, label=['Taille'])\n",
    "# plt.legend(loc=\"upper right\")\n",
    "# plt.xlabel('Age en année')\n",
    "# plt.ylabel(\"Nombre d'athlètes\")\n",
    "# plt.show()"
   ]
  },
  {
   "cell_type": "markdown",
   "metadata": {},
   "source": [
    "# Nettoyage des données"
   ]
  },
  {
   "cell_type": "markdown",
   "metadata": {},
   "source": [
    "Données qu'on considère comme ne pouvant pas être null à cause :\n",
    "\n",
    "**Du non sens physique**\n",
    " - Age\n",
    " - Height\n",
    " - Weight\n",
    " - Sex\n",
    "\n",
    "\n",
    "**Pour les besoins du process de traitement**\n",
    " - Sport"
   ]
  },
  {
   "cell_type": "markdown",
   "metadata": {},
   "source": [
    "Et puis dans un deuxième temps:\n",
    "En observant la répartition des données dans les boîtes à moustaches ci-dessus,\n",
    "on peut remarquer certaines données qui sortent beaucoup trop du lot, et les retirer pour\n",
    "ne pas qu'elles risquent d'affaiblir la précision de nos modèles.\n",
    "Ainsi dans le poids on peut remarquer un point à l'extrémité droite causé par un participant \n",
    "de Judo pesant 220 kg, que l'on va retirer."
   ]
  },
  {
   "cell_type": "code",
   "execution_count": 488,
   "metadata": {},
   "outputs": [
    {
     "name": "stdout",
     "output_type": "stream",
     "text": [
      "Taille pré nettoyage :271116\n",
      "avant nettoyage du poids: (271116, 7)\n",
      "après nettoyage du poids: (271114, 7)\n",
      "Taille post nettoyage :206163\n",
      "Il y'a donc une perte de 64951\n"
     ]
    },
    {
     "data": {
      "text/html": [
       "<div>\n",
       "<style scoped>\n",
       "    .dataframe tbody tr th:only-of-type {\n",
       "        vertical-align: middle;\n",
       "    }\n",
       "\n",
       "    .dataframe tbody tr th {\n",
       "        vertical-align: top;\n",
       "    }\n",
       "\n",
       "    .dataframe thead th {\n",
       "        text-align: right;\n",
       "    }\n",
       "</style>\n",
       "<table border=\"1\" class=\"dataframe\">\n",
       "  <thead>\n",
       "    <tr style=\"text-align: right;\">\n",
       "      <th></th>\n",
       "      <th>ID</th>\n",
       "      <th>Sex</th>\n",
       "      <th>Age</th>\n",
       "      <th>Height</th>\n",
       "      <th>Weight</th>\n",
       "      <th>Sport</th>\n",
       "      <th>Medal</th>\n",
       "    </tr>\n",
       "  </thead>\n",
       "  <tbody>\n",
       "    <tr>\n",
       "      <th>0</th>\n",
       "      <td>1</td>\n",
       "      <td>M</td>\n",
       "      <td>24.0</td>\n",
       "      <td>180.0</td>\n",
       "      <td>80.0</td>\n",
       "      <td>Basketball</td>\n",
       "      <td>NaN</td>\n",
       "    </tr>\n",
       "    <tr>\n",
       "      <th>1</th>\n",
       "      <td>2</td>\n",
       "      <td>M</td>\n",
       "      <td>23.0</td>\n",
       "      <td>170.0</td>\n",
       "      <td>60.0</td>\n",
       "      <td>Judo</td>\n",
       "      <td>NaN</td>\n",
       "    </tr>\n",
       "    <tr>\n",
       "      <th>4</th>\n",
       "      <td>5</td>\n",
       "      <td>F</td>\n",
       "      <td>21.0</td>\n",
       "      <td>185.0</td>\n",
       "      <td>82.0</td>\n",
       "      <td>Speed Skating</td>\n",
       "      <td>NaN</td>\n",
       "    </tr>\n",
       "    <tr>\n",
       "      <th>5</th>\n",
       "      <td>5</td>\n",
       "      <td>F</td>\n",
       "      <td>21.0</td>\n",
       "      <td>185.0</td>\n",
       "      <td>82.0</td>\n",
       "      <td>Speed Skating</td>\n",
       "      <td>NaN</td>\n",
       "    </tr>\n",
       "    <tr>\n",
       "      <th>6</th>\n",
       "      <td>5</td>\n",
       "      <td>F</td>\n",
       "      <td>25.0</td>\n",
       "      <td>185.0</td>\n",
       "      <td>82.0</td>\n",
       "      <td>Speed Skating</td>\n",
       "      <td>NaN</td>\n",
       "    </tr>\n",
       "  </tbody>\n",
       "</table>\n",
       "</div>"
      ],
      "text/plain": [
       "   ID Sex   Age  Height  Weight          Sport Medal\n",
       "0   1   M  24.0   180.0    80.0     Basketball   NaN\n",
       "1   2   M  23.0   170.0    60.0           Judo   NaN\n",
       "4   5   F  21.0   185.0    82.0  Speed Skating   NaN\n",
       "5   5   F  21.0   185.0    82.0  Speed Skating   NaN\n",
       "6   5   F  25.0   185.0    82.0  Speed Skating   NaN"
      ]
     },
     "execution_count": 488,
     "metadata": {},
     "output_type": "execute_result"
    }
   ],
   "source": [
    "rawData.isnull()\n",
    "\n",
    "print(\"Taille pré nettoyage :\" + str(len(rawData)))\n",
    "\n",
    "# Suppression des colonnes inutiles\n",
    "rawData = rawData.drop([\"Name\", \"Team\", \"NOC\", \"Games\", \"Year\", \"Season\", \"City\", \"Event\"], axis=1)\n",
    "\n",
    "#enlevement valeur aberrante de poids observée dans la boîte à moustache ci-dessus\n",
    "print(\"avant nettoyage du poids:\",rawData.shape)\n",
    "ID = rawData['Weight'].idxmax()\n",
    "heavy=rawData.iloc[ID]\n",
    "rawData.drop(rawData[rawData[\"ID\"] == heavy[\"ID\"]].index, inplace=True)\n",
    "print(\"après nettoyage du poids:\",rawData.shape)\n",
    "\n",
    "\n",
    "\n",
    "# Filtre sur les data null\n",
    "clearData = rawData[(rawData[\"Height\"].isnull() == False) & \\\n",
    "                    (rawData[\"Age\"].isnull() == False) & \\\n",
    "                    (rawData[\"Weight\"].isnull() == False) & \\\n",
    "                    (rawData[\"Sex\"].isnull() == False) & \\\n",
    "                    (rawData[\"Sport\"].isnull() == False)\n",
    "                    ]\n",
    "print(\"Taille post nettoyage :\" + str(len(clearData)))\n",
    "print(\"Il y'a donc une perte de \" + str(len(rawData) - len(clearData)))\n",
    "clearData.head()"
   ]
  },
  {
   "cell_type": "markdown",
   "metadata": {},
   "source": [
    "# Normalisation et encodage des données"
   ]
  },
  {
   "cell_type": "markdown",
   "metadata": {},
   "source": [
    "## Normalisation Taille / Poids / Age"
   ]
  },
  {
   "cell_type": "code",
   "execution_count": 489,
   "metadata": {},
   "outputs": [
    {
     "data": {
      "image/png": "[encoded data removed]",
      "text/plain": [
       "<Figure size 432x288 with 1 Axes>"
      ]
     },
     "metadata": {
      "needs_background": "light"
     },
     "output_type": "display_data"
    },
    {
     "data": {
      "image/png": "[encoded data removed]",
      "text/plain": [
       "<Figure size 432x288 with 1 Axes>"
      ]
     },
     "metadata": {
      "needs_background": "light"
     },
     "output_type": "display_data"
    },
    {
     "data": {
      "image/png": "[encoded data removed]",
      "text/plain": [
       "<Figure size 432x288 with 1 Axes>"
      ]
     },
     "metadata": {
      "needs_background": "light"
     },
     "output_type": "display_data"
    }
   ],
   "source": [
    "#normalisation de l'age \n",
    "clearData = clearData.copy()\n",
    "data_age = clearData[\"Age\"].copy()\n",
    "min_age = (data_age-data_age.min())\n",
    "max_age = (data_age.max()-data_age.min())\n",
    "res = (min_age)/(max_age)*1\n",
    "clearData[\"Age\"] = res\n",
    "\n",
    "#normalisation du poids\n",
    "clearData = clearData.copy()\n",
    "data_age = clearData[\"Weight\"].copy()\n",
    "min_age = (data_age-data_age.min())\n",
    "max_age = (data_age.max()-data_age.min())\n",
    "res = (min_age)/(max_age)*1\n",
    "clearData[\"Weight\"] = res\n",
    "\n",
    "#normalisation de la taille\n",
    "clearData = clearData.copy()\n",
    "data_age = clearData[\"Height\"].copy()\n",
    "min_age = (data_age-data_age.min())\n",
    "max_age = (data_age.max()-data_age.min())\n",
    "res = (min_age)/(max_age)*1\n",
    "clearData[\"Height\"] = res\n",
    "\n",
    "\n",
    "\n",
    "plt.hist(clearData[\"Height\"], bins=100, label=['Taille Normalisée'])\n",
    "plt.legend(loc=\"upper right\")\n",
    "plt.xlabel('Taille en cm')\n",
    "plt.ylabel(\"Nombre d'athlètes\")\n",
    "plt.show()\n",
    "\n",
    "plt.hist(clearData[\"Weight\"], bins=100, label=['Poids Normalisé'])\n",
    "plt.legend(loc=\"upper right\")\n",
    "plt.xlabel('Poids en kg')\n",
    "plt.ylabel(\"Nombre d'athlètes\")\n",
    "plt.show()\n",
    "\n",
    "plt.hist(clearData[\"Age\"], bins=60, label=['Age Normalisée'])\n",
    "plt.legend(loc=\"upper right\")\n",
    "plt.xlabel('Age en année')\n",
    "plt.ylabel(\"Nombre d'athlètes\")\n",
    "plt.show()\n",
    "\n",
    "clearData.loc[(clearData[\"Medal\"].isnull() == False), 'Medal'] = 1\n",
    "clearData.loc[(clearData[\"Medal\"].isnull() == True), 'Medal'] = 0\n",
    "\n",
    "clearData.loc[(clearData[\"Sex\"]== \"M\"), 'Sex'] = 1\n",
    "clearData.loc[(clearData[\"Sex\"]== \"F\"), 'Sex'] = 0\n"
   ]
  },
  {
   "cell_type": "markdown",
   "metadata": {},
   "source": [
    "# Regression logistique (Tous sports confondus)"
   ]
  },
  {
   "cell_type": "code",
   "execution_count": 490,
   "metadata": {},
   "outputs": [
    {
     "name": "stdout",
     "output_type": "stream",
     "text": [
      "Nombre de médaillés : 30181\n",
      "Nombre de non-médaillés : 175982\n"
     ]
    }
   ],
   "source": [
    "print(\"Nombre de médaillés : \" + str(len(clearData[clearData[\"Medal\"] == 1])))\n",
    "\n",
    "print(\"Nombre de non-médaillés : \" + str(len(clearData[clearData[\"Medal\"] == 0])))"
   ]
  },
  {
   "cell_type": "code",
   "execution_count": 491,
   "metadata": {},
   "outputs": [
    {
     "name": "stdout",
     "output_type": "stream",
     "text": [
      "Coefficients:  [[-0.5846615   0.64845035  2.21177817  2.22634444]]\n",
      "Accuracy (%):  85.27150583270682\n",
      "              precision    recall  f1-score   support\n",
      "\n",
      "           0       0.85      1.00      0.92     35161\n",
      "           1       0.40      0.00      0.00      6072\n",
      "\n",
      "    accuracy                           0.85     41233\n",
      "   macro avg       0.63      0.50      0.46     41233\n",
      "weighted avg       0.79      0.85      0.79     41233\n",
      "\n"
     ]
    }
   ],
   "source": [
    "reglog = LogisticRegression(solver=\"lbfgs\", penalty=\"none\", max_iter=300)\n",
    "\n",
    "relog_clearData = clearData.drop([\"Sport\", \"ID\"], axis=1)\n",
    "\n",
    "\n",
    "X = relog_clearData.drop([\"Medal\"], axis=1)\n",
    "Y = relog_clearData[\"Medal\"].astype(int)\n",
    "\n",
    "X_train, X_test, Y_train, Y_test = train_test_split(X, Y, shuffle=True, train_size=0.8, random_state=42)\n",
    "\n",
    "\n",
    "reglog = reglog.fit(X_train, Y_train)\n",
    "\n",
    "print('Coefficients: ', reglog.coef_)\n",
    "\n",
    "predicted_classes = reglog.predict(X_test)\n",
    "accuracy = accuracy_score(Y_test,predicted_classes)\n",
    "\n",
    "print('Accuracy (%): ', accuracy * 100)\n",
    "\n",
    "print(classification_report(Y_test,predicted_classes))"
   ]
  },
  {
   "cell_type": "markdown",
   "metadata": {},
   "source": [
    "### Analyse sans modification de l'échantillonage"
   ]
  },
  {
   "cell_type": "markdown",
   "metadata": {},
   "source": [
    "Dans ce modèle, on observe que le modèle fait des prédictions justes uniquement dans le cas de la classe 0, celle représentant les athlètes ne remportant pas de médaille.\n",
    "Dans 78% des cas ces prédictions, et uniquement celle-ci, s'avèrent juste. On observe aussi un taux de 100% de rappel ce qui signifie que le modèle ne crée **aucun faux négatif dans la classe 0**.  \n",
    "Par contre dans la classe 1 on observe une précision de 0% et un rappel de 0%. Cela qui signifie que le modèle n'arrive pas du tout a prédire de résultat dans la classe 1, dans la classe des athlètes gagnant des médailles.\n",
    "\n",
    "Cette incapacité à prédire quoi que ce soit de bon dans le second cas - alors que pour la classe 0 les résultats sont plutôt honorables - s'explique par la présence dans le dataset d'une quantité très importante d'athlètes n'ayant rien remporté.\n",
    "\n",
    "Bien que ce genre de problème semble indiquer que le modèle utilisé n'est pas adapté à l'étude de ce dataset, nous allons dans un premier temps effectuer un sous-échantillonage des athlètes n'ayant rien remporté pour que le ratio médaillé/non-médaillé soit plus important."
   ]
  },
  {
   "cell_type": "markdown",
   "metadata": {},
   "source": [
    "### Expérimentation du dataset ré-échantilloné"
   ]
  },
  {
   "cell_type": "code",
   "execution_count": 492,
   "metadata": {},
   "outputs": [
    {
     "name": "stdout",
     "output_type": "stream",
     "text": [
      "Coefficients:  [[5.14366298e-06 1.81379615e-10 1.17638212e-10 2.98235344e-10\n",
      "  1.85084669e-10]]\n",
      "Accuracy (%):  60.080321285140556\n",
      "              precision    recall  f1-score   support\n",
      "\n",
      "           0       0.00      0.00      0.00      3976\n",
      "           1       0.60      1.00      0.75      5984\n",
      "\n",
      "    accuracy                           0.60      9960\n",
      "   macro avg       0.30      0.50      0.38      9960\n",
      "weighted avg       0.36      0.60      0.45      9960\n",
      "\n"
     ]
    },
    {
     "name": "stderr",
     "output_type": "stream",
     "text": [
      "C:\\Users\\bukle\\AppData\\Local\\Packages\\PythonSoftwareFoundation.Python.3.9_qbz5n2kfra8p0\\LocalCache\\local-packages\\Python39\\site-packages\\sklearn\\metrics\\_classification.py:1248: UndefinedMetricWarning: Precision and F-score are ill-defined and being set to 0.0 in labels with no predicted samples. Use `zero_division` parameter to control this behavior.\n",
      "  _warn_prf(average, modifier, msg_start, len(result))\n",
      "C:\\Users\\bukle\\AppData\\Local\\Packages\\PythonSoftwareFoundation.Python.3.9_qbz5n2kfra8p0\\LocalCache\\local-packages\\Python39\\site-packages\\sklearn\\metrics\\_classification.py:1248: UndefinedMetricWarning: Precision and F-score are ill-defined and being set to 0.0 in labels with no predicted samples. Use `zero_division` parameter to control this behavior.\n",
      "  _warn_prf(average, modifier, msg_start, len(result))\n",
      "C:\\Users\\bukle\\AppData\\Local\\Packages\\PythonSoftwareFoundation.Python.3.9_qbz5n2kfra8p0\\LocalCache\\local-packages\\Python39\\site-packages\\sklearn\\metrics\\_classification.py:1248: UndefinedMetricWarning: Precision and F-score are ill-defined and being set to 0.0 in labels with no predicted samples. Use `zero_division` parameter to control this behavior.\n",
      "  _warn_prf(average, modifier, msg_start, len(result))\n"
     ]
    }
   ],
   "source": [
    "lenCD = int(len(clearData[clearData.Medal == 1])*0.65)\n",
    "\n",
    "sampleData = pd.concat([clearData[clearData.Medal == 1], clearData[clearData.Medal == 0].sample(lenCD)])\n",
    "\n",
    "reglog = LogisticRegression(solver=\"lbfgs\", penalty=\"none\", max_iter=300)\n",
    "\n",
    "\n",
    "\n",
    "X = sampleData.drop([\"Medal\", \"Sport\"], axis=1)\n",
    "Y = sampleData[\"Medal\"].astype(int)\n",
    "\n",
    "X_train, X_test, Y_train, Y_test = train_test_split(X, Y, shuffle=True, train_size=0.8, random_state=42)\n",
    "\n",
    "\n",
    "reglog = reglog.fit(X_train, Y_train)\n",
    "\n",
    "print('Coefficients: ', reglog.coef_)\n",
    "\n",
    "predicted_classes = reglog.predict(X_test)\n",
    "accuracy = accuracy_score(Y_test,predicted_classes)\n",
    "\n",
    "print('Accuracy (%): ', accuracy * 100)\n",
    "\n",
    "print(classification_report(Y_test,predicted_classes))"
   ]
  },
  {
   "cell_type": "markdown",
   "metadata": {},
   "source": [
    "### Analyse du dataset ré-échantilloné\n",
    "\n",
    "En rééchantillonant le nombre d'athlètes non médaillés, on remarque que la précision est 18pts plus basse que durant le dernier entrainement. Néanmoins, on remaque que pour la classe 0 on obtient une précision de 52% ce qui signifie que le modèle se trompe quasiment une fois sur deux et a un rappel de 2%. Il identifie donc seulement 2% des athlètes non médaillés correctement.\n",
    "\n",
    "Pour la classe 1, la classe des athlètes médaillés, on observe une précision de 61% et un rappel de 99%.\n",
    "\n",
    "Le ré-échantillonement permet donc une nette amélioration pour l'identification des athlètes remportant des médailles mais une chute drastique de la qualité d'identification de ceux qui n'en gagnent pas. \n",
    "\n",
    "Il est à noter que la quantité d'ahtlètes non médaillés a été choisie de façon empirique et est liée à une série d'observations.\n",
    "\n",
    "## Conclusion des analyses\n",
    "\n",
    "Bien que le ré-échantillonement permette d'améliorer la détection des athlètes gagnant une médaille, cette amélioration n'est pas suffisante pour permettre de dire que ce modèle est le plus efficace pour l'étude de ce dataset. De plus, sa faible capacité à identifier ceux qui ne seront pas médaillés renforce cette conclusion."
   ]
  },
  {
   "cell_type": "markdown",
   "metadata": {},
   "source": [
    "# ETUDE ECHANTILLON DE NATATION"
   ]
  },
  {
   "cell_type": "markdown",
   "metadata": {},
   "source": [
    "L'isolation des athlètes ayant fait de la natation répond a une volonté de vouloir tester les modèles sur un plus petit ensemble de sportifs et cela dans un sport individuel. \n",
    "La raison pour laquelle il est utile de séléctionner un sport individuel est que cela permet d'éviter les biais liés à la présence du participant dans une équipe. "
   ]
  },
  {
   "cell_type": "code",
   "execution_count": 493,
   "metadata": {},
   "outputs": [
    {
     "data": {
      "text/html": [
       "<div>\n",
       "<style scoped>\n",
       "    .dataframe tbody tr th:only-of-type {\n",
       "        vertical-align: middle;\n",
       "    }\n",
       "\n",
       "    .dataframe tbody tr th {\n",
       "        vertical-align: top;\n",
       "    }\n",
       "\n",
       "    .dataframe thead th {\n",
       "        text-align: right;\n",
       "    }\n",
       "</style>\n",
       "<table border=\"1\" class=\"dataframe\">\n",
       "  <thead>\n",
       "    <tr style=\"text-align: right;\">\n",
       "      <th></th>\n",
       "      <th>Sex</th>\n",
       "      <th>Age</th>\n",
       "      <th>Height</th>\n",
       "      <th>Weight</th>\n",
       "      <th>Medal</th>\n",
       "    </tr>\n",
       "  </thead>\n",
       "  <tbody>\n",
       "    <tr>\n",
       "      <th>176482</th>\n",
       "      <td>0</td>\n",
       "      <td>0.250000</td>\n",
       "      <td>0.393939</td>\n",
       "      <td>0.173410</td>\n",
       "      <td>0</td>\n",
       "    </tr>\n",
       "    <tr>\n",
       "      <th>154036</th>\n",
       "      <td>0</td>\n",
       "      <td>0.100000</td>\n",
       "      <td>0.505051</td>\n",
       "      <td>0.236994</td>\n",
       "      <td>1</td>\n",
       "    </tr>\n",
       "    <tr>\n",
       "      <th>257833</th>\n",
       "      <td>0</td>\n",
       "      <td>0.116667</td>\n",
       "      <td>0.424242</td>\n",
       "      <td>0.173410</td>\n",
       "      <td>1</td>\n",
       "    </tr>\n",
       "    <tr>\n",
       "      <th>40241</th>\n",
       "      <td>1</td>\n",
       "      <td>0.233333</td>\n",
       "      <td>0.636364</td>\n",
       "      <td>0.352601</td>\n",
       "      <td>0</td>\n",
       "    </tr>\n",
       "    <tr>\n",
       "      <th>125935</th>\n",
       "      <td>1</td>\n",
       "      <td>0.166667</td>\n",
       "      <td>0.535354</td>\n",
       "      <td>0.294798</td>\n",
       "      <td>1</td>\n",
       "    </tr>\n",
       "    <tr>\n",
       "      <th>46265</th>\n",
       "      <td>0</td>\n",
       "      <td>0.100000</td>\n",
       "      <td>0.434343</td>\n",
       "      <td>0.202312</td>\n",
       "      <td>0</td>\n",
       "    </tr>\n",
       "    <tr>\n",
       "      <th>122025</th>\n",
       "      <td>0</td>\n",
       "      <td>0.066667</td>\n",
       "      <td>0.535354</td>\n",
       "      <td>0.242775</td>\n",
       "      <td>1</td>\n",
       "    </tr>\n",
       "    <tr>\n",
       "      <th>176771</th>\n",
       "      <td>1</td>\n",
       "      <td>0.266667</td>\n",
       "      <td>0.686869</td>\n",
       "      <td>0.329480</td>\n",
       "      <td>1</td>\n",
       "    </tr>\n",
       "    <tr>\n",
       "      <th>201901</th>\n",
       "      <td>1</td>\n",
       "      <td>0.200000</td>\n",
       "      <td>0.515152</td>\n",
       "      <td>0.277457</td>\n",
       "      <td>1</td>\n",
       "    </tr>\n",
       "    <tr>\n",
       "      <th>217384</th>\n",
       "      <td>0</td>\n",
       "      <td>0.166667</td>\n",
       "      <td>0.434343</td>\n",
       "      <td>0.219653</td>\n",
       "      <td>0</td>\n",
       "    </tr>\n",
       "  </tbody>\n",
       "</table>\n",
       "</div>"
      ],
      "text/plain": [
       "       Sex       Age    Height    Weight Medal\n",
       "176482   0  0.250000  0.393939  0.173410     0\n",
       "154036   0  0.100000  0.505051  0.236994     1\n",
       "257833   0  0.116667  0.424242  0.173410     1\n",
       "40241    1  0.233333  0.636364  0.352601     0\n",
       "125935   1  0.166667  0.535354  0.294798     1\n",
       "46265    0  0.100000  0.434343  0.202312     0\n",
       "122025   0  0.066667  0.535354  0.242775     1\n",
       "176771   1  0.266667  0.686869  0.329480     1\n",
       "201901   1  0.200000  0.515152  0.277457     1\n",
       "217384   0  0.166667  0.434343  0.219653     0"
      ]
     },
     "execution_count": 493,
     "metadata": {},
     "output_type": "execute_result"
    }
   ],
   "source": [
    "#on recup les events de Natation\n",
    "sport=clearData.loc[(clearData[\"Sport\"]==\"Swimming\")]\n",
    "\n",
    "#on drop les colonnes qui ne nous intéressent pas\n",
    "sport=sport.drop([\"Sport\"], axis=1)\n",
    "sport=sport.drop([\"ID\"], axis=1)\n",
    "\n",
    "#on sépare les wins et looses pour les échantilloner également\n",
    "wins=sport.loc[(sport[\"Medal\"]==1)] \n",
    "losses=sport.loc[(sport[\"Medal\"]==0)] \n",
    "losses=losses.sample(len(wins) )\n",
    "# footL.reset_index()\n",
    "sport=pd.concat([losses,wins])\n",
    "\n",
    "#mélange\n",
    "sport = shuffle(sport)\n",
    "\n",
    "\n",
    "sport.head(10)"
   ]
  },
  {
   "cell_type": "markdown",
   "metadata": {},
   "source": [
    "# REGRESSION LOGISTIQUE (natation)"
   ]
  },
  {
   "cell_type": "code",
   "execution_count": 494,
   "metadata": {
    "scrolled": true
   },
   "outputs": [
    {
     "name": "stdout",
     "output_type": "stream",
     "text": [
      "(4972, 4)\n",
      "(4972,)\n",
      "Coefficients:  [[-1.1321213   0.6588078   2.91122235  6.49989274]]\n",
      "Accuracy (%):  59.497487437185924\n",
      "              precision    recall  f1-score   support\n",
      "\n",
      "           0       0.58      0.61      0.59       482\n",
      "           1       0.61      0.58      0.60       513\n",
      "\n",
      "    accuracy                           0.59       995\n",
      "   macro avg       0.60      0.60      0.59       995\n",
      "weighted avg       0.60      0.59      0.60       995\n",
      "\n"
     ]
    }
   ],
   "source": [
    "\n",
    "reglog = LogisticRegression(solver=\"lbfgs\", penalty=\"none\", max_iter=300)\n",
    "\n",
    "X = sport.drop([\"Medal\"], axis=1)\n",
    "Y = sport[\"Medal\"].astype(int)\n",
    "\n",
    "print(X.shape)\n",
    "print(Y.shape)\n",
    "\n",
    "\n",
    "X_train, X_test, Y_train, Y_test = train_test_split(X, Y, shuffle=True, train_size=0.8, random_state=42)\n",
    "\n",
    "\n",
    "reglog = reglog.fit(X_train, Y_train)\n",
    "\n",
    "print('Coefficients: ', reglog.coef_)\n",
    "\n",
    "predicted_classes = reglog.predict(X_test)\n",
    "accuracy = accuracy_score(Y_test,predicted_classes)\n",
    "\n",
    "print('Accuracy (%): ', accuracy * 100)\n",
    "\n",
    "print(classification_report(Y_test,predicted_classes))"
   ]
  },
  {
   "cell_type": "markdown",
   "metadata": {},
   "source": [
    "## Analyse\n",
    "\n",
    "On observe que les modèles arrivent à prédire avec une précision et un rappel relativement proches les deux classes, bien que ces deux taux soient au-dessus de 50 signifiant une véritable prédiction, ils en restent assez proche. \n",
    "Mis à part une amélioration des prédictions dans les deux classes, ce modèle avec ce dataset ne permet pas de tirer de nettes prédictions du dataset.\n",
    "\n",
    "## Conclusion de l'analyse\n",
    "\n",
    "Pour continuer de tenter de prévoir les meilleures conditions physiques permettant de remporter une médaille, il est a priori nescessaire de changer de modèle. En effet, la régression logistique ne semble pas apporter de réponse claire."
   ]
  },
  {
   "cell_type": "markdown",
   "metadata": {},
   "source": [
    "# RANDOM FOREST (BAGGING) (natation)"
   ]
  },
  {
   "cell_type": "code",
   "execution_count": 495,
   "metadata": {},
   "outputs": [
    {
     "name": "stdout",
     "output_type": "stream",
     "text": [
      "Accuracy (%):  65.22613065326634\n",
      "              precision    recall  f1-score   support\n",
      "\n",
      "           0       0.67      0.60      0.63       495\n",
      "           1       0.64      0.70      0.67       500\n",
      "\n",
      "    accuracy                           0.65       995\n",
      "   macro avg       0.65      0.65      0.65       995\n",
      "weighted avg       0.65      0.65      0.65       995\n",
      "\n"
     ]
    }
   ],
   "source": [
    "X_train, X_test, Y_train, Y_test = train_test_split(X, Y, test_size=0.2)\n",
    "classifier = RandomForestClassifier(n_estimators=100, max_depth=10, random_state=42)\n",
    "classifier.fit(X_train, Y_train) # On peut mettre Y_train ou Y_train_lb. Pourquoi ?\n",
    "\n",
    "\n",
    "\n",
    "predicted_classes = classifier.predict(X_test)\n",
    "accuracy = accuracy_score(Y_test,predicted_classes)\n",
    "\n",
    "print('Accuracy (%): ', accuracy * 100)\n",
    "\n",
    "print(classification_report(Y_test,predicted_classes))"
   ]
  },
  {
   "cell_type": "markdown",
   "metadata": {},
   "source": [
    "## Analyse\n",
    "En utilisant l'algorithme de random forest, nous améliorons la précision et le rappel de notre modèle. En effet, on peut observer ici un gain de 5 et 6 pts pour les précisions ainsi que 7 et 4 pour les rappels respectivement pour les classes 0 et 1. \n",
    "Nous avons donc ici de meilleurs résultats qu'avec la régression linéaire. Cela peut s'expliquer par le fait que les forêts aléatoires sont moins sensibles à la variance des données et parent mieux le sur-apprentissage (réduit ici par le ré-échantillonage).\n",
    "\n",
    "\n",
    "## Conclusion de l'analyse\n",
    "Bien que la forêt aléatoire semble améliorer nos résultats, ces résultats restent toutefois peu fiables pour vouloir continuer à chercher un nouveau modèle à appliquer sur le dataset et affiner nos prévisions."
   ]
  },
  {
   "cell_type": "markdown",
   "metadata": {},
   "source": [
    "# BOOSTING (natation)"
   ]
  },
  {
   "cell_type": "code",
   "execution_count": 496,
   "metadata": {},
   "outputs": [
    {
     "name": "stderr",
     "output_type": "stream",
     "text": [
      "C:\\Users\\bukle\\AppData\\Local\\Temp/ipykernel_4704/1732949139.py:18: SettingWithCopyWarning: \n",
      "A value is trying to be set on a copy of a slice from a DataFrame.\n",
      "Try using .loc[row_indexer,col_indexer] = value instead\n",
      "\n",
      "See the caveats in the documentation: https://pandas.pydata.org/pandas-docs/stable/user_guide/indexing.html#returning-a-view-versus-a-copy\n",
      "  X_train[\"Sex\"]=X_train[\"Sex\"].astype(\"int\")\n",
      "C:\\Users\\bukle\\AppData\\Local\\Packages\\PythonSoftwareFoundation.Python.3.9_qbz5n2kfra8p0\\LocalCache\\local-packages\\Python39\\site-packages\\xgboost\\sklearn.py:1146: UserWarning: The use of label encoder in XGBClassifier is deprecated and will be removed in a future release. To remove this warning, do the following: 1) Pass option use_label_encoder=False when constructing XGBClassifier object; and 2) Encode your labels (y) as integers starting with 0, i.e. 0, 1, 2, ..., [num_class - 1].\n",
      "  warnings.warn(label_encoder_deprecation_msg, UserWarning)\n"
     ]
    },
    {
     "name": "stdout",
     "output_type": "stream",
     "text": [
      "[14:13:56] WARNING: C:/Users/Administrator/workspace/xgboost-win64_release_1.4.0/src/learner.cc:573: \n",
      "Parameters: { \"silent\" } might not be used.\n",
      "\n",
      "  This may not be accurate due to some parameters are only used in language bindings but\n",
      "  passed down to XGBoost core.  Or some parameters are not used but slip through this\n",
      "  verification. Please open an issue if you find above cases.\n",
      "\n",
      "\n",
      "[14:13:56] WARNING: C:/Users/Administrator/workspace/xgboost-win64_release_1.4.0/src/learner.cc:1095: Starting in XGBoost 1.3.0, the default evaluation metric used with the objective 'binary:logistic' was changed from 'error' to 'logloss'. Explicitly set eval_metric if you'd like to restore the old behavior.\n",
      "Accuracy (%):  62.51256281407035\n",
      "              precision    recall  f1-score   support\n",
      "\n",
      "           0       0.65      0.57      0.61       506\n",
      "           1       0.60      0.69      0.64       489\n",
      "\n",
      "    accuracy                           0.63       995\n",
      "   macro avg       0.63      0.63      0.62       995\n",
      "weighted avg       0.63      0.63      0.62       995\n",
      "\n"
     ]
    }
   ],
   "source": [
    "X_train, X_test, Y_train, Y_test = train_test_split(X, Y, test_size=0.2)\n",
    "\n",
    "# print(X)\n",
    "# print(Y)\n",
    "\n",
    "from sklearn.ensemble import RandomForestRegressor\n",
    "\n",
    "regressor = RandomForestRegressor(max_depth=3, n_estimators=20, random_state=42)\n",
    "regressor.fit(X_train, Y_train)\n",
    "\n",
    "from sklearn.metrics import mean_squared_error, mean_absolute_error\n",
    "\n",
    "# score = np.sqrt(mean_squared_error(Y_test, regressor.predict(X_test)))\n",
    "# print('RMSE: ',score)\n",
    "# score = mean_absolute_error(Y_test, regressor.predict(X_test))\n",
    "# print('MAE: ',score)\n",
    "\n",
    "X_train[\"Sex\"]=X_train[\"Sex\"].astype(\"int\")\n",
    "param = {'max_depth':7, 'eta':0.1, 'silent':1, 'objective':'binary:logistic',\n",
    "         'n_estimators': 500,\n",
    "        'learning_rate': 0.01,\n",
    "        'gamma': 0.1}\n",
    "booster = xgb.XGBClassifier(**param)\n",
    "booster.fit(X_train, Y_train)\n",
    "\n",
    "\n",
    "predicted_classes = booster.predict(X_test)\n",
    "accuracy = accuracy_score(Y_test,predicted_classes)\n",
    "\n",
    "print('Accuracy (%): ', accuracy * 100)\n",
    "\n",
    "print(classification_report(Y_test,predicted_classes))"
   ]
  },
  {
   "cell_type": "markdown",
   "metadata": {},
   "source": [
    "### Analyse \n",
    "Nous n'observons qu'une ténue amélioration de nos résultats. En effet, seule la précision des prédictions sur la classe 0, classe qui nous intéresse le moins à prédire par ailleurs, s'est améliorée. Tout le reste est plus bas. Nous avons des résultats de moins bonne qualité. \n",
    "\n",
    "### Conclusion de l'analyse\n",
    "Il semblerait que le modèle du boosting ne soit pas plus adapté que la forêt aléatoire à ce dataset. "
   ]
  },
  {
   "cell_type": "markdown",
   "metadata": {},
   "source": [
    "# ETUDE ECHANTILLON SPORTS INDIVIDUELS"
   ]
  },
  {
   "cell_type": "code",
   "execution_count": 497,
   "metadata": {},
   "outputs": [],
   "source": [
    "#j'ai testé en enlevant les sports avec des catégories de poids ca monte un peu le score ~3-4 %\n",
    "\n",
    "individuels=[\n",
    "'Alpine Skiing',\n",
    " 'Archery',\n",
    " 'Art Competitions',\n",
    " 'Athletics',\n",
    " 'Biathlon',\n",
    "#  'Boxing',\n",
    " 'Cross Country Skiing',\n",
    " 'Cycling',\n",
    " 'Diving',\n",
    " 'Equestrianism',\n",
    " 'Fencing',\n",
    " 'Figure Skating',\n",
    " 'Freestyle Skiing',\n",
    " 'Golf',\n",
    " 'Gymnastics',\n",
    "#  'Judo',\n",
    " 'Luge',\n",
    " 'Modern Pentathlon',\n",
    " 'Motorboating',\n",
    " 'Rhythmic Gymnastics',\n",
    " 'Sailing',\n",
    " 'Shooting',\n",
    " 'Short Track Speed Skating',\n",
    " 'Skeleton',\n",
    " 'Ski Jumping',\n",
    " 'Snowboarding',\n",
    " 'Speed Skating',\n",
    " 'Swimming',\n",
    " 'Table Tennis',\n",
    "#  'Taekwondo',\n",
    " 'Tennis',\n",
    " 'Trampolining',\n",
    " 'Triathlon',\n",
    " 'Weightlifting',\n",
    "#  'Wrestling'\n",
    "]\n",
    "\n",
    "sportsIndividuels=clearData.loc[clearData['Sport'].isin(individuels)]\n",
    "\n",
    "\n",
    "#on drop les colonnes qui ne ous interessent pas\n",
    "sportsIndividuels=sportsIndividuels.drop([\"Sport\"], axis=1)\n",
    "sportsIndividuels=sportsIndividuels.drop([\"ID\"], axis=1)"
   ]
  },
  {
   "cell_type": "markdown",
   "metadata": {},
   "source": [
    "Suite à l'étude sur la natation, il est apparu que les résultats sur ce sport sont révélés bien meilleurs que sur l'intégralité du dataset. Nous allons donc procéder à une augmentation des données injectées dans les différents modèles tout en faisant en sorte que ce ne soit que des athlètes ayant concouru dans des sports individuels. Cette catégorie de sport est ainsi plus logique à étudier dans le cadre de l'étude des seules constantes physisques d'un athlète (le jeu d'équipe primordial dans un jeu à plusieurs joueurs ne transparais pas dans ces constantes). "
   ]
  },
  {
   "cell_type": "markdown",
   "metadata": {},
   "source": [
    "# Partie pour échantilloner les non-médaillés en fonction des médaillés"
   ]
  },
  {
   "cell_type": "code",
   "execution_count": 498,
   "metadata": {},
   "outputs": [
    {
     "name": "stdout",
     "output_type": "stream",
     "text": [
      "(15873, 5)\n"
     ]
    },
    {
     "data": {
      "text/plain": [
       "(79365, 5)"
      ]
     },
     "execution_count": 498,
     "metadata": {},
     "output_type": "execute_result"
    }
   ],
   "source": [
    "wins=sportsIndividuels.loc[(sportsIndividuels[\"Medal\"]==1)] \n",
    "\n",
    "print(wins.shape)\n",
    "\n",
    "losses=sportsIndividuels.loc[(sportsIndividuels[\"Medal\"]==0)] \n",
    "losses=losses.sample(int(len(wins)*4) )\n",
    "\n",
    "#concat\n",
    "sportsIndividuels=pd.concat([losses,wins])\n",
    "#mélange\n",
    "sportsIndividuels = shuffle(sportsIndividuels)\n",
    "\n",
    "\n",
    "sportsIndividuels.shape"
   ]
  },
  {
   "cell_type": "markdown",
   "metadata": {},
   "source": [
    "# REGRESSION LOGISTIQUE (SPORTS INDIVIDUELS)"
   ]
  },
  {
   "cell_type": "code",
   "execution_count": 499,
   "metadata": {},
   "outputs": [
    {
     "name": "stdout",
     "output_type": "stream",
     "text": [
      "(79365, 4)\n",
      "(79365,)\n",
      "Coefficients:  [[-0.43821178  0.42692055  2.1911374   1.15954887]]\n",
      "Accuracy (%):  80.06678006678007\n",
      "              precision    recall  f1-score   support\n",
      "\n",
      "           0       0.80      1.00      0.89     12709\n",
      "           1       0.00      0.00      0.00      3164\n",
      "\n",
      "    accuracy                           0.80     15873\n",
      "   macro avg       0.40      0.50      0.44     15873\n",
      "weighted avg       0.64      0.80      0.71     15873\n",
      "\n"
     ]
    },
    {
     "name": "stderr",
     "output_type": "stream",
     "text": [
      "C:\\Users\\bukle\\AppData\\Local\\Packages\\PythonSoftwareFoundation.Python.3.9_qbz5n2kfra8p0\\LocalCache\\local-packages\\Python39\\site-packages\\sklearn\\metrics\\_classification.py:1248: UndefinedMetricWarning: Precision and F-score are ill-defined and being set to 0.0 in labels with no predicted samples. Use `zero_division` parameter to control this behavior.\n",
      "  _warn_prf(average, modifier, msg_start, len(result))\n",
      "C:\\Users\\bukle\\AppData\\Local\\Packages\\PythonSoftwareFoundation.Python.3.9_qbz5n2kfra8p0\\LocalCache\\local-packages\\Python39\\site-packages\\sklearn\\metrics\\_classification.py:1248: UndefinedMetricWarning: Precision and F-score are ill-defined and being set to 0.0 in labels with no predicted samples. Use `zero_division` parameter to control this behavior.\n",
      "  _warn_prf(average, modifier, msg_start, len(result))\n",
      "C:\\Users\\bukle\\AppData\\Local\\Packages\\PythonSoftwareFoundation.Python.3.9_qbz5n2kfra8p0\\LocalCache\\local-packages\\Python39\\site-packages\\sklearn\\metrics\\_classification.py:1248: UndefinedMetricWarning: Precision and F-score are ill-defined and being set to 0.0 in labels with no predicted samples. Use `zero_division` parameter to control this behavior.\n",
      "  _warn_prf(average, modifier, msg_start, len(result))\n"
     ]
    }
   ],
   "source": [
    "\n",
    "reglog = LogisticRegression(solver=\"lbfgs\", penalty=\"none\", max_iter=300)\n",
    "\n",
    "X = sportsIndividuels.drop([\"Medal\"], axis=1)\n",
    "Y = sportsIndividuels[\"Medal\"].astype(int)\n",
    "\n",
    "print(X.shape)\n",
    "print(Y.shape)\n",
    "\n",
    "\n",
    "X_train, X_test, Y_train, Y_test = train_test_split(X, Y, shuffle=True, train_size=0.8, random_state=42)\n",
    "\n",
    "\n",
    "reglog = reglog.fit(X_train, Y_train)\n",
    "\n",
    "print('Coefficients: ', reglog.coef_)\n",
    "\n",
    "predicted_classes = reglog.predict(X_test)\n",
    "accuracy = accuracy_score(Y_test,predicted_classes)\n",
    "\n",
    "print('Accuracy (%): ', accuracy * 100)\n",
    "\n",
    "print(classification_report(Y_test,predicted_classes))"
   ]
  },
  {
   "cell_type": "markdown",
   "metadata": {},
   "source": [
    "## Analyse\n",
    "\n",
    "On observe une précision de 80% pour la classe 1 et un rappel de 100% ce qui signifie que le modèle ne se trompe que très peu en prédisant une classe 0. Cepandant, le modèle se trompe 100% du temps pour la classe 1, chose qui est problématique car c'est précisèment les éléments entrant dans la classe 1 que nous souhaitons prédire.\n",
    "\n",
    "## Conclusion de l'analyse\n",
    "\n",
    "Avec des résultats aussi catastrophiques il est impossible d'utiliser le modèle de la régression logisitique pour étudier ce dataset."
   ]
  },
  {
   "cell_type": "markdown",
   "metadata": {},
   "source": [
    "# RANDOM FOREST (BAGGING) (SPORTS INDIVIDUELS)"
   ]
  },
  {
   "cell_type": "markdown",
   "metadata": {},
   "source": [
    "# Prédiction des conditions physiques permettant d'accéder au podium"
   ]
  },
  {
   "cell_type": "code",
   "execution_count": 500,
   "metadata": {},
   "outputs": [
    {
     "name": "stdout",
     "output_type": "stream",
     "text": [
      "Nombre de médaillés : 30181\n",
      "Nombre de non-médaillés : 175982\n"
     ]
    }
   ],
   "source": [
    "print(\"Nombre de médaillés : \" + str(len(clearData[clearData[\"Medal\"] == 1])))\n",
    "\n",
    "print(\"Nombre de non-médaillés : \" + str(len(clearData[clearData[\"Medal\"] == 0])))"
   ]
  },
  {
   "cell_type": "code",
   "execution_count": 501,
   "metadata": {},
   "outputs": [
    {
     "ename": "ValueError",
     "evalue": "could not convert string to float: 'Cross Country Skiing'",
     "output_type": "error",
     "traceback": [
      "\u001b[1;31m---------------------------------------------------------------------------\u001b[0m",
      "\u001b[1;31mValueError\u001b[0m                                Traceback (most recent call last)",
      "\u001b[1;32m~\\AppData\\Local\\Temp/ipykernel_4704/1988959752.py\u001b[0m in \u001b[0;36m<module>\u001b[1;34m\u001b[0m\n\u001b[0;32m     13\u001b[0m \u001b[1;33m\u001b[0m\u001b[0m\n\u001b[0;32m     14\u001b[0m \u001b[1;33m\u001b[0m\u001b[0m\n\u001b[1;32m---> 15\u001b[1;33m \u001b[0mreglog\u001b[0m \u001b[1;33m=\u001b[0m \u001b[0mreglog\u001b[0m\u001b[1;33m.\u001b[0m\u001b[0mfit\u001b[0m\u001b[1;33m(\u001b[0m\u001b[0mX_train\u001b[0m\u001b[1;33m,\u001b[0m \u001b[0mY_train\u001b[0m\u001b[1;33m)\u001b[0m\u001b[1;33m\u001b[0m\u001b[1;33m\u001b[0m\u001b[0m\n\u001b[0m\u001b[0;32m     16\u001b[0m \u001b[1;33m\u001b[0m\u001b[0m\n\u001b[0;32m     17\u001b[0m \u001b[0mprint\u001b[0m\u001b[1;33m(\u001b[0m\u001b[1;34m'Coefficients: '\u001b[0m\u001b[1;33m,\u001b[0m \u001b[0mreglog\u001b[0m\u001b[1;33m.\u001b[0m\u001b[0mcoef_\u001b[0m\u001b[1;33m)\u001b[0m\u001b[1;33m\u001b[0m\u001b[1;33m\u001b[0m\u001b[0m\n",
      "\u001b[1;32m~\\AppData\\Local\\Packages\\PythonSoftwareFoundation.Python.3.9_qbz5n2kfra8p0\\LocalCache\\local-packages\\Python39\\site-packages\\sklearn\\linear_model\\_logistic.py\u001b[0m in \u001b[0;36mfit\u001b[1;34m(self, X, y, sample_weight)\u001b[0m\n\u001b[0;32m   1342\u001b[0m             \u001b[0m_dtype\u001b[0m \u001b[1;33m=\u001b[0m \u001b[1;33m[\u001b[0m\u001b[0mnp\u001b[0m\u001b[1;33m.\u001b[0m\u001b[0mfloat64\u001b[0m\u001b[1;33m,\u001b[0m \u001b[0mnp\u001b[0m\u001b[1;33m.\u001b[0m\u001b[0mfloat32\u001b[0m\u001b[1;33m]\u001b[0m\u001b[1;33m\u001b[0m\u001b[1;33m\u001b[0m\u001b[0m\n\u001b[0;32m   1343\u001b[0m \u001b[1;33m\u001b[0m\u001b[0m\n\u001b[1;32m-> 1344\u001b[1;33m         X, y = self._validate_data(X, y, accept_sparse='csr', dtype=_dtype,\n\u001b[0m\u001b[0;32m   1345\u001b[0m                                    \u001b[0morder\u001b[0m\u001b[1;33m=\u001b[0m\u001b[1;34m\"C\"\u001b[0m\u001b[1;33m,\u001b[0m\u001b[1;33m\u001b[0m\u001b[1;33m\u001b[0m\u001b[0m\n\u001b[0;32m   1346\u001b[0m                                    accept_large_sparse=solver != 'liblinear')\n",
      "\u001b[1;32m~\\AppData\\Local\\Packages\\PythonSoftwareFoundation.Python.3.9_qbz5n2kfra8p0\\LocalCache\\local-packages\\Python39\\site-packages\\sklearn\\base.py\u001b[0m in \u001b[0;36m_validate_data\u001b[1;34m(self, X, y, reset, validate_separately, **check_params)\u001b[0m\n\u001b[0;32m    431\u001b[0m                 \u001b[0my\u001b[0m \u001b[1;33m=\u001b[0m \u001b[0mcheck_array\u001b[0m\u001b[1;33m(\u001b[0m\u001b[0my\u001b[0m\u001b[1;33m,\u001b[0m \u001b[1;33m**\u001b[0m\u001b[0mcheck_y_params\u001b[0m\u001b[1;33m)\u001b[0m\u001b[1;33m\u001b[0m\u001b[1;33m\u001b[0m\u001b[0m\n\u001b[0;32m    432\u001b[0m             \u001b[1;32melse\u001b[0m\u001b[1;33m:\u001b[0m\u001b[1;33m\u001b[0m\u001b[1;33m\u001b[0m\u001b[0m\n\u001b[1;32m--> 433\u001b[1;33m                 \u001b[0mX\u001b[0m\u001b[1;33m,\u001b[0m \u001b[0my\u001b[0m \u001b[1;33m=\u001b[0m \u001b[0mcheck_X_y\u001b[0m\u001b[1;33m(\u001b[0m\u001b[0mX\u001b[0m\u001b[1;33m,\u001b[0m \u001b[0my\u001b[0m\u001b[1;33m,\u001b[0m \u001b[1;33m**\u001b[0m\u001b[0mcheck_params\u001b[0m\u001b[1;33m)\u001b[0m\u001b[1;33m\u001b[0m\u001b[1;33m\u001b[0m\u001b[0m\n\u001b[0m\u001b[0;32m    434\u001b[0m             \u001b[0mout\u001b[0m \u001b[1;33m=\u001b[0m \u001b[0mX\u001b[0m\u001b[1;33m,\u001b[0m \u001b[0my\u001b[0m\u001b[1;33m\u001b[0m\u001b[1;33m\u001b[0m\u001b[0m\n\u001b[0;32m    435\u001b[0m \u001b[1;33m\u001b[0m\u001b[0m\n",
      "\u001b[1;32m~\\AppData\\Local\\Packages\\PythonSoftwareFoundation.Python.3.9_qbz5n2kfra8p0\\LocalCache\\local-packages\\Python39\\site-packages\\sklearn\\utils\\validation.py\u001b[0m in \u001b[0;36minner_f\u001b[1;34m(*args, **kwargs)\u001b[0m\n\u001b[0;32m     61\u001b[0m             \u001b[0mextra_args\u001b[0m \u001b[1;33m=\u001b[0m \u001b[0mlen\u001b[0m\u001b[1;33m(\u001b[0m\u001b[0margs\u001b[0m\u001b[1;33m)\u001b[0m \u001b[1;33m-\u001b[0m \u001b[0mlen\u001b[0m\u001b[1;33m(\u001b[0m\u001b[0mall_args\u001b[0m\u001b[1;33m)\u001b[0m\u001b[1;33m\u001b[0m\u001b[1;33m\u001b[0m\u001b[0m\n\u001b[0;32m     62\u001b[0m             \u001b[1;32mif\u001b[0m \u001b[0mextra_args\u001b[0m \u001b[1;33m<=\u001b[0m \u001b[1;36m0\u001b[0m\u001b[1;33m:\u001b[0m\u001b[1;33m\u001b[0m\u001b[1;33m\u001b[0m\u001b[0m\n\u001b[1;32m---> 63\u001b[1;33m                 \u001b[1;32mreturn\u001b[0m \u001b[0mf\u001b[0m\u001b[1;33m(\u001b[0m\u001b[1;33m*\u001b[0m\u001b[0margs\u001b[0m\u001b[1;33m,\u001b[0m \u001b[1;33m**\u001b[0m\u001b[0mkwargs\u001b[0m\u001b[1;33m)\u001b[0m\u001b[1;33m\u001b[0m\u001b[1;33m\u001b[0m\u001b[0m\n\u001b[0m\u001b[0;32m     64\u001b[0m \u001b[1;33m\u001b[0m\u001b[0m\n\u001b[0;32m     65\u001b[0m             \u001b[1;31m# extra_args > 0\u001b[0m\u001b[1;33m\u001b[0m\u001b[1;33m\u001b[0m\u001b[1;33m\u001b[0m\u001b[0m\n",
      "\u001b[1;32m~\\AppData\\Local\\Packages\\PythonSoftwareFoundation.Python.3.9_qbz5n2kfra8p0\\LocalCache\\local-packages\\Python39\\site-packages\\sklearn\\utils\\validation.py\u001b[0m in \u001b[0;36mcheck_X_y\u001b[1;34m(X, y, accept_sparse, accept_large_sparse, dtype, order, copy, force_all_finite, ensure_2d, allow_nd, multi_output, ensure_min_samples, ensure_min_features, y_numeric, estimator)\u001b[0m\n\u001b[0;32m    869\u001b[0m         \u001b[1;32mraise\u001b[0m \u001b[0mValueError\u001b[0m\u001b[1;33m(\u001b[0m\u001b[1;34m\"y cannot be None\"\u001b[0m\u001b[1;33m)\u001b[0m\u001b[1;33m\u001b[0m\u001b[1;33m\u001b[0m\u001b[0m\n\u001b[0;32m    870\u001b[0m \u001b[1;33m\u001b[0m\u001b[0m\n\u001b[1;32m--> 871\u001b[1;33m     X = check_array(X, accept_sparse=accept_sparse,\n\u001b[0m\u001b[0;32m    872\u001b[0m                     \u001b[0maccept_large_sparse\u001b[0m\u001b[1;33m=\u001b[0m\u001b[0maccept_large_sparse\u001b[0m\u001b[1;33m,\u001b[0m\u001b[1;33m\u001b[0m\u001b[1;33m\u001b[0m\u001b[0m\n\u001b[0;32m    873\u001b[0m                     \u001b[0mdtype\u001b[0m\u001b[1;33m=\u001b[0m\u001b[0mdtype\u001b[0m\u001b[1;33m,\u001b[0m \u001b[0morder\u001b[0m\u001b[1;33m=\u001b[0m\u001b[0morder\u001b[0m\u001b[1;33m,\u001b[0m \u001b[0mcopy\u001b[0m\u001b[1;33m=\u001b[0m\u001b[0mcopy\u001b[0m\u001b[1;33m,\u001b[0m\u001b[1;33m\u001b[0m\u001b[1;33m\u001b[0m\u001b[0m\n",
      "\u001b[1;32m~\\AppData\\Local\\Packages\\PythonSoftwareFoundation.Python.3.9_qbz5n2kfra8p0\\LocalCache\\local-packages\\Python39\\site-packages\\sklearn\\utils\\validation.py\u001b[0m in \u001b[0;36minner_f\u001b[1;34m(*args, **kwargs)\u001b[0m\n\u001b[0;32m     61\u001b[0m             \u001b[0mextra_args\u001b[0m \u001b[1;33m=\u001b[0m \u001b[0mlen\u001b[0m\u001b[1;33m(\u001b[0m\u001b[0margs\u001b[0m\u001b[1;33m)\u001b[0m \u001b[1;33m-\u001b[0m \u001b[0mlen\u001b[0m\u001b[1;33m(\u001b[0m\u001b[0mall_args\u001b[0m\u001b[1;33m)\u001b[0m\u001b[1;33m\u001b[0m\u001b[1;33m\u001b[0m\u001b[0m\n\u001b[0;32m     62\u001b[0m             \u001b[1;32mif\u001b[0m \u001b[0mextra_args\u001b[0m \u001b[1;33m<=\u001b[0m \u001b[1;36m0\u001b[0m\u001b[1;33m:\u001b[0m\u001b[1;33m\u001b[0m\u001b[1;33m\u001b[0m\u001b[0m\n\u001b[1;32m---> 63\u001b[1;33m                 \u001b[1;32mreturn\u001b[0m \u001b[0mf\u001b[0m\u001b[1;33m(\u001b[0m\u001b[1;33m*\u001b[0m\u001b[0margs\u001b[0m\u001b[1;33m,\u001b[0m \u001b[1;33m**\u001b[0m\u001b[0mkwargs\u001b[0m\u001b[1;33m)\u001b[0m\u001b[1;33m\u001b[0m\u001b[1;33m\u001b[0m\u001b[0m\n\u001b[0m\u001b[0;32m     64\u001b[0m \u001b[1;33m\u001b[0m\u001b[0m\n\u001b[0;32m     65\u001b[0m             \u001b[1;31m# extra_args > 0\u001b[0m\u001b[1;33m\u001b[0m\u001b[1;33m\u001b[0m\u001b[1;33m\u001b[0m\u001b[0m\n",
      "\u001b[1;32m~\\AppData\\Local\\Packages\\PythonSoftwareFoundation.Python.3.9_qbz5n2kfra8p0\\LocalCache\\local-packages\\Python39\\site-packages\\sklearn\\utils\\validation.py\u001b[0m in \u001b[0;36mcheck_array\u001b[1;34m(array, accept_sparse, accept_large_sparse, dtype, order, copy, force_all_finite, ensure_2d, allow_nd, ensure_min_samples, ensure_min_features, estimator)\u001b[0m\n\u001b[0;32m    671\u001b[0m                     \u001b[0marray\u001b[0m \u001b[1;33m=\u001b[0m \u001b[0marray\u001b[0m\u001b[1;33m.\u001b[0m\u001b[0mastype\u001b[0m\u001b[1;33m(\u001b[0m\u001b[0mdtype\u001b[0m\u001b[1;33m,\u001b[0m \u001b[0mcasting\u001b[0m\u001b[1;33m=\u001b[0m\u001b[1;34m\"unsafe\"\u001b[0m\u001b[1;33m,\u001b[0m \u001b[0mcopy\u001b[0m\u001b[1;33m=\u001b[0m\u001b[1;32mFalse\u001b[0m\u001b[1;33m)\u001b[0m\u001b[1;33m\u001b[0m\u001b[1;33m\u001b[0m\u001b[0m\n\u001b[0;32m    672\u001b[0m                 \u001b[1;32melse\u001b[0m\u001b[1;33m:\u001b[0m\u001b[1;33m\u001b[0m\u001b[1;33m\u001b[0m\u001b[0m\n\u001b[1;32m--> 673\u001b[1;33m                     \u001b[0marray\u001b[0m \u001b[1;33m=\u001b[0m \u001b[0mnp\u001b[0m\u001b[1;33m.\u001b[0m\u001b[0masarray\u001b[0m\u001b[1;33m(\u001b[0m\u001b[0marray\u001b[0m\u001b[1;33m,\u001b[0m \u001b[0morder\u001b[0m\u001b[1;33m=\u001b[0m\u001b[0morder\u001b[0m\u001b[1;33m,\u001b[0m \u001b[0mdtype\u001b[0m\u001b[1;33m=\u001b[0m\u001b[0mdtype\u001b[0m\u001b[1;33m)\u001b[0m\u001b[1;33m\u001b[0m\u001b[1;33m\u001b[0m\u001b[0m\n\u001b[0m\u001b[0;32m    674\u001b[0m             \u001b[1;32mexcept\u001b[0m \u001b[0mComplexWarning\u001b[0m \u001b[1;32mas\u001b[0m \u001b[0mcomplex_warning\u001b[0m\u001b[1;33m:\u001b[0m\u001b[1;33m\u001b[0m\u001b[1;33m\u001b[0m\u001b[0m\n\u001b[0;32m    675\u001b[0m                 raise ValueError(\"Complex data not supported\\n\"\n",
      "\u001b[1;32m~\\AppData\\Local\\Packages\\PythonSoftwareFoundation.Python.3.9_qbz5n2kfra8p0\\LocalCache\\local-packages\\Python39\\site-packages\\pandas\\core\\generic.py\u001b[0m in \u001b[0;36m__array__\u001b[1;34m(self, dtype)\u001b[0m\n\u001b[0;32m   1988\u001b[0m \u001b[1;33m\u001b[0m\u001b[0m\n\u001b[0;32m   1989\u001b[0m     \u001b[1;32mdef\u001b[0m \u001b[0m__array__\u001b[0m\u001b[1;33m(\u001b[0m\u001b[0mself\u001b[0m\u001b[1;33m,\u001b[0m \u001b[0mdtype\u001b[0m\u001b[1;33m:\u001b[0m \u001b[0mNpDtype\u001b[0m \u001b[1;33m|\u001b[0m \u001b[1;32mNone\u001b[0m \u001b[1;33m=\u001b[0m \u001b[1;32mNone\u001b[0m\u001b[1;33m)\u001b[0m \u001b[1;33m->\u001b[0m \u001b[0mnp\u001b[0m\u001b[1;33m.\u001b[0m\u001b[0mndarray\u001b[0m\u001b[1;33m:\u001b[0m\u001b[1;33m\u001b[0m\u001b[1;33m\u001b[0m\u001b[0m\n\u001b[1;32m-> 1990\u001b[1;33m         \u001b[1;32mreturn\u001b[0m \u001b[0mnp\u001b[0m\u001b[1;33m.\u001b[0m\u001b[0masarray\u001b[0m\u001b[1;33m(\u001b[0m\u001b[0mself\u001b[0m\u001b[1;33m.\u001b[0m\u001b[0m_values\u001b[0m\u001b[1;33m,\u001b[0m \u001b[0mdtype\u001b[0m\u001b[1;33m=\u001b[0m\u001b[0mdtype\u001b[0m\u001b[1;33m)\u001b[0m\u001b[1;33m\u001b[0m\u001b[1;33m\u001b[0m\u001b[0m\n\u001b[0m\u001b[0;32m   1991\u001b[0m \u001b[1;33m\u001b[0m\u001b[0m\n\u001b[0;32m   1992\u001b[0m     def __array_wrap__(\n",
      "\u001b[1;31mValueError\u001b[0m: could not convert string to float: 'Cross Country Skiing'"
     ]
    }
   ],
   "source": [
    "from sklearn.preprocessing import LabelEncoder\n",
    "from sklearn.linear_model import LogisticRegression\n",
    "from sklearn.datasets import make_blobs\n",
    "from sklearn.model_selection import train_test_split\n",
    "from sklearn.metrics import classification_report, accuracy_score\n",
    "\n",
    "reglog = LogisticRegression(solver=\"lbfgs\", penalty=\"none\", max_iter=300)\n",
    "\n",
    "X = clearData.drop([\"Medal\"], axis=1)\n",
    "Y = clearData[\"Medal\"].astype(int)\n",
    "\n",
    "X_train, X_test, Y_train, Y_test = train_test_split(X, Y, shuffle=True, train_size=0.8, random_state=42)\n",
    "\n",
    "\n",
    "reglog = reglog.fit(X_train, Y_train)\n",
    "\n",
    "print('Coefficients: ', reglog.coef_)\n",
    "\n",
    "predicted_classes = reglog.predict(X_test)\n",
    "accuracy = accuracy_score(Y_test,predicted_classes)\n",
    "\n",
    "print('Accuracy (%): ', accuracy * 100)\n",
    "\n",
    "print(classification_report(Y_test,predicted_classes))"
   ]
  },
  {
   "cell_type": "code",
   "execution_count": null,
   "metadata": {},
   "outputs": [
    {
     "name": "stdout",
     "output_type": "stream",
     "text": [
      "Coefficients:  [[-0.3281155  -0.4709259   1.78627192  0.46135788  0.00374539]]\n",
      "Accuracy (%):  60.79582517938682\n",
      "              precision    recall  f1-score   support\n",
      "\n",
      "           0       0.52      0.02      0.04      3612\n",
      "           1       0.61      0.99      0.75      5586\n",
      "\n",
      "    accuracy                           0.61      9198\n",
      "   macro avg       0.56      0.50      0.40      9198\n",
      "weighted avg       0.57      0.61      0.47      9198\n",
      "\n"
     ]
    }
   ],
   "source": [
    "lenCD = int(len(clearData[clearData.Medal == 1])*0.65)\n",
    "\n",
    "sampleData = pd.concat([clearData[clearData.Medal == 1], clearData[clearData.Medal == 0].sample(lenCD)])\n",
    "\n",
    "reglog = LogisticRegression(solver=\"lbfgs\", penalty=\"none\", max_iter=300)\n",
    "\n",
    "X = sampleData.drop([\"Medal\"], axis=1)\n",
    "Y = sampleData[\"Medal\"].astype(int)\n",
    "\n",
    "X_train, X_test, Y_train, Y_test = train_test_split(X, Y, shuffle=True, train_size=0.8, random_state=42)\n",
    "\n",
    "\n",
    "reglog = reglog.fit(X_train, Y_train)\n",
    "\n",
    "print('Coefficients: ', reglog.coef_)\n",
    "\n",
    "predicted_classes = reglog.predict(X_test)\n",
    "accuracy = accuracy_score(Y_test,predicted_classes)\n",
    "\n",
    "print('Accuracy (%): ', accuracy * 100)\n",
    "\n",
    "print(classification_report(Y_test,predicted_classes))"
   ]
  },
  {
   "cell_type": "code",
   "execution_count": null,
   "metadata": {},
   "outputs": [
    {
     "name": "stdout",
     "output_type": "stream",
     "text": [
      "Accuracy (%):  79.86517986517987\n",
      "              precision    recall  f1-score   support\n",
      "\n",
      "           0       0.80      1.00      0.89     12666\n",
      "           1       0.60      0.01      0.02      3207\n",
      "\n",
      "    accuracy                           0.80     15873\n",
      "   macro avg       0.70      0.50      0.45     15873\n",
      "weighted avg       0.76      0.80      0.71     15873\n",
      "\n"
     ]
    }
   ],
   "source": [
    "# X_train, X_test, Y_train, Y_test = train_test_split(X, Y, test_size=0.2)\n",
    "classifier = RandomForestClassifier(n_estimators=100, max_depth=10, random_state=42)\n",
    "classifier.fit(X_train, Y_train) # On peut mettre Y_train ou Y_train_lb. Pourquoi ?\n",
    "\n",
    "\n",
    "\n",
    "predicted_classes = classifier.predict(X_test)\n",
    "accuracy = accuracy_score(Y_test,predicted_classes)\n",
    "\n",
    "print('Accuracy (%): ', accuracy * 100)\n",
    "\n",
    "print(classification_report(Y_test,predicted_classes))"
   ]
  },
  {
   "cell_type": "markdown",
   "metadata": {},
   "source": [
    "## Analyse\n",
    "\n",
    "On observe des précisions de 80% et 60% ainsi qu'un rappel de 100% et 1% pour les classes 0 et 1. \n",
    "\n",
    "\n",
    "## Conclusion de l'analyse\n",
    "\n",
    "Cela signifie que le modèle est excellent pour prédire quelles constantes physiques ne permettent pas de gagner de médaille."
   ]
  },
  {
   "cell_type": "markdown",
   "metadata": {},
   "source": [
    "# BOOSTING (SPORTS INDIVIDUELS)"
   ]
  },
  {
   "cell_type": "code",
   "execution_count": null,
   "metadata": {},
   "outputs": [
    {
     "name": "stderr",
     "output_type": "stream",
     "text": [
      "C:\\Users\\Theo\\AppData\\Local\\Programs\\Python\\Python37\\lib\\site-packages\\ipykernel_launcher.py:18: SettingWithCopyWarning: \n",
      "A value is trying to be set on a copy of a slice from a DataFrame.\n",
      "Try using .loc[row_indexer,col_indexer] = value instead\n",
      "\n",
      "See the caveats in the documentation: https://pandas.pydata.org/pandas-docs/stable/user_guide/indexing.html#returning-a-view-versus-a-copy\n",
      "C:\\Users\\Theo\\AppData\\Local\\Programs\\Python\\Python37\\lib\\site-packages\\xgboost\\sklearn.py:1146: UserWarning: The use of label encoder in XGBClassifier is deprecated and will be removed in a future release. To remove this warning, do the following: 1) Pass option use_label_encoder=False when constructing XGBClassifier object; and 2) Encode your labels (y) as integers starting with 0, i.e. 0, 1, 2, ..., [num_class - 1].\n",
      "  warnings.warn(label_encoder_deprecation_msg, UserWarning)\n"
     ]
    },
    {
     "name": "stdout",
     "output_type": "stream",
     "text": [
      "[00:37:32] WARNING: C:/Users/Administrator/workspace/xgboost-win64_release_1.4.0/src/learner.cc:573: \n",
      "Parameters: { \"silent\" } might not be used.\n",
      "\n",
      "  This may not be accurate due to some parameters are only used in language bindings but\n",
      "  passed down to XGBoost core.  Or some parameters are not used but slip through this\n",
      "  verification. Please open an issue if you find above cases.\n",
      "\n",
      "\n",
      "[00:37:32] WARNING: C:/Users/Administrator/workspace/xgboost-win64_release_1.4.0/src/learner.cc:1095: Starting in XGBoost 1.3.0, the default evaluation metric used with the objective 'binary:logistic' was changed from 'error' to 'logloss'. Explicitly set eval_metric if you'd like to restore the old behavior.\n",
      "Accuracy (%):  79.83367983367984\n",
      "              precision    recall  f1-score   support\n",
      "\n",
      "           0       0.80      1.00      0.89     12666\n",
      "           1       0.53      0.02      0.03      3207\n",
      "\n",
      "    accuracy                           0.80     15873\n",
      "   macro avg       0.66      0.51      0.46     15873\n",
      "weighted avg       0.75      0.80      0.72     15873\n",
      "\n"
     ]
    }
   ],
   "source": [
    "# X_train, X_test, Y_train, Y_test = train_test_split(X, Y, test_size=0.2)\n",
    "\n",
    "# print(X)\n",
    "# print(Y)\n",
    "\n",
    "from sklearn.ensemble import RandomForestRegressor\n",
    "\n",
    "regressor = RandomForestRegressor(max_depth=3, n_estimators=20, random_state=42)\n",
    "regressor.fit(X_train, Y_train)\n",
    "\n",
    "# from sklearn.metrics import mean_squared_error, mean_absolute_error\n",
    "\n",
    "# score = np.sqrt(mean_squared_error(Y_test, regressor.predict(X_test)))\n",
    "# print('RMSE: ',score)\n",
    "# score = mean_absolute_error(Y_test, regressor.predict(X_test))\n",
    "# print('MAE: ',score)\n",
    "\n",
    "X_train[\"Sex\"]=X_train[\"Sex\"].astype(\"int\")\n",
    "param = {'max_depth':10, 'eta':0.1, 'silent':1, 'objective':'binary:logistic',\n",
    "         'n_estimators': 500,\n",
    "        'learning_rate': 0.01,\n",
    "        'gamma': 0.2}\n",
    "booster = xgb.XGBClassifier(**param)\n",
    "booster.fit(X_train, Y_train)\n",
    "\n",
    "\n",
    "predicted_classes = booster.predict(X_test)\n",
    "accuracy = accuracy_score(Y_test,predicted_classes)\n",
    "\n",
    "print('Accuracy (%): ', accuracy * 100)\n",
    "\n",
    "print(classification_report(Y_test,predicted_classes))"
   ]
  },
  {
   "cell_type": "markdown",
   "metadata": {},
   "source": [
    "## Analyse\n",
    "\n",
    "On observe des précisions de 80% et 53% ainsi qu'un rappel de 100% et 2% pour les classes 0 et 1. \n",
    "\n",
    "## Conclusion de l'analyse\n",
    "\n",
    "Les résultats sont très semblables à ceux de la forêt aléatoire avec néanmoins une perte de qualité des résulats dans la classe 1."
   ]
  },
  {
   "cell_type": "markdown",
   "metadata": {},
   "source": [
    "# Problèmes rencontrés sur les données\n",
    "\n"
   ]
  },
  {
   "cell_type": "markdown",
   "metadata": {},
   "source": [
    "## Quantité\n",
    "\n",
    "Ce dataset nous donne une grande quantité de données (plus de 200 000 lignes tout de même) mais notre problématique nous demande d'étudier chaque sport, et donc de diviser drastiquement le nombre de lignes. En plus de cela, nous avons remarqué que dans notre échantillon, nous avons beaucoup trop de personnes non médaillées par rapport à celles médaillées (ce qui est logique, il y a beaucoup de participants, et le podium des 3 premiers en représente qu'une faible partie). Nos modèles avaient donc du mal à bien prédire.\n",
    "Il a fallu enlever une partie des non médaillés, pour avoir une population un peu plus équivalente (un tier/deux tier) mais ce procédé renforce encore plus le problème de depart qui nous donne un petit échantillon.\n",
    "\n",
    "## Cohérence des données avec la problématique\n",
    "\n",
    "Notre problématique nous demande de travailler et de prédire sur les caractéristiques physiques. Or, certains sports et categories ont d'autres caractéristiques qui peuvent être prises en compte: on pense notamment aux sports collectifs, tel que le football et basketball par exemple, qui vont demander une certaine cohésion et travail d'équipe que l'on ne peut ni quantifier ni qualifier. C'est donc pour cette raison que nous avons décidé de travailler sur des sports individuels.\n",
    "\n",
    "Les informations que nous avions sur les athlètes sont également limitées. Pour un athlète considéré, il aurait sans doute été intéréssant d'avoir son classement mondial pour les jeux auquels il a participés, son record personnel dans son épreuve avant d'y participer ou bien encore son coach."
   ]
  },
  {
   "cell_type": "markdown",
   "metadata": {},
   "source": [
    "**Malgré l'étude sur différents échantillons et avec différents modèles, aucune correlation forte n'a pu été trouvée entre les carctéristiques physiques des participants et leurs capacités à obtenir des médailles.**"
   ]
  },
  {
   "cell_type": "markdown",
   "metadata": {},
   "source": [
    "## Conclusion finale\n",
    "\n",
    "En conclusion, on pourra dire que notre problématique n'était peut être pas très adaptée à notre dataset. En effet, nous n'avons pas réussi à mettre en exergue une corrélation importante et ainsi à prédire les conditions physqiues optimales permettant de remporter des médailles.\n",
    "\n",
    "Si notre étude de la problématique ne s'est pas soldée par une réussite, cela se veut tout de même rassurant dans la vie réelle. En effet, ce serait désolant d'être en mesure de prédire rééllement les résultats des jeux olympiques: si les seules caratéristiques physiques d'un athlète étaient un gage de déterminisme, il n'y aurait plus aucune raison pour ce dernier de participer dans le cas où il ne correspondrait pas aux critères supposés gagnants. Cela signifie que pour espérer gagner une médaille dans une compétition d'une telle envergure, il ne suffit pas d'avoir un pysique type et que l'équation de la victoire est en réalité bien plus complexe.  "
   ]
  },
  {
   "cell_type": "markdown",
   "metadata": {},
   "source": [
    "# Améliorations possibles\n",
    "\n",
    "Il serait sans doute possible d'améliorer nos résultats en poursuivant les recherches en affinant sport par sport, catégorie par catégorie en plaçant plus d'importance sur une variable plus qu'une autre en fonction du sport et de la catégorie.\n",
    "De plus, il serait envisageable de croiser ces données avec d'autres datasets de manière à ajouter des données liées aux conditions physiques des athlètes."
   ]
  },
  {
   "cell_type": "code",
   "execution_count": null,
   "metadata": {},
   "outputs": [],
   "source": []
  }
 ],
 "metadata": {
  "interpreter": {
   "hash": "9d3ffbafb9a26a484d1051890a2486a7bf854cda984fd591b2ab15541aeade44"
  },
  "kernelspec": {
   "display_name": "Python 3",
   "language": "python",
   "name": "python3"
  },
  "language_info": {
   "codemirror_mode": {
    "name": "ipython",
    "version": 3
   },
   "file_extension": ".py",
   "mimetype": "text/x-python",
   "name": "python",
   "nbconvert_exporter": "python",
   "pygments_lexer": "ipython3",
   "version": "3.8.8"
  }
 },
 "nbformat": 4,
 "nbformat_minor": 2
}
